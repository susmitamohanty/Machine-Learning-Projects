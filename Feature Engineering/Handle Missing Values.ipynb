{
 "cells": [
  {
   "cell_type": "markdown",
   "id": "09d52210",
   "metadata": {},
   "source": [
    "Data cleaning is the process of finding and correcting incorrect data present in the dataset. Handling mssing values is an important part of the data cleaning step. Most of the machine learning models  will provide an error if we pass NaN values into it. The easiest way is to just fill them up with 0, but this can reduce our model accuracy significantly.\n",
    "\n",
    "For filling missing values, there are many methods available."
   ]
  },
  {
   "cell_type": "markdown",
   "id": "64c3225f",
   "metadata": {},
   "source": [
    "#### Types of missing data\n",
    "\n",
    "- Missing completely at random (MCAR)\n",
    "    - the data can be seen as a simple random sample of the entire dataset of interest\n",
    "    - overly optimistic and frequently unfounded assumption\n",
    "    - occurs when the chance of missing data is unrelated to the prediction value\n",
    "    - solution is to delete rows and columns\n",
    "    \n",
    "- Missing at Random (MAR)\n",
    "    - observed data are systematically linked to the missing data\n",
    "    - May or may not result in a bias\n",
    "    - Solution is data imputation\n",
    "\n",
    "- Missing not at Random (MNAR)\n",
    "    - missing data is always linked to the unobserved data\n",
    "    - can be biased because the missing data sources aren’t counted\n",
    "    - solution is to do more reserach on data and find missing values\n",
    "    "
   ]
  },
  {
   "cell_type": "markdown",
   "id": "88be5b28",
   "metadata": {},
   "source": [
    "#### Load the data"
   ]
  },
  {
   "cell_type": "code",
   "execution_count": 389,
   "id": "88267504",
   "metadata": {},
   "outputs": [
    {
     "data": {
      "text/html": [
       "<div>\n",
       "<style scoped>\n",
       "    .dataframe tbody tr th:only-of-type {\n",
       "        vertical-align: middle;\n",
       "    }\n",
       "\n",
       "    .dataframe tbody tr th {\n",
       "        vertical-align: top;\n",
       "    }\n",
       "\n",
       "    .dataframe thead th {\n",
       "        text-align: right;\n",
       "    }\n",
       "</style>\n",
       "<table border=\"1\" class=\"dataframe\">\n",
       "  <thead>\n",
       "    <tr style=\"text-align: right;\">\n",
       "      <th></th>\n",
       "      <th>pclass</th>\n",
       "      <th>survived</th>\n",
       "      <th>name</th>\n",
       "      <th>sex</th>\n",
       "      <th>age</th>\n",
       "      <th>sibsp</th>\n",
       "      <th>parch</th>\n",
       "      <th>ticket</th>\n",
       "      <th>fare</th>\n",
       "      <th>cabin</th>\n",
       "      <th>embarked</th>\n",
       "      <th>boat</th>\n",
       "      <th>body</th>\n",
       "      <th>home.dest</th>\n",
       "    </tr>\n",
       "  </thead>\n",
       "  <tbody>\n",
       "    <tr>\n",
       "      <th>0</th>\n",
       "      <td>1.0</td>\n",
       "      <td>1.0</td>\n",
       "      <td>Allen, Miss. Elisabeth Walton</td>\n",
       "      <td>female</td>\n",
       "      <td>29.0000</td>\n",
       "      <td>0.0</td>\n",
       "      <td>0.0</td>\n",
       "      <td>24160</td>\n",
       "      <td>211.3375</td>\n",
       "      <td>B5</td>\n",
       "      <td>S</td>\n",
       "      <td>2</td>\n",
       "      <td>NaN</td>\n",
       "      <td>St Louis, MO</td>\n",
       "    </tr>\n",
       "    <tr>\n",
       "      <th>1</th>\n",
       "      <td>1.0</td>\n",
       "      <td>1.0</td>\n",
       "      <td>Allison, Master. Hudson Trevor</td>\n",
       "      <td>male</td>\n",
       "      <td>0.9167</td>\n",
       "      <td>1.0</td>\n",
       "      <td>2.0</td>\n",
       "      <td>113781</td>\n",
       "      <td>151.5500</td>\n",
       "      <td>C22 C26</td>\n",
       "      <td>S</td>\n",
       "      <td>11</td>\n",
       "      <td>NaN</td>\n",
       "      <td>Montreal, PQ / Chesterville, ON</td>\n",
       "    </tr>\n",
       "    <tr>\n",
       "      <th>2</th>\n",
       "      <td>1.0</td>\n",
       "      <td>0.0</td>\n",
       "      <td>Allison, Miss. Helen Loraine</td>\n",
       "      <td>female</td>\n",
       "      <td>2.0000</td>\n",
       "      <td>1.0</td>\n",
       "      <td>2.0</td>\n",
       "      <td>113781</td>\n",
       "      <td>151.5500</td>\n",
       "      <td>C22 C26</td>\n",
       "      <td>S</td>\n",
       "      <td>NaN</td>\n",
       "      <td>NaN</td>\n",
       "      <td>Montreal, PQ / Chesterville, ON</td>\n",
       "    </tr>\n",
       "    <tr>\n",
       "      <th>3</th>\n",
       "      <td>1.0</td>\n",
       "      <td>0.0</td>\n",
       "      <td>Allison, Mr. Hudson Joshua Creighton</td>\n",
       "      <td>male</td>\n",
       "      <td>30.0000</td>\n",
       "      <td>1.0</td>\n",
       "      <td>2.0</td>\n",
       "      <td>113781</td>\n",
       "      <td>151.5500</td>\n",
       "      <td>C22 C26</td>\n",
       "      <td>S</td>\n",
       "      <td>NaN</td>\n",
       "      <td>135.0</td>\n",
       "      <td>Montreal, PQ / Chesterville, ON</td>\n",
       "    </tr>\n",
       "    <tr>\n",
       "      <th>4</th>\n",
       "      <td>1.0</td>\n",
       "      <td>0.0</td>\n",
       "      <td>Allison, Mrs. Hudson J C (Bessie Waldo Daniels)</td>\n",
       "      <td>female</td>\n",
       "      <td>25.0000</td>\n",
       "      <td>1.0</td>\n",
       "      <td>2.0</td>\n",
       "      <td>113781</td>\n",
       "      <td>151.5500</td>\n",
       "      <td>C22 C26</td>\n",
       "      <td>S</td>\n",
       "      <td>NaN</td>\n",
       "      <td>NaN</td>\n",
       "      <td>Montreal, PQ / Chesterville, ON</td>\n",
       "    </tr>\n",
       "  </tbody>\n",
       "</table>\n",
       "</div>"
      ],
      "text/plain": [
       "   pclass  survived                                             name     sex  \\\n",
       "0     1.0       1.0                    Allen, Miss. Elisabeth Walton  female   \n",
       "1     1.0       1.0                   Allison, Master. Hudson Trevor    male   \n",
       "2     1.0       0.0                     Allison, Miss. Helen Loraine  female   \n",
       "3     1.0       0.0             Allison, Mr. Hudson Joshua Creighton    male   \n",
       "4     1.0       0.0  Allison, Mrs. Hudson J C (Bessie Waldo Daniels)  female   \n",
       "\n",
       "       age  sibsp  parch  ticket      fare    cabin embarked boat   body  \\\n",
       "0  29.0000    0.0    0.0   24160  211.3375       B5        S    2    NaN   \n",
       "1   0.9167    1.0    2.0  113781  151.5500  C22 C26        S   11    NaN   \n",
       "2   2.0000    1.0    2.0  113781  151.5500  C22 C26        S  NaN    NaN   \n",
       "3  30.0000    1.0    2.0  113781  151.5500  C22 C26        S  NaN  135.0   \n",
       "4  25.0000    1.0    2.0  113781  151.5500  C22 C26        S  NaN    NaN   \n",
       "\n",
       "                         home.dest  \n",
       "0                     St Louis, MO  \n",
       "1  Montreal, PQ / Chesterville, ON  \n",
       "2  Montreal, PQ / Chesterville, ON  \n",
       "3  Montreal, PQ / Chesterville, ON  \n",
       "4  Montreal, PQ / Chesterville, ON  "
      ]
     },
     "execution_count": 389,
     "metadata": {},
     "output_type": "execute_result"
    }
   ],
   "source": [
    "import pandas as pd\n",
    "df=pd.read_csv('titanic.csv')\n",
    "df.head()"
   ]
  },
  {
   "cell_type": "markdown",
   "id": "e4ac3157",
   "metadata": {},
   "source": [
    "##### Extract categorical columns"
   ]
  },
  {
   "cell_type": "code",
   "execution_count": 390,
   "id": "2b597d02",
   "metadata": {},
   "outputs": [
    {
     "data": {
      "text/html": [
       "<div>\n",
       "<style scoped>\n",
       "    .dataframe tbody tr th:only-of-type {\n",
       "        vertical-align: middle;\n",
       "    }\n",
       "\n",
       "    .dataframe tbody tr th {\n",
       "        vertical-align: top;\n",
       "    }\n",
       "\n",
       "    .dataframe thead th {\n",
       "        text-align: right;\n",
       "    }\n",
       "</style>\n",
       "<table border=\"1\" class=\"dataframe\">\n",
       "  <thead>\n",
       "    <tr style=\"text-align: right;\">\n",
       "      <th></th>\n",
       "      <th>name</th>\n",
       "      <th>sex</th>\n",
       "      <th>ticket</th>\n",
       "      <th>cabin</th>\n",
       "      <th>embarked</th>\n",
       "      <th>boat</th>\n",
       "      <th>home.dest</th>\n",
       "    </tr>\n",
       "  </thead>\n",
       "  <tbody>\n",
       "    <tr>\n",
       "      <th>0</th>\n",
       "      <td>Allen, Miss. Elisabeth Walton</td>\n",
       "      <td>female</td>\n",
       "      <td>24160</td>\n",
       "      <td>B5</td>\n",
       "      <td>S</td>\n",
       "      <td>2</td>\n",
       "      <td>St Louis, MO</td>\n",
       "    </tr>\n",
       "    <tr>\n",
       "      <th>1</th>\n",
       "      <td>Allison, Master. Hudson Trevor</td>\n",
       "      <td>male</td>\n",
       "      <td>113781</td>\n",
       "      <td>C22 C26</td>\n",
       "      <td>S</td>\n",
       "      <td>11</td>\n",
       "      <td>Montreal, PQ / Chesterville, ON</td>\n",
       "    </tr>\n",
       "    <tr>\n",
       "      <th>2</th>\n",
       "      <td>Allison, Miss. Helen Loraine</td>\n",
       "      <td>female</td>\n",
       "      <td>113781</td>\n",
       "      <td>C22 C26</td>\n",
       "      <td>S</td>\n",
       "      <td>NaN</td>\n",
       "      <td>Montreal, PQ / Chesterville, ON</td>\n",
       "    </tr>\n",
       "    <tr>\n",
       "      <th>3</th>\n",
       "      <td>Allison, Mr. Hudson Joshua Creighton</td>\n",
       "      <td>male</td>\n",
       "      <td>113781</td>\n",
       "      <td>C22 C26</td>\n",
       "      <td>S</td>\n",
       "      <td>NaN</td>\n",
       "      <td>Montreal, PQ / Chesterville, ON</td>\n",
       "    </tr>\n",
       "    <tr>\n",
       "      <th>4</th>\n",
       "      <td>Allison, Mrs. Hudson J C (Bessie Waldo Daniels)</td>\n",
       "      <td>female</td>\n",
       "      <td>113781</td>\n",
       "      <td>C22 C26</td>\n",
       "      <td>S</td>\n",
       "      <td>NaN</td>\n",
       "      <td>Montreal, PQ / Chesterville, ON</td>\n",
       "    </tr>\n",
       "    <tr>\n",
       "      <th>...</th>\n",
       "      <td>...</td>\n",
       "      <td>...</td>\n",
       "      <td>...</td>\n",
       "      <td>...</td>\n",
       "      <td>...</td>\n",
       "      <td>...</td>\n",
       "      <td>...</td>\n",
       "    </tr>\n",
       "    <tr>\n",
       "      <th>1305</th>\n",
       "      <td>Zabour, Miss. Thamine</td>\n",
       "      <td>female</td>\n",
       "      <td>2665</td>\n",
       "      <td>NaN</td>\n",
       "      <td>C</td>\n",
       "      <td>NaN</td>\n",
       "      <td>NaN</td>\n",
       "    </tr>\n",
       "    <tr>\n",
       "      <th>1306</th>\n",
       "      <td>Zakarian, Mr. Mapriededer</td>\n",
       "      <td>male</td>\n",
       "      <td>2656</td>\n",
       "      <td>NaN</td>\n",
       "      <td>C</td>\n",
       "      <td>NaN</td>\n",
       "      <td>NaN</td>\n",
       "    </tr>\n",
       "    <tr>\n",
       "      <th>1307</th>\n",
       "      <td>Zakarian, Mr. Ortin</td>\n",
       "      <td>male</td>\n",
       "      <td>2670</td>\n",
       "      <td>NaN</td>\n",
       "      <td>C</td>\n",
       "      <td>NaN</td>\n",
       "      <td>NaN</td>\n",
       "    </tr>\n",
       "    <tr>\n",
       "      <th>1308</th>\n",
       "      <td>Zimmerman, Mr. Leo</td>\n",
       "      <td>male</td>\n",
       "      <td>315082</td>\n",
       "      <td>NaN</td>\n",
       "      <td>S</td>\n",
       "      <td>NaN</td>\n",
       "      <td>NaN</td>\n",
       "    </tr>\n",
       "    <tr>\n",
       "      <th>1309</th>\n",
       "      <td>NaN</td>\n",
       "      <td>NaN</td>\n",
       "      <td>NaN</td>\n",
       "      <td>NaN</td>\n",
       "      <td>NaN</td>\n",
       "      <td>NaN</td>\n",
       "      <td>NaN</td>\n",
       "    </tr>\n",
       "  </tbody>\n",
       "</table>\n",
       "<p>1310 rows × 7 columns</p>\n",
       "</div>"
      ],
      "text/plain": [
       "                                                 name     sex  ticket  \\\n",
       "0                       Allen, Miss. Elisabeth Walton  female   24160   \n",
       "1                      Allison, Master. Hudson Trevor    male  113781   \n",
       "2                        Allison, Miss. Helen Loraine  female  113781   \n",
       "3                Allison, Mr. Hudson Joshua Creighton    male  113781   \n",
       "4     Allison, Mrs. Hudson J C (Bessie Waldo Daniels)  female  113781   \n",
       "...                                               ...     ...     ...   \n",
       "1305                            Zabour, Miss. Thamine  female    2665   \n",
       "1306                        Zakarian, Mr. Mapriededer    male    2656   \n",
       "1307                              Zakarian, Mr. Ortin    male    2670   \n",
       "1308                               Zimmerman, Mr. Leo    male  315082   \n",
       "1309                                              NaN     NaN     NaN   \n",
       "\n",
       "        cabin embarked boat                        home.dest  \n",
       "0          B5        S    2                     St Louis, MO  \n",
       "1     C22 C26        S   11  Montreal, PQ / Chesterville, ON  \n",
       "2     C22 C26        S  NaN  Montreal, PQ / Chesterville, ON  \n",
       "3     C22 C26        S  NaN  Montreal, PQ / Chesterville, ON  \n",
       "4     C22 C26        S  NaN  Montreal, PQ / Chesterville, ON  \n",
       "...       ...      ...  ...                              ...  \n",
       "1305      NaN        C  NaN                              NaN  \n",
       "1306      NaN        C  NaN                              NaN  \n",
       "1307      NaN        C  NaN                              NaN  \n",
       "1308      NaN        S  NaN                              NaN  \n",
       "1309      NaN      NaN  NaN                              NaN  \n",
       "\n",
       "[1310 rows x 7 columns]"
      ]
     },
     "execution_count": 390,
     "metadata": {},
     "output_type": "execute_result"
    }
   ],
   "source": [
    "cat_cols = df.select_dtypes(include=\"O\")\n",
    "cat_cols"
   ]
  },
  {
   "cell_type": "markdown",
   "id": "99949c85",
   "metadata": {},
   "source": [
    "##### Extract numerical columns"
   ]
  },
  {
   "cell_type": "code",
   "execution_count": 391,
   "id": "cda1beb2",
   "metadata": {},
   "outputs": [
    {
     "data": {
      "text/html": [
       "<div>\n",
       "<style scoped>\n",
       "    .dataframe tbody tr th:only-of-type {\n",
       "        vertical-align: middle;\n",
       "    }\n",
       "\n",
       "    .dataframe tbody tr th {\n",
       "        vertical-align: top;\n",
       "    }\n",
       "\n",
       "    .dataframe thead th {\n",
       "        text-align: right;\n",
       "    }\n",
       "</style>\n",
       "<table border=\"1\" class=\"dataframe\">\n",
       "  <thead>\n",
       "    <tr style=\"text-align: right;\">\n",
       "      <th></th>\n",
       "      <th>pclass</th>\n",
       "      <th>survived</th>\n",
       "      <th>age</th>\n",
       "      <th>sibsp</th>\n",
       "      <th>parch</th>\n",
       "      <th>fare</th>\n",
       "      <th>body</th>\n",
       "    </tr>\n",
       "  </thead>\n",
       "  <tbody>\n",
       "    <tr>\n",
       "      <th>0</th>\n",
       "      <td>1.0</td>\n",
       "      <td>1.0</td>\n",
       "      <td>29.0000</td>\n",
       "      <td>0.0</td>\n",
       "      <td>0.0</td>\n",
       "      <td>211.3375</td>\n",
       "      <td>NaN</td>\n",
       "    </tr>\n",
       "    <tr>\n",
       "      <th>1</th>\n",
       "      <td>1.0</td>\n",
       "      <td>1.0</td>\n",
       "      <td>0.9167</td>\n",
       "      <td>1.0</td>\n",
       "      <td>2.0</td>\n",
       "      <td>151.5500</td>\n",
       "      <td>NaN</td>\n",
       "    </tr>\n",
       "    <tr>\n",
       "      <th>2</th>\n",
       "      <td>1.0</td>\n",
       "      <td>0.0</td>\n",
       "      <td>2.0000</td>\n",
       "      <td>1.0</td>\n",
       "      <td>2.0</td>\n",
       "      <td>151.5500</td>\n",
       "      <td>NaN</td>\n",
       "    </tr>\n",
       "    <tr>\n",
       "      <th>3</th>\n",
       "      <td>1.0</td>\n",
       "      <td>0.0</td>\n",
       "      <td>30.0000</td>\n",
       "      <td>1.0</td>\n",
       "      <td>2.0</td>\n",
       "      <td>151.5500</td>\n",
       "      <td>135.0</td>\n",
       "    </tr>\n",
       "    <tr>\n",
       "      <th>4</th>\n",
       "      <td>1.0</td>\n",
       "      <td>0.0</td>\n",
       "      <td>25.0000</td>\n",
       "      <td>1.0</td>\n",
       "      <td>2.0</td>\n",
       "      <td>151.5500</td>\n",
       "      <td>NaN</td>\n",
       "    </tr>\n",
       "    <tr>\n",
       "      <th>...</th>\n",
       "      <td>...</td>\n",
       "      <td>...</td>\n",
       "      <td>...</td>\n",
       "      <td>...</td>\n",
       "      <td>...</td>\n",
       "      <td>...</td>\n",
       "      <td>...</td>\n",
       "    </tr>\n",
       "    <tr>\n",
       "      <th>1305</th>\n",
       "      <td>3.0</td>\n",
       "      <td>0.0</td>\n",
       "      <td>NaN</td>\n",
       "      <td>1.0</td>\n",
       "      <td>0.0</td>\n",
       "      <td>14.4542</td>\n",
       "      <td>NaN</td>\n",
       "    </tr>\n",
       "    <tr>\n",
       "      <th>1306</th>\n",
       "      <td>3.0</td>\n",
       "      <td>0.0</td>\n",
       "      <td>26.5000</td>\n",
       "      <td>0.0</td>\n",
       "      <td>0.0</td>\n",
       "      <td>7.2250</td>\n",
       "      <td>304.0</td>\n",
       "    </tr>\n",
       "    <tr>\n",
       "      <th>1307</th>\n",
       "      <td>3.0</td>\n",
       "      <td>0.0</td>\n",
       "      <td>27.0000</td>\n",
       "      <td>0.0</td>\n",
       "      <td>0.0</td>\n",
       "      <td>7.2250</td>\n",
       "      <td>NaN</td>\n",
       "    </tr>\n",
       "    <tr>\n",
       "      <th>1308</th>\n",
       "      <td>3.0</td>\n",
       "      <td>0.0</td>\n",
       "      <td>29.0000</td>\n",
       "      <td>0.0</td>\n",
       "      <td>0.0</td>\n",
       "      <td>7.8750</td>\n",
       "      <td>NaN</td>\n",
       "    </tr>\n",
       "    <tr>\n",
       "      <th>1309</th>\n",
       "      <td>NaN</td>\n",
       "      <td>NaN</td>\n",
       "      <td>NaN</td>\n",
       "      <td>NaN</td>\n",
       "      <td>NaN</td>\n",
       "      <td>NaN</td>\n",
       "      <td>NaN</td>\n",
       "    </tr>\n",
       "  </tbody>\n",
       "</table>\n",
       "<p>1310 rows × 7 columns</p>\n",
       "</div>"
      ],
      "text/plain": [
       "      pclass  survived      age  sibsp  parch      fare   body\n",
       "0        1.0       1.0  29.0000    0.0    0.0  211.3375    NaN\n",
       "1        1.0       1.0   0.9167    1.0    2.0  151.5500    NaN\n",
       "2        1.0       0.0   2.0000    1.0    2.0  151.5500    NaN\n",
       "3        1.0       0.0  30.0000    1.0    2.0  151.5500  135.0\n",
       "4        1.0       0.0  25.0000    1.0    2.0  151.5500    NaN\n",
       "...      ...       ...      ...    ...    ...       ...    ...\n",
       "1305     3.0       0.0      NaN    1.0    0.0   14.4542    NaN\n",
       "1306     3.0       0.0  26.5000    0.0    0.0    7.2250  304.0\n",
       "1307     3.0       0.0  27.0000    0.0    0.0    7.2250    NaN\n",
       "1308     3.0       0.0  29.0000    0.0    0.0    7.8750    NaN\n",
       "1309     NaN       NaN      NaN    NaN    NaN       NaN    NaN\n",
       "\n",
       "[1310 rows x 7 columns]"
      ]
     },
     "execution_count": 391,
     "metadata": {},
     "output_type": "execute_result"
    }
   ],
   "source": [
    "num_cols = df.select_dtypes(include=[\"int64\",\"float64\"])\n",
    "num_cols"
   ]
  },
  {
   "cell_type": "markdown",
   "id": "edd02b4a",
   "metadata": {},
   "source": [
    "##### Drop the columns that will not be used for the case study"
   ]
  },
  {
   "cell_type": "code",
   "execution_count": 392,
   "id": "64e74fba",
   "metadata": {},
   "outputs": [
    {
     "data": {
      "text/plain": [
       "['name', 'ticket', 'home.dest', 'body', 'cabin', 'embarked', 'boat']"
      ]
     },
     "execution_count": 392,
     "metadata": {},
     "output_type": "execute_result"
    }
   ],
   "source": [
    "drop_list = ['name','ticket','home.dest','body','cabin','embarked','boat']\n",
    "drop_list"
   ]
  },
  {
   "cell_type": "code",
   "execution_count": 393,
   "id": "ae3266ae",
   "metadata": {},
   "outputs": [
    {
     "data": {
      "text/html": [
       "<div>\n",
       "<style scoped>\n",
       "    .dataframe tbody tr th:only-of-type {\n",
       "        vertical-align: middle;\n",
       "    }\n",
       "\n",
       "    .dataframe tbody tr th {\n",
       "        vertical-align: top;\n",
       "    }\n",
       "\n",
       "    .dataframe thead th {\n",
       "        text-align: right;\n",
       "    }\n",
       "</style>\n",
       "<table border=\"1\" class=\"dataframe\">\n",
       "  <thead>\n",
       "    <tr style=\"text-align: right;\">\n",
       "      <th></th>\n",
       "      <th>pclass</th>\n",
       "      <th>survived</th>\n",
       "      <th>sex</th>\n",
       "      <th>age</th>\n",
       "      <th>sibsp</th>\n",
       "      <th>parch</th>\n",
       "      <th>fare</th>\n",
       "    </tr>\n",
       "  </thead>\n",
       "  <tbody>\n",
       "    <tr>\n",
       "      <th>0</th>\n",
       "      <td>1.0</td>\n",
       "      <td>1.0</td>\n",
       "      <td>female</td>\n",
       "      <td>29.0000</td>\n",
       "      <td>0.0</td>\n",
       "      <td>0.0</td>\n",
       "      <td>211.3375</td>\n",
       "    </tr>\n",
       "    <tr>\n",
       "      <th>1</th>\n",
       "      <td>1.0</td>\n",
       "      <td>1.0</td>\n",
       "      <td>male</td>\n",
       "      <td>0.9167</td>\n",
       "      <td>1.0</td>\n",
       "      <td>2.0</td>\n",
       "      <td>151.5500</td>\n",
       "    </tr>\n",
       "    <tr>\n",
       "      <th>2</th>\n",
       "      <td>1.0</td>\n",
       "      <td>0.0</td>\n",
       "      <td>female</td>\n",
       "      <td>2.0000</td>\n",
       "      <td>1.0</td>\n",
       "      <td>2.0</td>\n",
       "      <td>151.5500</td>\n",
       "    </tr>\n",
       "    <tr>\n",
       "      <th>3</th>\n",
       "      <td>1.0</td>\n",
       "      <td>0.0</td>\n",
       "      <td>male</td>\n",
       "      <td>30.0000</td>\n",
       "      <td>1.0</td>\n",
       "      <td>2.0</td>\n",
       "      <td>151.5500</td>\n",
       "    </tr>\n",
       "    <tr>\n",
       "      <th>4</th>\n",
       "      <td>1.0</td>\n",
       "      <td>0.0</td>\n",
       "      <td>female</td>\n",
       "      <td>25.0000</td>\n",
       "      <td>1.0</td>\n",
       "      <td>2.0</td>\n",
       "      <td>151.5500</td>\n",
       "    </tr>\n",
       "  </tbody>\n",
       "</table>\n",
       "</div>"
      ],
      "text/plain": [
       "   pclass  survived     sex      age  sibsp  parch      fare\n",
       "0     1.0       1.0  female  29.0000    0.0    0.0  211.3375\n",
       "1     1.0       1.0    male   0.9167    1.0    2.0  151.5500\n",
       "2     1.0       0.0  female   2.0000    1.0    2.0  151.5500\n",
       "3     1.0       0.0    male  30.0000    1.0    2.0  151.5500\n",
       "4     1.0       0.0  female  25.0000    1.0    2.0  151.5500"
      ]
     },
     "execution_count": 393,
     "metadata": {},
     "output_type": "execute_result"
    }
   ],
   "source": [
    "df.drop(drop_list,axis=1,inplace=True)\n",
    "df.head()"
   ]
  },
  {
   "cell_type": "code",
   "execution_count": 394,
   "id": "49755f6e",
   "metadata": {},
   "outputs": [
    {
     "data": {
      "text/plain": [
       "Index(['pclass', 'survived', 'sex', 'age', 'sibsp', 'parch', 'fare'], dtype='object')"
      ]
     },
     "execution_count": 394,
     "metadata": {},
     "output_type": "execute_result"
    }
   ],
   "source": [
    "cols = df.columns\n",
    "cols"
   ]
  },
  {
   "cell_type": "code",
   "execution_count": 395,
   "id": "43aba630",
   "metadata": {},
   "outputs": [
    {
     "data": {
      "text/html": [
       "<div>\n",
       "<style scoped>\n",
       "    .dataframe tbody tr th:only-of-type {\n",
       "        vertical-align: middle;\n",
       "    }\n",
       "\n",
       "    .dataframe tbody tr th {\n",
       "        vertical-align: top;\n",
       "    }\n",
       "\n",
       "    .dataframe thead th {\n",
       "        text-align: right;\n",
       "    }\n",
       "</style>\n",
       "<table border=\"1\" class=\"dataframe\">\n",
       "  <thead>\n",
       "    <tr style=\"text-align: right;\">\n",
       "      <th></th>\n",
       "      <th>pclass</th>\n",
       "      <th>survived</th>\n",
       "      <th>sex</th>\n",
       "      <th>age</th>\n",
       "      <th>sibsp</th>\n",
       "      <th>parch</th>\n",
       "      <th>fare</th>\n",
       "    </tr>\n",
       "  </thead>\n",
       "  <tbody>\n",
       "    <tr>\n",
       "      <th>0</th>\n",
       "      <td>1.0</td>\n",
       "      <td>1</td>\n",
       "      <td>0</td>\n",
       "      <td>29.0000</td>\n",
       "      <td>0.0</td>\n",
       "      <td>0.0</td>\n",
       "      <td>211.3375</td>\n",
       "    </tr>\n",
       "    <tr>\n",
       "      <th>1</th>\n",
       "      <td>1.0</td>\n",
       "      <td>1</td>\n",
       "      <td>1</td>\n",
       "      <td>0.9167</td>\n",
       "      <td>1.0</td>\n",
       "      <td>2.0</td>\n",
       "      <td>151.5500</td>\n",
       "    </tr>\n",
       "    <tr>\n",
       "      <th>2</th>\n",
       "      <td>1.0</td>\n",
       "      <td>0</td>\n",
       "      <td>0</td>\n",
       "      <td>2.0000</td>\n",
       "      <td>1.0</td>\n",
       "      <td>2.0</td>\n",
       "      <td>151.5500</td>\n",
       "    </tr>\n",
       "    <tr>\n",
       "      <th>3</th>\n",
       "      <td>1.0</td>\n",
       "      <td>0</td>\n",
       "      <td>1</td>\n",
       "      <td>30.0000</td>\n",
       "      <td>1.0</td>\n",
       "      <td>2.0</td>\n",
       "      <td>151.5500</td>\n",
       "    </tr>\n",
       "    <tr>\n",
       "      <th>4</th>\n",
       "      <td>1.0</td>\n",
       "      <td>0</td>\n",
       "      <td>0</td>\n",
       "      <td>25.0000</td>\n",
       "      <td>1.0</td>\n",
       "      <td>2.0</td>\n",
       "      <td>151.5500</td>\n",
       "    </tr>\n",
       "  </tbody>\n",
       "</table>\n",
       "</div>"
      ],
      "text/plain": [
       "   pclass  survived  sex      age  sibsp  parch      fare\n",
       "0     1.0         1    0  29.0000    0.0    0.0  211.3375\n",
       "1     1.0         1    1   0.9167    1.0    2.0  151.5500\n",
       "2     1.0         0    0   2.0000    1.0    2.0  151.5500\n",
       "3     1.0         0    1  30.0000    1.0    2.0  151.5500\n",
       "4     1.0         0    0  25.0000    1.0    2.0  151.5500"
      ]
     },
     "execution_count": 395,
     "metadata": {},
     "output_type": "execute_result"
    }
   ],
   "source": [
    "#Applying Label encoding or One Hot encoding to the categorical variable - sex,survived \n",
    "from sklearn.preprocessing import LabelEncoder\n",
    "le = LabelEncoder()\n",
    "df['sex']=le.fit_transform(df['sex'])\n",
    "df['survived']=le.fit_transform(df['survived'])\n",
    "df.head()"
   ]
  },
  {
   "cell_type": "markdown",
   "id": "35423c87",
   "metadata": {},
   "source": [
    "##### Check for missing values"
   ]
  },
  {
   "cell_type": "code",
   "execution_count": 396,
   "id": "589da4d4",
   "metadata": {},
   "outputs": [
    {
     "data": {
      "text/plain": [
       "pclass       True\n",
       "survived    False\n",
       "sex         False\n",
       "age          True\n",
       "sibsp        True\n",
       "parch        True\n",
       "fare         True\n",
       "dtype: bool"
      ]
     },
     "execution_count": 396,
     "metadata": {},
     "output_type": "execute_result"
    }
   ],
   "source": [
    "df.isnull().any()"
   ]
  },
  {
   "cell_type": "code",
   "execution_count": 397,
   "id": "ff6dc78e",
   "metadata": {},
   "outputs": [
    {
     "data": {
      "text/plain": [
       "pclass        1\n",
       "survived      0\n",
       "sex           0\n",
       "age         264\n",
       "sibsp         1\n",
       "parch         1\n",
       "fare          2\n",
       "dtype: int64"
      ]
     },
     "execution_count": 397,
     "metadata": {},
     "output_type": "execute_result"
    }
   ],
   "source": [
    "df.isnull().sum()"
   ]
  },
  {
   "cell_type": "code",
   "execution_count": 398,
   "id": "56528cb9",
   "metadata": {},
   "outputs": [
    {
     "name": "stdout",
     "output_type": "stream",
     "text": [
      "<class 'pandas.core.frame.DataFrame'>\n",
      "RangeIndex: 1310 entries, 0 to 1309\n",
      "Data columns (total 7 columns):\n",
      " #   Column    Non-Null Count  Dtype  \n",
      "---  ------    --------------  -----  \n",
      " 0   pclass    1309 non-null   float64\n",
      " 1   survived  1310 non-null   int64  \n",
      " 2   sex       1310 non-null   int32  \n",
      " 3   age       1046 non-null   float64\n",
      " 4   sibsp     1309 non-null   float64\n",
      " 5   parch     1309 non-null   float64\n",
      " 6   fare      1308 non-null   float64\n",
      "dtypes: float64(5), int32(1), int64(1)\n",
      "memory usage: 66.6 KB\n"
     ]
    }
   ],
   "source": [
    "df.info()"
   ]
  },
  {
   "cell_type": "markdown",
   "id": "4c09b0fb",
   "metadata": {},
   "source": [
    "Only a few models like KNN can work with NAN values"
   ]
  },
  {
   "cell_type": "markdown",
   "id": "fe08d14e",
   "metadata": {},
   "source": [
    "##### Missing values visualization"
   ]
  },
  {
   "cell_type": "code",
   "execution_count": 399,
   "id": "d7a58fa2",
   "metadata": {},
   "outputs": [
    {
     "data": {
      "image/png": "[encoded data removed]",
      "text/plain": [
       "<Figure size 720x432 with 2 Axes>"
      ]
     },
     "metadata": {
      "needs_background": "light"
     },
     "output_type": "display_data"
    }
   ],
   "source": [
    "import matplotlib.pyplot as plt \n",
    "import seaborn as sns \n",
    "plt.figure(figsize=(10,6))\n",
    "sns.heatmap(df.isna(),cbar_kws={'label': 'Missing Data'})\n",
    "plt.show()"
   ]
  },
  {
   "cell_type": "markdown",
   "id": "a029e9d6",
   "metadata": {},
   "source": [
    "The high number of missing in age can be seen in the heatmap(light region)."
   ]
  },
  {
   "cell_type": "code",
   "execution_count": 400,
   "id": "87b246cb",
   "metadata": {},
   "outputs": [
    {
     "data": {
      "image/png": "[encoded data removed]",
      "text/plain": [
       "<Figure size 432x288 with 1 Axes>"
      ]
     },
     "metadata": {
      "needs_background": "light"
     },
     "output_type": "display_data"
    }
   ],
   "source": [
    "#looking at age column in more detail\n",
    "df['age'].hist()\n",
    "plt.show()"
   ]
  },
  {
   "cell_type": "markdown",
   "id": "5f03a609",
   "metadata": {},
   "source": [
    "We can see the maximum values of age are concentrated between 15 - 45."
   ]
  },
  {
   "cell_type": "markdown",
   "id": "d643fc67",
   "metadata": {},
   "source": [
    "#### Handle Missing values"
   ]
  },
  {
   "cell_type": "markdown",
   "id": "e55d7b96",
   "metadata": {},
   "source": [
    "##### 1)Delete the column with missing data"
   ]
  },
  {
   "cell_type": "code",
   "execution_count": 401,
   "id": "81cf9174",
   "metadata": {},
   "outputs": [
    {
     "data": {
      "text/plain": [
       "pclass        1\n",
       "survived      0\n",
       "sex           0\n",
       "age         264\n",
       "sibsp         1\n",
       "parch         1\n",
       "fare          2\n",
       "dtype: int64"
      ]
     },
     "execution_count": 401,
     "metadata": {},
     "output_type": "execute_result"
    }
   ],
   "source": [
    "#since the most missing values are in age, we can delete that column\n",
    "import copy\n",
    "\n",
    "updated_df=copy.deepcopy(df)\n",
    "updated_df.isnull().sum()"
   ]
  },
  {
   "cell_type": "code",
   "execution_count": 402,
   "id": "31911665",
   "metadata": {},
   "outputs": [],
   "source": [
    "#axis =1->drop column with NAN values \n",
    "updated_df=updated_df.dropna(axis=1)"
   ]
  },
  {
   "cell_type": "code",
   "execution_count": 403,
   "id": "c74750fe",
   "metadata": {},
   "outputs": [
    {
     "data": {
      "text/html": [
       "<div>\n",
       "<style scoped>\n",
       "    .dataframe tbody tr th:only-of-type {\n",
       "        vertical-align: middle;\n",
       "    }\n",
       "\n",
       "    .dataframe tbody tr th {\n",
       "        vertical-align: top;\n",
       "    }\n",
       "\n",
       "    .dataframe thead th {\n",
       "        text-align: right;\n",
       "    }\n",
       "</style>\n",
       "<table border=\"1\" class=\"dataframe\">\n",
       "  <thead>\n",
       "    <tr style=\"text-align: right;\">\n",
       "      <th></th>\n",
       "      <th>survived</th>\n",
       "      <th>sex</th>\n",
       "    </tr>\n",
       "  </thead>\n",
       "  <tbody>\n",
       "    <tr>\n",
       "      <th>0</th>\n",
       "      <td>1</td>\n",
       "      <td>0</td>\n",
       "    </tr>\n",
       "    <tr>\n",
       "      <th>1</th>\n",
       "      <td>1</td>\n",
       "      <td>1</td>\n",
       "    </tr>\n",
       "    <tr>\n",
       "      <th>2</th>\n",
       "      <td>0</td>\n",
       "      <td>0</td>\n",
       "    </tr>\n",
       "    <tr>\n",
       "      <th>3</th>\n",
       "      <td>0</td>\n",
       "      <td>1</td>\n",
       "    </tr>\n",
       "    <tr>\n",
       "      <th>4</th>\n",
       "      <td>0</td>\n",
       "      <td>0</td>\n",
       "    </tr>\n",
       "  </tbody>\n",
       "</table>\n",
       "</div>"
      ],
      "text/plain": [
       "   survived  sex\n",
       "0         1    0\n",
       "1         1    1\n",
       "2         0    0\n",
       "3         0    1\n",
       "4         0    0"
      ]
     },
     "execution_count": 403,
     "metadata": {},
     "output_type": "execute_result"
    }
   ],
   "source": [
    "updated_df.head()"
   ]
  },
  {
   "cell_type": "markdown",
   "id": "1a3fc4d5",
   "metadata": {},
   "source": [
    "After deleting the columns with null values, very few relevant columns are left. Hence this approach is seldom used."
   ]
  },
  {
   "cell_type": "markdown",
   "id": "f19e3f62",
   "metadata": {},
   "source": [
    "##### 2)Deleting the row with missing data "
   ]
  },
  {
   "cell_type": "code",
   "execution_count": 404,
   "id": "a20746e9",
   "metadata": {},
   "outputs": [
    {
     "data": {
      "text/plain": [
       "pclass        1\n",
       "survived      0\n",
       "sex           0\n",
       "age         264\n",
       "sibsp         1\n",
       "parch         1\n",
       "fare          2\n",
       "dtype: int64"
      ]
     },
     "execution_count": 404,
     "metadata": {},
     "output_type": "execute_result"
    }
   ],
   "source": [
    "new_df=copy.deepcopy(df)\n",
    "new_df.isnull().sum()"
   ]
  },
  {
   "cell_type": "code",
   "execution_count": 405,
   "id": "2a4fbbb2",
   "metadata": {},
   "outputs": [
    {
     "data": {
      "text/plain": [
       "pclass      0\n",
       "survived    0\n",
       "sex         0\n",
       "age         0\n",
       "sibsp       0\n",
       "parch       0\n",
       "fare        0\n",
       "dtype: int64"
      ]
     },
     "execution_count": 405,
     "metadata": {},
     "output_type": "execute_result"
    }
   ],
   "source": [
    "#axis =0->drop rows with NAN values \n",
    "new_df = new_df.dropna(axis=0)\n",
    "new_df.isnull().sum()"
   ]
  },
  {
   "cell_type": "markdown",
   "id": "0eb8b165",
   "metadata": {},
   "source": [
    "##### Separate dependent and independent variables"
   ]
  },
  {
   "cell_type": "code",
   "execution_count": 406,
   "id": "53eaa62a",
   "metadata": {},
   "outputs": [
    {
     "data": {
      "text/plain": [
       "Index(['pclass', 'survived', 'sex', 'age', 'sibsp', 'parch', 'fare'], dtype='object')"
      ]
     },
     "execution_count": 406,
     "metadata": {},
     "output_type": "execute_result"
    }
   ],
   "source": [
    "cols =new_df.columns\n",
    "cols"
   ]
  },
  {
   "cell_type": "code",
   "execution_count": 407,
   "id": "d9db5e62",
   "metadata": {},
   "outputs": [
    {
     "data": {
      "text/plain": [
       "Index(['age', 'fare', 'parch', 'pclass', 'sex', 'sibsp'], dtype='object')"
      ]
     },
     "execution_count": 407,
     "metadata": {},
     "output_type": "execute_result"
    }
   ],
   "source": [
    "cols2=cols.difference(['survived'])\n",
    "cols2"
   ]
  },
  {
   "cell_type": "code",
   "execution_count": 408,
   "id": "4b1b7508",
   "metadata": {},
   "outputs": [
    {
     "data": {
      "text/plain": [
       "(1045, 6)"
      ]
     },
     "execution_count": 408,
     "metadata": {},
     "output_type": "execute_result"
    }
   ],
   "source": [
    "X=new_df[cols2]\n",
    "X.shape"
   ]
  },
  {
   "cell_type": "code",
   "execution_count": 409,
   "id": "9473141f",
   "metadata": {},
   "outputs": [
    {
     "data": {
      "text/plain": [
       "age       False\n",
       "fare      False\n",
       "parch     False\n",
       "pclass    False\n",
       "sex       False\n",
       "sibsp     False\n",
       "dtype: bool"
      ]
     },
     "execution_count": 409,
     "metadata": {},
     "output_type": "execute_result"
    }
   ],
   "source": [
    "X.isnull().any()"
   ]
  },
  {
   "cell_type": "code",
   "execution_count": 410,
   "id": "e49200bf",
   "metadata": {},
   "outputs": [
    {
     "data": {
      "text/plain": [
       "0       1\n",
       "1       1\n",
       "2       0\n",
       "3       0\n",
       "4       0\n",
       "       ..\n",
       "1301    0\n",
       "1304    0\n",
       "1306    0\n",
       "1307    0\n",
       "1308    0\n",
       "Name: survived, Length: 1045, dtype: int64"
      ]
     },
     "execution_count": 410,
     "metadata": {},
     "output_type": "execute_result"
    }
   ],
   "source": [
    "y=new_df['survived']\n",
    "y"
   ]
  },
  {
   "cell_type": "code",
   "execution_count": 411,
   "id": "af9243ca",
   "metadata": {},
   "outputs": [
    {
     "data": {
      "text/plain": [
       "False"
      ]
     },
     "execution_count": 411,
     "metadata": {},
     "output_type": "execute_result"
    }
   ],
   "source": [
    "y.isnull().any()"
   ]
  },
  {
   "cell_type": "markdown",
   "id": "3fc5ae13",
   "metadata": {},
   "source": [
    "##### Separate data into train and test data"
   ]
  },
  {
   "cell_type": "code",
   "execution_count": 412,
   "id": "93265b5f",
   "metadata": {},
   "outputs": [
    {
     "name": "stdout",
     "output_type": "stream",
     "text": [
      "((836, 6), (836,)) ((209, 6), (209,))\n"
     ]
    }
   ],
   "source": [
    "from sklearn.model_selection import train_test_split\n",
    "X_train,X_test,y_train,y_test=train_test_split(X,y,random_state=42,test_size=0.2)\n",
    "print((X_train.shape,y_train.shape),(X_test.shape,y_test.shape))"
   ]
  },
  {
   "cell_type": "markdown",
   "id": "1b43ecc2",
   "metadata": {},
   "source": [
    "##### Fit a logistic regression model "
   ]
  },
  {
   "cell_type": "code",
   "execution_count": 413,
   "id": "0e6f3782",
   "metadata": {},
   "outputs": [
    {
     "data": {
      "text/plain": [
       "LogisticRegression()"
      ]
     },
     "execution_count": 413,
     "metadata": {},
     "output_type": "execute_result"
    }
   ],
   "source": [
    "from sklearn.linear_model import LogisticRegression\n",
    "lr=LogisticRegression()\n",
    "lr.fit(X_train,y_train)"
   ]
  },
  {
   "cell_type": "code",
   "execution_count": 414,
   "id": "5b1178ee",
   "metadata": {},
   "outputs": [
    {
     "data": {
      "text/plain": [
       "array([1, 1, 0, 0, 1, 1, 0, 1, 0, 1, 1, 0, 0, 1, 0, 0, 0, 0, 0, 1, 0, 1,\n",
       "       1, 0, 1, 0, 1, 0, 0, 0, 0, 0, 1, 1, 1, 0, 1, 1, 0, 0, 1, 1, 1, 0,\n",
       "       1, 1, 1, 0, 0, 1, 1, 0, 0, 0, 1, 0, 0, 0, 1, 0, 0, 0, 0, 0, 0, 0,\n",
       "       1, 0, 0, 1, 0, 1, 1, 1, 0, 0, 1, 0, 1, 1, 1, 1, 1, 0, 0, 0, 0, 0,\n",
       "       1, 0, 0, 1, 1, 0, 0, 0, 1, 0, 1, 0, 1, 0, 0, 1, 1, 0, 0, 0, 1, 1,\n",
       "       0, 1, 0, 0, 1, 0, 1, 0, 1, 0, 0, 0, 0, 1, 0, 0, 0, 1, 1, 1, 0, 0,\n",
       "       0, 0, 0, 0, 0, 0, 0, 1, 0, 0, 0, 1, 0, 1, 1, 1, 0, 1, 0, 0, 1, 0,\n",
       "       1, 1, 0, 0, 1, 1, 1, 0, 1, 0, 0, 0, 1, 0, 1, 0, 1, 0, 0, 0, 1, 0,\n",
       "       1, 1, 0, 0, 0, 0, 0, 0, 0, 1, 0, 0, 0, 0, 0, 1, 1, 0, 0, 1, 1, 0,\n",
       "       0, 1, 0, 0, 0, 0, 1, 1, 0, 0, 0], dtype=int64)"
      ]
     },
     "execution_count": 414,
     "metadata": {},
     "output_type": "execute_result"
    }
   ],
   "source": [
    "y_pred = lr.predict(X_test)\n",
    "y_pred"
   ]
  },
  {
   "cell_type": "code",
   "execution_count": 415,
   "id": "fd2da745",
   "metadata": {},
   "outputs": [
    {
     "data": {
      "text/plain": [
       "0.7272727272727273"
      ]
     },
     "execution_count": 415,
     "metadata": {},
     "output_type": "execute_result"
    }
   ],
   "source": [
    "from sklearn.metrics import accuracy_score\n",
    "accuracy_score(y_test,y_pred)"
   ]
  },
  {
   "cell_type": "markdown",
   "id": "89babf66",
   "metadata": {},
   "source": [
    "We get an accuracy of 72%."
   ]
  },
  {
   "cell_type": "markdown",
   "id": "342b3a84",
   "metadata": {},
   "source": [
    "##### 3)Filling the missing values-Imputation"
   ]
  },
  {
   "cell_type": "markdown",
   "id": "a98ef6a9",
   "metadata": {},
   "source": [
    "The missing values are filled up with a certain number \n",
    "- For numerical variable, fill up with mean or median.\n",
    "- It can also be filled up with 0 or -999. this will make these values different from the actual data.\n",
    "- For categorical variable, fill up with mode or new type of value."
   ]
  },
  {
   "cell_type": "code",
   "execution_count": 420,
   "id": "7a3eabf2",
   "metadata": {},
   "outputs": [
    {
     "data": {
      "text/plain": [
       "pclass        1\n",
       "survived      0\n",
       "sex           0\n",
       "age         264\n",
       "sibsp         1\n",
       "parch         1\n",
       "fare          2\n",
       "dtype: int64"
      ]
     },
     "execution_count": 420,
     "metadata": {},
     "output_type": "execute_result"
    }
   ],
   "source": [
    "updated_df2=copy.deepcopy(df)\n",
    "updated_df2.isnull().sum()"
   ]
  },
  {
   "cell_type": "code",
   "execution_count": 421,
   "id": "07795458",
   "metadata": {},
   "outputs": [
    {
     "data": {
      "text/html": [
       "<div>\n",
       "<style scoped>\n",
       "    .dataframe tbody tr th:only-of-type {\n",
       "        vertical-align: middle;\n",
       "    }\n",
       "\n",
       "    .dataframe tbody tr th {\n",
       "        vertical-align: top;\n",
       "    }\n",
       "\n",
       "    .dataframe thead th {\n",
       "        text-align: right;\n",
       "    }\n",
       "</style>\n",
       "<table border=\"1\" class=\"dataframe\">\n",
       "  <thead>\n",
       "    <tr style=\"text-align: right;\">\n",
       "      <th></th>\n",
       "      <th>pclass</th>\n",
       "      <th>survived</th>\n",
       "      <th>sex</th>\n",
       "      <th>age</th>\n",
       "      <th>sibsp</th>\n",
       "      <th>parch</th>\n",
       "      <th>fare</th>\n",
       "    </tr>\n",
       "  </thead>\n",
       "  <tbody>\n",
       "    <tr>\n",
       "      <th>0</th>\n",
       "      <td>1.0</td>\n",
       "      <td>1</td>\n",
       "      <td>0</td>\n",
       "      <td>29.0000</td>\n",
       "      <td>0.0</td>\n",
       "      <td>0.0</td>\n",
       "      <td>211.3375</td>\n",
       "    </tr>\n",
       "    <tr>\n",
       "      <th>1</th>\n",
       "      <td>1.0</td>\n",
       "      <td>1</td>\n",
       "      <td>1</td>\n",
       "      <td>0.9167</td>\n",
       "      <td>1.0</td>\n",
       "      <td>2.0</td>\n",
       "      <td>151.5500</td>\n",
       "    </tr>\n",
       "    <tr>\n",
       "      <th>2</th>\n",
       "      <td>1.0</td>\n",
       "      <td>0</td>\n",
       "      <td>0</td>\n",
       "      <td>2.0000</td>\n",
       "      <td>1.0</td>\n",
       "      <td>2.0</td>\n",
       "      <td>151.5500</td>\n",
       "    </tr>\n",
       "    <tr>\n",
       "      <th>3</th>\n",
       "      <td>1.0</td>\n",
       "      <td>0</td>\n",
       "      <td>1</td>\n",
       "      <td>30.0000</td>\n",
       "      <td>1.0</td>\n",
       "      <td>2.0</td>\n",
       "      <td>151.5500</td>\n",
       "    </tr>\n",
       "    <tr>\n",
       "      <th>4</th>\n",
       "      <td>1.0</td>\n",
       "      <td>0</td>\n",
       "      <td>0</td>\n",
       "      <td>25.0000</td>\n",
       "      <td>1.0</td>\n",
       "      <td>2.0</td>\n",
       "      <td>151.5500</td>\n",
       "    </tr>\n",
       "  </tbody>\n",
       "</table>\n",
       "</div>"
      ],
      "text/plain": [
       "   pclass  survived  sex      age  sibsp  parch      fare\n",
       "0     1.0         1    0  29.0000    0.0    0.0  211.3375\n",
       "1     1.0         1    1   0.9167    1.0    2.0  151.5500\n",
       "2     1.0         0    0   2.0000    1.0    2.0  151.5500\n",
       "3     1.0         0    1  30.0000    1.0    2.0  151.5500\n",
       "4     1.0         0    0  25.0000    1.0    2.0  151.5500"
      ]
     },
     "execution_count": 421,
     "metadata": {},
     "output_type": "execute_result"
    }
   ],
   "source": [
    "#fill up all columns with missing data, with mean\n",
    "updated_df2['pclass']=updated_df2['pclass'].fillna(updated_df2['pclass'].mean())\n",
    "updated_df2['age']=updated_df2['age'].fillna(updated_df2['age'].mean())\n",
    "updated_df2['sibsp']=updated_df2['sibsp'].fillna(updated_df2['sibsp'].mean())\n",
    "updated_df2['parch']=updated_df2['parch'].fillna(updated_df2['parch'].mean())\n",
    "updated_df2['fare']=updated_df2['fare'].fillna(updated_df2['fare'].mean())\n",
    "\n",
    "updated_df2.head()"
   ]
  },
  {
   "cell_type": "code",
   "execution_count": 422,
   "id": "4f9c78ef",
   "metadata": {},
   "outputs": [
    {
     "data": {
      "text/plain": [
       "pclass      0\n",
       "survived    0\n",
       "sex         0\n",
       "age         0\n",
       "sibsp       0\n",
       "parch       0\n",
       "fare        0\n",
       "dtype: int64"
      ]
     },
     "execution_count": 422,
     "metadata": {},
     "output_type": "execute_result"
    }
   ],
   "source": [
    "updated_df2.isnull().sum()"
   ]
  },
  {
   "cell_type": "markdown",
   "id": "7100c8b5",
   "metadata": {},
   "source": [
    "##### Fit logistic regression and evaluate accuracy"
   ]
  },
  {
   "cell_type": "code",
   "execution_count": 423,
   "id": "2b7c61ee",
   "metadata": {},
   "outputs": [
    {
     "data": {
      "text/plain": [
       "0.8079268292682927"
      ]
     },
     "execution_count": 423,
     "metadata": {},
     "output_type": "execute_result"
    }
   ],
   "source": [
    "from sklearn.model_selection import train_test_split\n",
    "from sklearn.linear_model import LogisticRegression\n",
    "from sklearn.metrics import accuracy_score\n",
    "X=updated_df2[['pclass','sex','age','sibsp','parch','fare']]\n",
    "y=updated_df2['survived']\n",
    "X_train,X_test,y_train,y_test = train_test_split(X,y,test_size=0.25,random_state=42)\n",
    "y_train.head()\n",
    "lr = LogisticRegression(max_iter=1000)\n",
    "lr.fit(X_train,y_train)\n",
    "y_pred = lr.predict(X_test)\n",
    "acc = accuracy_score(y_test,y_pred)\n",
    "acc"
   ]
  },
  {
   "cell_type": "markdown",
   "id": "af361de3",
   "metadata": {},
   "source": [
    "We get an accuracy of 80%, which is a huge improvement over the previous values. Hence the columns with missing values like age have significant importance."
   ]
  },
  {
   "cell_type": "markdown",
   "id": "ed4e171d",
   "metadata": {},
   "source": [
    "##### Imputation with sklearn library"
   ]
  },
  {
   "cell_type": "code",
   "execution_count": 424,
   "id": "9025a5a4",
   "metadata": {},
   "outputs": [
    {
     "data": {
      "text/plain": [
       "pclass        1\n",
       "survived      0\n",
       "sex           0\n",
       "age         264\n",
       "sibsp         1\n",
       "parch         1\n",
       "fare          2\n",
       "dtype: int64"
      ]
     },
     "execution_count": 424,
     "metadata": {},
     "output_type": "execute_result"
    }
   ],
   "source": [
    "updated_df3=copy.deepcopy(df)\n",
    "updated_df3.isnull().sum()"
   ]
  },
  {
   "cell_type": "code",
   "execution_count": 425,
   "id": "669d300e",
   "metadata": {},
   "outputs": [],
   "source": [
    "from sklearn.impute import SimpleImputer\n",
    "import numpy as np\n",
    "\n",
    "#create the imputer object, using mean strategy\n",
    "imputer = SimpleImputer(missing_values=np.nan,strategy='mean')"
   ]
  },
  {
   "cell_type": "code",
   "execution_count": 426,
   "id": "c6e7c4eb",
   "metadata": {},
   "outputs": [
    {
     "data": {
      "text/plain": [
       "SimpleImputer()"
      ]
     },
     "execution_count": 426,
     "metadata": {},
     "output_type": "execute_result"
    }
   ],
   "source": [
    "#fit the data to the imputer object\n",
    "imputer.fit(updated_df3)"
   ]
  },
  {
   "cell_type": "code",
   "execution_count": 427,
   "id": "326fdb23",
   "metadata": {},
   "outputs": [
    {
     "data": {
      "text/plain": [
       "Index(['pclass', 'survived', 'sex', 'age', 'sibsp', 'parch', 'fare'], dtype='object')"
      ]
     },
     "execution_count": 427,
     "metadata": {},
     "output_type": "execute_result"
    }
   ],
   "source": [
    "cols3 = updated_df3.columns\n",
    "cols3"
   ]
  },
  {
   "cell_type": "code",
   "execution_count": 428,
   "id": "fd48393a",
   "metadata": {},
   "outputs": [
    {
     "data": {
      "text/plain": [
       "array([[  1.        ,   1.        ,   0.        , ...,   0.        ,\n",
       "          0.        , 211.3375    ],\n",
       "       [  1.        ,   1.        ,   1.        , ...,   1.        ,\n",
       "          2.        , 151.55      ],\n",
       "       [  1.        ,   0.        ,   0.        , ...,   1.        ,\n",
       "          2.        , 151.55      ],\n",
       "       ...,\n",
       "       [  3.        ,   0.        ,   1.        , ...,   0.        ,\n",
       "          0.        ,   7.225     ],\n",
       "       [  3.        ,   0.        ,   1.        , ...,   0.        ,\n",
       "          0.        ,   7.875     ],\n",
       "       [  2.29488159,   2.        ,   2.        , ...,   0.49885409,\n",
       "          0.38502674,  33.29547928]])"
      ]
     },
     "execution_count": 428,
     "metadata": {},
     "output_type": "execute_result"
    }
   ],
   "source": [
    "#impute the data\n",
    "updated_df3=imputer.transform(updated_df3)\n",
    "updated_df3"
   ]
  },
  {
   "cell_type": "code",
   "execution_count": 429,
   "id": "7279d6e1",
   "metadata": {},
   "outputs": [
    {
     "data": {
      "text/html": [
       "<div>\n",
       "<style scoped>\n",
       "    .dataframe tbody tr th:only-of-type {\n",
       "        vertical-align: middle;\n",
       "    }\n",
       "\n",
       "    .dataframe tbody tr th {\n",
       "        vertical-align: top;\n",
       "    }\n",
       "\n",
       "    .dataframe thead th {\n",
       "        text-align: right;\n",
       "    }\n",
       "</style>\n",
       "<table border=\"1\" class=\"dataframe\">\n",
       "  <thead>\n",
       "    <tr style=\"text-align: right;\">\n",
       "      <th></th>\n",
       "      <th>pclass</th>\n",
       "      <th>survived</th>\n",
       "      <th>sex</th>\n",
       "      <th>age</th>\n",
       "      <th>sibsp</th>\n",
       "      <th>parch</th>\n",
       "      <th>fare</th>\n",
       "    </tr>\n",
       "  </thead>\n",
       "  <tbody>\n",
       "    <tr>\n",
       "      <th>0</th>\n",
       "      <td>1.0</td>\n",
       "      <td>1.0</td>\n",
       "      <td>0.0</td>\n",
       "      <td>29.0000</td>\n",
       "      <td>0.0</td>\n",
       "      <td>0.0</td>\n",
       "      <td>211.3375</td>\n",
       "    </tr>\n",
       "    <tr>\n",
       "      <th>1</th>\n",
       "      <td>1.0</td>\n",
       "      <td>1.0</td>\n",
       "      <td>1.0</td>\n",
       "      <td>0.9167</td>\n",
       "      <td>1.0</td>\n",
       "      <td>2.0</td>\n",
       "      <td>151.5500</td>\n",
       "    </tr>\n",
       "    <tr>\n",
       "      <th>2</th>\n",
       "      <td>1.0</td>\n",
       "      <td>0.0</td>\n",
       "      <td>0.0</td>\n",
       "      <td>2.0000</td>\n",
       "      <td>1.0</td>\n",
       "      <td>2.0</td>\n",
       "      <td>151.5500</td>\n",
       "    </tr>\n",
       "    <tr>\n",
       "      <th>3</th>\n",
       "      <td>1.0</td>\n",
       "      <td>0.0</td>\n",
       "      <td>1.0</td>\n",
       "      <td>30.0000</td>\n",
       "      <td>1.0</td>\n",
       "      <td>2.0</td>\n",
       "      <td>151.5500</td>\n",
       "    </tr>\n",
       "    <tr>\n",
       "      <th>4</th>\n",
       "      <td>1.0</td>\n",
       "      <td>0.0</td>\n",
       "      <td>0.0</td>\n",
       "      <td>25.0000</td>\n",
       "      <td>1.0</td>\n",
       "      <td>2.0</td>\n",
       "      <td>151.5500</td>\n",
       "    </tr>\n",
       "  </tbody>\n",
       "</table>\n",
       "</div>"
      ],
      "text/plain": [
       "   pclass  survived  sex      age  sibsp  parch      fare\n",
       "0     1.0       1.0  0.0  29.0000    0.0    0.0  211.3375\n",
       "1     1.0       1.0  1.0   0.9167    1.0    2.0  151.5500\n",
       "2     1.0       0.0  0.0   2.0000    1.0    2.0  151.5500\n",
       "3     1.0       0.0  1.0  30.0000    1.0    2.0  151.5500\n",
       "4     1.0       0.0  0.0  25.0000    1.0    2.0  151.5500"
      ]
     },
     "execution_count": 429,
     "metadata": {},
     "output_type": "execute_result"
    }
   ],
   "source": [
    "updated_df3 = pd.DataFrame(updated_df3, columns=cols3)\n",
    "updated_df3.head()"
   ]
  },
  {
   "cell_type": "code",
   "execution_count": 430,
   "id": "e65a9814",
   "metadata": {},
   "outputs": [
    {
     "data": {
      "text/plain": [
       "pclass      0\n",
       "survived    0\n",
       "sex         0\n",
       "age         0\n",
       "sibsp       0\n",
       "parch       0\n",
       "fare        0\n",
       "dtype: int64"
      ]
     },
     "execution_count": 430,
     "metadata": {},
     "output_type": "execute_result"
    }
   ],
   "source": [
    "updated_df3.isnull().sum()"
   ]
  },
  {
   "cell_type": "markdown",
   "id": "f8139788",
   "metadata": {},
   "source": [
    "##### Fit logistic regression and evaluate accuracy"
   ]
  },
  {
   "cell_type": "code",
   "execution_count": 435,
   "id": "31f86437",
   "metadata": {},
   "outputs": [
    {
     "data": {
      "text/plain": [
       "0.8079268292682927"
      ]
     },
     "execution_count": 435,
     "metadata": {},
     "output_type": "execute_result"
    }
   ],
   "source": [
    "from sklearn.model_selection import train_test_split\n",
    "from sklearn.linear_model import LogisticRegression\n",
    "from sklearn.metrics import accuracy_score\n",
    "X=updated_df3[['pclass','sex','age','sibsp','parch','fare']]\n",
    "y=updated_df3['survived']\n",
    "X_train,X_test,y_train,y_test = train_test_split(X,y,test_size=0.25,random_state=42)\n",
    "lr = LogisticRegression(max_iter=1000)\n",
    "lr.fit(X_train,y_train)\n",
    "y_pred = lr.predict(X_test)\n",
    "acc = accuracy_score(y_test,y_pred)\n",
    "acc"
   ]
  },
  {
   "cell_type": "markdown",
   "id": "e0462b85",
   "metadata": {},
   "source": [
    "We get the same accuracy as above - 80%."
   ]
  },
  {
   "cell_type": "markdown",
   "id": "2548beda",
   "metadata": {},
   "source": [
    "#### 4)Handling missing values using Interpolation–Linear\n",
    "\n",
    "A straight line is used to join dots in increasing order to approximate a missing value.\n",
    "\n",
    "For the most part, the unknown value is calculated in the same ascending order as the previous values. We don’t have to specify Linear Interpolation because it is the default method.\n",
    "\n",
    "Almost always, it will be used in a time-series dataset."
   ]
  },
  {
   "cell_type": "code",
   "execution_count": 525,
   "id": "5f60d9f7",
   "metadata": {},
   "outputs": [
    {
     "data": {
      "text/plain": [
       "pclass        1\n",
       "survived      0\n",
       "sex           0\n",
       "age         264\n",
       "sibsp         1\n",
       "parch         1\n",
       "fare          2\n",
       "dtype: int64"
      ]
     },
     "execution_count": 525,
     "metadata": {},
     "output_type": "execute_result"
    }
   ],
   "source": [
    "updated_df4a=copy.deepcopy(df)\n",
    "updated_df4a.isnull().sum()"
   ]
  },
  {
   "cell_type": "code",
   "execution_count": 526,
   "id": "c3e901ec",
   "metadata": {},
   "outputs": [
    {
     "data": {
      "text/plain": [
       "pclass        0\n",
       "survived      0\n",
       "sex           0\n",
       "age         264\n",
       "sibsp         0\n",
       "parch         0\n",
       "fare          0\n",
       "dtype: int64"
      ]
     },
     "execution_count": 526,
     "metadata": {},
     "output_type": "execute_result"
    }
   ],
   "source": [
    "updated_df4a['pclass']=updated_df4a['pclass'].fillna(updated_df4a['pclass'].mean())\n",
    "updated_df4a['sibsp']=updated_df4a['sibsp'].fillna(updated_df4a['sibsp'].mean())\n",
    "updated_df4a['parch']=updated_df4a['parch'].fillna(updated_df4a['parch'].mean())\n",
    "updated_df4a['fare']=updated_df4a['fare'].fillna(updated_df4a['fare'].mean())\n",
    "updated_df4a['survived']=updated_df4a['survived'].fillna(updated_df4a['survived'].mean())\n",
    "\n",
    "updated_df4a.isnull().sum()"
   ]
  },
  {
   "cell_type": "code",
   "execution_count": 527,
   "id": "a9dc696e",
   "metadata": {},
   "outputs": [
    {
     "data": {
      "text/plain": [
       "pclass      0\n",
       "survived    0\n",
       "sex         0\n",
       "age         0\n",
       "sibsp       0\n",
       "parch       0\n",
       "fare        0\n",
       "dtype: int64"
      ]
     },
     "execution_count": 527,
     "metadata": {},
     "output_type": "execute_result"
    }
   ],
   "source": [
    "updated_df4a[\"age\"] = updated_df4a[\"age\"].interpolate(method='linear', limit_direction='forward', axis=0)\n",
    "updated_df4a.isnull().sum()"
   ]
  },
  {
   "cell_type": "code",
   "execution_count": 528,
   "id": "077c94a1",
   "metadata": {},
   "outputs": [
    {
     "data": {
      "text/html": [
       "<div>\n",
       "<style scoped>\n",
       "    .dataframe tbody tr th:only-of-type {\n",
       "        vertical-align: middle;\n",
       "    }\n",
       "\n",
       "    .dataframe tbody tr th {\n",
       "        vertical-align: top;\n",
       "    }\n",
       "\n",
       "    .dataframe thead th {\n",
       "        text-align: right;\n",
       "    }\n",
       "</style>\n",
       "<table border=\"1\" class=\"dataframe\">\n",
       "  <thead>\n",
       "    <tr style=\"text-align: right;\">\n",
       "      <th></th>\n",
       "      <th>pclass</th>\n",
       "      <th>survived</th>\n",
       "      <th>sex</th>\n",
       "      <th>age</th>\n",
       "      <th>sibsp</th>\n",
       "      <th>parch</th>\n",
       "      <th>fare</th>\n",
       "    </tr>\n",
       "  </thead>\n",
       "  <tbody>\n",
       "    <tr>\n",
       "      <th>0</th>\n",
       "      <td>1.0</td>\n",
       "      <td>1</td>\n",
       "      <td>0</td>\n",
       "      <td>29.0000</td>\n",
       "      <td>0.0</td>\n",
       "      <td>0.0</td>\n",
       "      <td>211.3375</td>\n",
       "    </tr>\n",
       "    <tr>\n",
       "      <th>1</th>\n",
       "      <td>1.0</td>\n",
       "      <td>1</td>\n",
       "      <td>1</td>\n",
       "      <td>0.9167</td>\n",
       "      <td>1.0</td>\n",
       "      <td>2.0</td>\n",
       "      <td>151.5500</td>\n",
       "    </tr>\n",
       "    <tr>\n",
       "      <th>2</th>\n",
       "      <td>1.0</td>\n",
       "      <td>0</td>\n",
       "      <td>0</td>\n",
       "      <td>2.0000</td>\n",
       "      <td>1.0</td>\n",
       "      <td>2.0</td>\n",
       "      <td>151.5500</td>\n",
       "    </tr>\n",
       "    <tr>\n",
       "      <th>3</th>\n",
       "      <td>1.0</td>\n",
       "      <td>0</td>\n",
       "      <td>1</td>\n",
       "      <td>30.0000</td>\n",
       "      <td>1.0</td>\n",
       "      <td>2.0</td>\n",
       "      <td>151.5500</td>\n",
       "    </tr>\n",
       "    <tr>\n",
       "      <th>4</th>\n",
       "      <td>1.0</td>\n",
       "      <td>0</td>\n",
       "      <td>0</td>\n",
       "      <td>25.0000</td>\n",
       "      <td>1.0</td>\n",
       "      <td>2.0</td>\n",
       "      <td>151.5500</td>\n",
       "    </tr>\n",
       "  </tbody>\n",
       "</table>\n",
       "</div>"
      ],
      "text/plain": [
       "   pclass  survived  sex      age  sibsp  parch      fare\n",
       "0     1.0         1    0  29.0000    0.0    0.0  211.3375\n",
       "1     1.0         1    1   0.9167    1.0    2.0  151.5500\n",
       "2     1.0         0    0   2.0000    1.0    2.0  151.5500\n",
       "3     1.0         0    1  30.0000    1.0    2.0  151.5500\n",
       "4     1.0         0    0  25.0000    1.0    2.0  151.5500"
      ]
     },
     "execution_count": 528,
     "metadata": {},
     "output_type": "execute_result"
    }
   ],
   "source": [
    "updated_df4a.head()"
   ]
  },
  {
   "cell_type": "code",
   "execution_count": 529,
   "id": "daa745b6",
   "metadata": {},
   "outputs": [
    {
     "name": "stdout",
     "output_type": "stream",
     "text": [
      "(1310,)\n",
      "0    1\n",
      "1    1\n",
      "2    0\n",
      "3    0\n",
      "4    0\n",
      "Name: survived, dtype: int64\n"
     ]
    }
   ],
   "source": [
    "y=updated_df4a['survived']\n",
    "print(y.shape)\n",
    "print(y.head())"
   ]
  },
  {
   "cell_type": "code",
   "execution_count": 530,
   "id": "cd2c412c",
   "metadata": {},
   "outputs": [
    {
     "name": "stdout",
     "output_type": "stream",
     "text": [
      "(1310, 6)\n",
      "   pclass  sex      age  sibsp  parch      fare\n",
      "0     1.0    0  29.0000    0.0    0.0  211.3375\n",
      "1     1.0    1   0.9167    1.0    2.0  151.5500\n",
      "2     1.0    0   2.0000    1.0    2.0  151.5500\n",
      "3     1.0    1  30.0000    1.0    2.0  151.5500\n",
      "4     1.0    0  25.0000    1.0    2.0  151.5500\n"
     ]
    }
   ],
   "source": [
    "X=updated_df4a[['pclass','sex','age','sibsp','parch','fare']]\n",
    "print(X.shape)\n",
    "print(X.head())"
   ]
  },
  {
   "cell_type": "code",
   "execution_count": 531,
   "id": "07faab60",
   "metadata": {},
   "outputs": [
    {
     "data": {
      "text/plain": [
       "0.8140243902439024"
      ]
     },
     "execution_count": 531,
     "metadata": {},
     "output_type": "execute_result"
    }
   ],
   "source": [
    "X_train,X_test,y_train,y_test = train_test_split(X,y,test_size=0.25,random_state=42)\n",
    "lr = LogisticRegression(max_iter=1000)\n",
    "lr.fit(X_train,y_train)\n",
    "y_pred = lr.predict(X_test)\n",
    "acc = accuracy_score(y_test,y_pred)\n",
    "acc"
   ]
  },
  {
   "cell_type": "markdown",
   "id": "c2d75d8a",
   "metadata": {},
   "source": [
    "Here our accuracy level has improved to 81.4%."
   ]
  },
  {
   "cell_type": "markdown",
   "id": "916172b0",
   "metadata": {},
   "source": [
    "##### 5)Handling missing values using Regression model\n",
    "\n",
    "The null values in one column are filled by fitting a regression model using other columns in the dataset."
   ]
  },
  {
   "cell_type": "code",
   "execution_count": 457,
   "id": "cb4d99fa",
   "metadata": {},
   "outputs": [
    {
     "data": {
      "text/plain": [
       "pclass        1\n",
       "survived      0\n",
       "sex           0\n",
       "age         264\n",
       "sibsp         1\n",
       "parch         1\n",
       "fare          2\n",
       "dtype: int64"
      ]
     },
     "execution_count": 457,
     "metadata": {},
     "output_type": "execute_result"
    }
   ],
   "source": [
    "updated_df4=copy.deepcopy(df)\n",
    "updated_df4.isnull().sum()"
   ]
  },
  {
   "cell_type": "code",
   "execution_count": 472,
   "id": "7b416f1b",
   "metadata": {},
   "outputs": [
    {
     "data": {
      "text/plain": [
       "(1310, 7)"
      ]
     },
     "execution_count": 472,
     "metadata": {},
     "output_type": "execute_result"
    }
   ],
   "source": [
    "updated_df4.shape"
   ]
  },
  {
   "cell_type": "code",
   "execution_count": 496,
   "id": "d64d1070",
   "metadata": {},
   "outputs": [
    {
     "data": {
      "text/plain": [
       "pclass        0\n",
       "survived      0\n",
       "sex           0\n",
       "age         264\n",
       "sibsp         0\n",
       "parch         0\n",
       "fare          0\n",
       "dtype: int64"
      ]
     },
     "execution_count": 496,
     "metadata": {},
     "output_type": "execute_result"
    }
   ],
   "source": [
    "updated_df4['pclass']=updated_df4['pclass'].fillna(updated_df4['pclass'].mean())\n",
    "updated_df4['sibsp']=updated_df4['sibsp'].fillna(updated_df4['sibsp'].mean())\n",
    "updated_df4['parch']=updated_df4['parch'].fillna(updated_df4['parch'].mean())\n",
    "updated_df4['fare']=updated_df4['fare'].fillna(updated_df4['fare'].mean())\n",
    "updated_df4['survived']=updated_df4['survived'].fillna(updated_df4['survived'].mean())\n",
    "\n",
    "updated_df4.isnull().sum()"
   ]
  },
  {
   "cell_type": "code",
   "execution_count": 474,
   "id": "7fa54878",
   "metadata": {},
   "outputs": [
    {
     "data": {
      "text/plain": [
       "pclass        0\n",
       "survived      0\n",
       "sex           0\n",
       "age         264\n",
       "sibsp         0\n",
       "parch         0\n",
       "fare          0\n",
       "dtype: int64"
      ]
     },
     "execution_count": 474,
     "metadata": {},
     "output_type": "execute_result"
    }
   ],
   "source": [
    "updated_df4.isnull().sum()"
   ]
  },
  {
   "cell_type": "code",
   "execution_count": 475,
   "id": "fc0a5a3a",
   "metadata": {},
   "outputs": [
    {
     "data": {
      "text/plain": [
       "(1046, 7)"
      ]
     },
     "execution_count": 475,
     "metadata": {},
     "output_type": "execute_result"
    }
   ],
   "source": [
    "#all rows without null becomes the train data\n",
    "train_df = updated_df4[updated_df4['age'].isnull()==False]\n",
    "train_df.shape"
   ]
  },
  {
   "cell_type": "code",
   "execution_count": 476,
   "id": "ddd8d0d9",
   "metadata": {},
   "outputs": [
    {
     "data": {
      "text/plain": [
       "(264, 7)"
      ]
     },
     "execution_count": 476,
     "metadata": {},
     "output_type": "execute_result"
    }
   ],
   "source": [
    "#all rows with null becomes the test data\n",
    "test_df = updated_df4[updated_df4['age'].isnull()==True]\n",
    "test_df.shape"
   ]
  },
  {
   "cell_type": "code",
   "execution_count": 462,
   "id": "0cf82022",
   "metadata": {},
   "outputs": [
    {
     "data": {
      "text/plain": [
       "0       29.0000\n",
       "1        0.9167\n",
       "2        2.0000\n",
       "3       30.0000\n",
       "4       25.0000\n",
       "         ...   \n",
       "1301    45.5000\n",
       "1304    14.5000\n",
       "1306    26.5000\n",
       "1307    27.0000\n",
       "1308    29.0000\n",
       "Name: age, Length: 1046, dtype: float64"
      ]
     },
     "execution_count": 462,
     "metadata": {},
     "output_type": "execute_result"
    }
   ],
   "source": [
    "#separate the dependent and independent variables of train data\n",
    "y = train_df['age']\n",
    "y"
   ]
  },
  {
   "cell_type": "code",
   "execution_count": 477,
   "id": "30bc6d93",
   "metadata": {},
   "outputs": [],
   "source": [
    "#remove the age column\n",
    "pd.options.mode.chained_assignment = None #turn off SettingWithCopyWarning \n",
    "train_df.drop(\"age\",axis=1,inplace=True)"
   ]
  },
  {
   "cell_type": "code",
   "execution_count": 478,
   "id": "70450f2c",
   "metadata": {},
   "outputs": [
    {
     "data": {
      "text/html": [
       "<div>\n",
       "<style scoped>\n",
       "    .dataframe tbody tr th:only-of-type {\n",
       "        vertical-align: middle;\n",
       "    }\n",
       "\n",
       "    .dataframe tbody tr th {\n",
       "        vertical-align: top;\n",
       "    }\n",
       "\n",
       "    .dataframe thead th {\n",
       "        text-align: right;\n",
       "    }\n",
       "</style>\n",
       "<table border=\"1\" class=\"dataframe\">\n",
       "  <thead>\n",
       "    <tr style=\"text-align: right;\">\n",
       "      <th></th>\n",
       "      <th>pclass</th>\n",
       "      <th>survived</th>\n",
       "      <th>sex</th>\n",
       "      <th>sibsp</th>\n",
       "      <th>parch</th>\n",
       "      <th>fare</th>\n",
       "    </tr>\n",
       "  </thead>\n",
       "  <tbody>\n",
       "    <tr>\n",
       "      <th>0</th>\n",
       "      <td>1.0</td>\n",
       "      <td>1</td>\n",
       "      <td>0</td>\n",
       "      <td>0.0</td>\n",
       "      <td>0.0</td>\n",
       "      <td>211.3375</td>\n",
       "    </tr>\n",
       "    <tr>\n",
       "      <th>1</th>\n",
       "      <td>1.0</td>\n",
       "      <td>1</td>\n",
       "      <td>1</td>\n",
       "      <td>1.0</td>\n",
       "      <td>2.0</td>\n",
       "      <td>151.5500</td>\n",
       "    </tr>\n",
       "    <tr>\n",
       "      <th>2</th>\n",
       "      <td>1.0</td>\n",
       "      <td>0</td>\n",
       "      <td>0</td>\n",
       "      <td>1.0</td>\n",
       "      <td>2.0</td>\n",
       "      <td>151.5500</td>\n",
       "    </tr>\n",
       "    <tr>\n",
       "      <th>3</th>\n",
       "      <td>1.0</td>\n",
       "      <td>0</td>\n",
       "      <td>1</td>\n",
       "      <td>1.0</td>\n",
       "      <td>2.0</td>\n",
       "      <td>151.5500</td>\n",
       "    </tr>\n",
       "    <tr>\n",
       "      <th>4</th>\n",
       "      <td>1.0</td>\n",
       "      <td>0</td>\n",
       "      <td>0</td>\n",
       "      <td>1.0</td>\n",
       "      <td>2.0</td>\n",
       "      <td>151.5500</td>\n",
       "    </tr>\n",
       "  </tbody>\n",
       "</table>\n",
       "</div>"
      ],
      "text/plain": [
       "   pclass  survived  sex  sibsp  parch      fare\n",
       "0     1.0         1    0    0.0    0.0  211.3375\n",
       "1     1.0         1    1    1.0    2.0  151.5500\n",
       "2     1.0         0    0    1.0    2.0  151.5500\n",
       "3     1.0         0    1    1.0    2.0  151.5500\n",
       "4     1.0         0    0    1.0    2.0  151.5500"
      ]
     },
     "execution_count": 478,
     "metadata": {},
     "output_type": "execute_result"
    }
   ],
   "source": [
    "train_df.head()"
   ]
  },
  {
   "cell_type": "code",
   "execution_count": 479,
   "id": "a3f6e63f",
   "metadata": {},
   "outputs": [],
   "source": [
    "#remove the age column\n",
    "test_df.drop(\"age\",axis=1,inplace=True)"
   ]
  },
  {
   "cell_type": "code",
   "execution_count": 480,
   "id": "a98ceab4",
   "metadata": {},
   "outputs": [
    {
     "data": {
      "text/html": [
       "<div>\n",
       "<style scoped>\n",
       "    .dataframe tbody tr th:only-of-type {\n",
       "        vertical-align: middle;\n",
       "    }\n",
       "\n",
       "    .dataframe tbody tr th {\n",
       "        vertical-align: top;\n",
       "    }\n",
       "\n",
       "    .dataframe thead th {\n",
       "        text-align: right;\n",
       "    }\n",
       "</style>\n",
       "<table border=\"1\" class=\"dataframe\">\n",
       "  <thead>\n",
       "    <tr style=\"text-align: right;\">\n",
       "      <th></th>\n",
       "      <th>pclass</th>\n",
       "      <th>survived</th>\n",
       "      <th>sex</th>\n",
       "      <th>sibsp</th>\n",
       "      <th>parch</th>\n",
       "      <th>fare</th>\n",
       "    </tr>\n",
       "  </thead>\n",
       "  <tbody>\n",
       "    <tr>\n",
       "      <th>15</th>\n",
       "      <td>1.0</td>\n",
       "      <td>0</td>\n",
       "      <td>1</td>\n",
       "      <td>0.0</td>\n",
       "      <td>0.0</td>\n",
       "      <td>25.9250</td>\n",
       "    </tr>\n",
       "    <tr>\n",
       "      <th>37</th>\n",
       "      <td>1.0</td>\n",
       "      <td>1</td>\n",
       "      <td>1</td>\n",
       "      <td>0.0</td>\n",
       "      <td>0.0</td>\n",
       "      <td>26.5500</td>\n",
       "    </tr>\n",
       "    <tr>\n",
       "      <th>40</th>\n",
       "      <td>1.0</td>\n",
       "      <td>0</td>\n",
       "      <td>1</td>\n",
       "      <td>0.0</td>\n",
       "      <td>0.0</td>\n",
       "      <td>39.6000</td>\n",
       "    </tr>\n",
       "    <tr>\n",
       "      <th>46</th>\n",
       "      <td>1.0</td>\n",
       "      <td>0</td>\n",
       "      <td>1</td>\n",
       "      <td>0.0</td>\n",
       "      <td>0.0</td>\n",
       "      <td>31.0000</td>\n",
       "    </tr>\n",
       "    <tr>\n",
       "      <th>59</th>\n",
       "      <td>1.0</td>\n",
       "      <td>1</td>\n",
       "      <td>0</td>\n",
       "      <td>0.0</td>\n",
       "      <td>0.0</td>\n",
       "      <td>27.7208</td>\n",
       "    </tr>\n",
       "  </tbody>\n",
       "</table>\n",
       "</div>"
      ],
      "text/plain": [
       "    pclass  survived  sex  sibsp  parch     fare\n",
       "15     1.0         0    1    0.0    0.0  25.9250\n",
       "37     1.0         1    1    0.0    0.0  26.5500\n",
       "40     1.0         0    1    0.0    0.0  39.6000\n",
       "46     1.0         0    1    0.0    0.0  31.0000\n",
       "59     1.0         1    0    0.0    0.0  27.7208"
      ]
     },
     "execution_count": 480,
     "metadata": {},
     "output_type": "execute_result"
    }
   ],
   "source": [
    "test_df.head()"
   ]
  },
  {
   "cell_type": "code",
   "execution_count": 481,
   "id": "e8523de9",
   "metadata": {},
   "outputs": [
    {
     "data": {
      "text/plain": [
       "pclass      0\n",
       "survived    0\n",
       "sex         0\n",
       "sibsp       0\n",
       "parch       0\n",
       "fare        0\n",
       "dtype: int64"
      ]
     },
     "execution_count": 481,
     "metadata": {},
     "output_type": "execute_result"
    }
   ],
   "source": [
    "train_df.isnull().sum()"
   ]
  },
  {
   "cell_type": "code",
   "execution_count": 482,
   "id": "9ae5f465",
   "metadata": {},
   "outputs": [
    {
     "data": {
      "text/plain": [
       "LinearRegression()"
      ]
     },
     "execution_count": 482,
     "metadata": {},
     "output_type": "execute_result"
    }
   ],
   "source": [
    "#fit linear regression model to predict the age column values\n",
    "from sklearn.linear_model import LinearRegression\n",
    "lr = LinearRegression()\n",
    "lr.fit(train_df,y)"
   ]
  },
  {
   "cell_type": "code",
   "execution_count": 483,
   "id": "232e4f42",
   "metadata": {},
   "outputs": [],
   "source": [
    "#make predictions on missing null values\n",
    "pred = lr.predict(test_df)\n",
    "\n",
    "#assign to age column\n",
    "test_df['age']= pred"
   ]
  },
  {
   "cell_type": "code",
   "execution_count": 488,
   "id": "95aa626f",
   "metadata": {},
   "outputs": [
    {
     "name": "stdout",
     "output_type": "stream",
     "text": [
      "   pclass  survived  sex  sibsp  parch      fare      age\n",
      "0     1.0         1    0    0.0    0.0  211.3375  29.0000\n",
      "1     1.0         1    1    1.0    2.0  151.5500   0.9167\n",
      "2     1.0         0    0    1.0    2.0  151.5500   2.0000\n",
      "3     1.0         0    1    1.0    2.0  151.5500  30.0000\n",
      "4     1.0         0    0    1.0    2.0  151.5500  25.0000\n",
      "(1046, 7)\n"
     ]
    }
   ],
   "source": [
    "#add age back to train data \n",
    "train_df['age']=y\n",
    "print(train_df.head())\n",
    "print(train_df.shape)"
   ]
  },
  {
   "cell_type": "code",
   "execution_count": 489,
   "id": "3764f4a3",
   "metadata": {},
   "outputs": [
    {
     "name": "stdout",
     "output_type": "stream",
     "text": [
      "    pclass  survived  sex  sibsp  parch     fare        age\n",
      "15     1.0         0    1    0.0    0.0  25.9250  43.675105\n",
      "37     1.0         1    1    0.0    0.0  26.5500  37.609119\n",
      "40     1.0         0    1    0.0    0.0  39.6000  43.706664\n",
      "46     1.0         0    1    0.0    0.0  31.0000  43.686817\n",
      "59     1.0         1    0    0.0    0.0  27.7208  37.903874\n",
      "(264, 7)\n"
     ]
    }
   ],
   "source": [
    "print(test_df.head())\n",
    "print(test_df.shape)"
   ]
  },
  {
   "cell_type": "code",
   "execution_count": 492,
   "id": "7fa863c0",
   "metadata": {},
   "outputs": [
    {
     "name": "stdout",
     "output_type": "stream",
     "text": [
      "   pclass  survived  sex  sibsp  parch      fare      age\n",
      "0     1.0         1    0    0.0    0.0  211.3375  29.0000\n",
      "1     1.0         1    1    1.0    2.0  151.5500   0.9167\n",
      "2     1.0         0    0    1.0    2.0  151.5500   2.0000\n",
      "3     1.0         0    1    1.0    2.0  151.5500  30.0000\n",
      "4     1.0         0    0    1.0    2.0  151.5500  25.0000\n",
      "(1310, 7)\n"
     ]
    }
   ],
   "source": [
    "combined = pd.concat([train_df,test_df])\n",
    "print(combined.head())\n",
    "print(combined.shape)"
   ]
  },
  {
   "cell_type": "code",
   "execution_count": 493,
   "id": "a6e3e2ef",
   "metadata": {},
   "outputs": [
    {
     "data": {
      "text/plain": [
       "0    1\n",
       "1    1\n",
       "2    0\n",
       "3    0\n",
       "4    0\n",
       "Name: survived, dtype: int64"
      ]
     },
     "execution_count": 493,
     "metadata": {},
     "output_type": "execute_result"
    }
   ],
   "source": [
    "#split into dependent and independent variable\n",
    "y = combined['survived']\n",
    "y.head()"
   ]
  },
  {
   "cell_type": "code",
   "execution_count": 454,
   "id": "9da8fb54",
   "metadata": {},
   "outputs": [
    {
     "data": {
      "text/html": [
       "<div>\n",
       "<style scoped>\n",
       "    .dataframe tbody tr th:only-of-type {\n",
       "        vertical-align: middle;\n",
       "    }\n",
       "\n",
       "    .dataframe tbody tr th {\n",
       "        vertical-align: top;\n",
       "    }\n",
       "\n",
       "    .dataframe thead th {\n",
       "        text-align: right;\n",
       "    }\n",
       "</style>\n",
       "<table border=\"1\" class=\"dataframe\">\n",
       "  <thead>\n",
       "    <tr style=\"text-align: right;\">\n",
       "      <th></th>\n",
       "      <th>pclass</th>\n",
       "      <th>sex</th>\n",
       "      <th>sibsp</th>\n",
       "      <th>parch</th>\n",
       "      <th>fare</th>\n",
       "      <th>age</th>\n",
       "    </tr>\n",
       "  </thead>\n",
       "  <tbody>\n",
       "    <tr>\n",
       "      <th>0</th>\n",
       "      <td>1.0</td>\n",
       "      <td>0</td>\n",
       "      <td>0.0</td>\n",
       "      <td>0.0</td>\n",
       "      <td>211.3375</td>\n",
       "      <td>29.0000</td>\n",
       "    </tr>\n",
       "    <tr>\n",
       "      <th>1</th>\n",
       "      <td>1.0</td>\n",
       "      <td>1</td>\n",
       "      <td>1.0</td>\n",
       "      <td>2.0</td>\n",
       "      <td>151.5500</td>\n",
       "      <td>0.9167</td>\n",
       "    </tr>\n",
       "    <tr>\n",
       "      <th>2</th>\n",
       "      <td>1.0</td>\n",
       "      <td>0</td>\n",
       "      <td>1.0</td>\n",
       "      <td>2.0</td>\n",
       "      <td>151.5500</td>\n",
       "      <td>2.0000</td>\n",
       "    </tr>\n",
       "    <tr>\n",
       "      <th>3</th>\n",
       "      <td>1.0</td>\n",
       "      <td>1</td>\n",
       "      <td>1.0</td>\n",
       "      <td>2.0</td>\n",
       "      <td>151.5500</td>\n",
       "      <td>30.0000</td>\n",
       "    </tr>\n",
       "    <tr>\n",
       "      <th>4</th>\n",
       "      <td>1.0</td>\n",
       "      <td>0</td>\n",
       "      <td>1.0</td>\n",
       "      <td>2.0</td>\n",
       "      <td>151.5500</td>\n",
       "      <td>25.0000</td>\n",
       "    </tr>\n",
       "  </tbody>\n",
       "</table>\n",
       "</div>"
      ],
      "text/plain": [
       "   pclass  sex  sibsp  parch      fare      age\n",
       "0     1.0    0    0.0    0.0  211.3375  29.0000\n",
       "1     1.0    1    1.0    2.0  151.5500   0.9167\n",
       "2     1.0    0    1.0    2.0  151.5500   2.0000\n",
       "3     1.0    1    1.0    2.0  151.5500  30.0000\n",
       "4     1.0    0    1.0    2.0  151.5500  25.0000"
      ]
     },
     "execution_count": 454,
     "metadata": {},
     "output_type": "execute_result"
    }
   ],
   "source": [
    "X=combined.drop(\"survived\",axis=1,inplace=True)\n",
    "print(X.head())\n",
    "print(X.shape)"
   ]
  },
  {
   "cell_type": "code",
   "execution_count": 494,
   "id": "b18d8e99",
   "metadata": {},
   "outputs": [
    {
     "data": {
      "text/plain": [
       "0.6829268292682927"
      ]
     },
     "execution_count": 494,
     "metadata": {},
     "output_type": "execute_result"
    }
   ],
   "source": [
    "X_train,X_test,y_train,y_test = train_test_split(X,y,test_size=0.25,random_state=42)\n",
    "lr = LogisticRegression(max_iter=1000)\n",
    "lr.fit(X_train,y_train)\n",
    "y_pred = lr.predict(X_test)\n",
    "acc = accuracy_score(y_test,y_pred)\n",
    "acc"
   ]
  },
  {
   "cell_type": "markdown",
   "id": "dbd61282",
   "metadata": {},
   "source": [
    "Here our accuracy level has dropped to 68%."
   ]
  },
  {
   "cell_type": "markdown",
   "id": "26ab4f79",
   "metadata": {},
   "source": [
    "#### Conclusion"
   ]
  },
  {
   "cell_type": "markdown",
   "id": "3e5e62ce",
   "metadata": {},
   "source": [
    "Data cleaning is a critical step of data pre-processing. Data loss may lead to skewed parameter estimations, reduced sample representativeness, and more complex research analysis. Ee looked at various approaches to handling missing data and how these techniques are used."
   ]
  }
 ],
 "metadata": {
  "kernelspec": {
   "display_name": "Python 3 (ipykernel)",
   "language": "python",
   "name": "python3"
  },
  "language_info": {
   "codemirror_mode": {
    "name": "ipython",
    "version": 3
   },
   "file_extension": ".py",
   "mimetype": "text/x-python",
   "name": "python",
   "nbconvert_exporter": "python",
   "pygments_lexer": "ipython3",
   "version": "3.9.7"
  }
 },
 "nbformat": 4,
 "nbformat_minor": 5
}
