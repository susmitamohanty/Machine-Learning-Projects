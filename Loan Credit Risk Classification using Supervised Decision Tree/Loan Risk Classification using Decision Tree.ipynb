{
 "cells": [
  {
   "cell_type": "markdown",
   "id": "cdb41186",
   "metadata": {},
   "source": [
    "### 1. Problem Statement - Loan Risk Classification using Decision Tree"
   ]
  },
  {
   "cell_type": "markdown",
   "id": "c52a68f5",
   "metadata": {},
   "source": [
    "The goal of this problem is to predict if a loan credit would be a risk to the bank or not?  The dataset used is the German Credit Risk dataset. In simple terms, if the loan amount is given to the applicant, will they pay back or become a defaulter?\n",
    "\n",
    "We will use Decision tree to create a Predictive model which can tell whether to approve a loan application or not?\n",
    "\n",
    "- Target Variable: GoodCredit\n",
    "\n",
    "    - GoodCredit=1 means the loan was a good decision.\n",
    "\n",
    "    - GoodCredit=0 means the loan was a bad decision.\n",
    "    \n",
    "- Predictors: duration, history, purpose, amount, savings etc."
   ]
  },
  {
   "cell_type": "markdown",
   "id": "452581ad",
   "metadata": {},
   "source": [
    "### 2. What is Decision Tree"
   ]
  },
  {
   "cell_type": "markdown",
   "id": "144cb480",
   "metadata": {},
   "source": [
    "A Decision Tree algorithm is one of the most popular machine learning algorithms. It uses a tree like structure and their possible combinations to solve a particular problem. It belongs to the class of supervised learning algorithms where it can be used for both classification and regression purposes.\n",
    "\n",
    "A decision tree is a structure that includes a root node, branches, and leaf nodes. Each internal node denotes a test on an attribute, each branch denotes the outcome of a test, and each leaf node holds a class label. The topmost node in the tree is the root node.\n",
    "\n",
    "We make some assumptions while implementing the Decision-Tree algorithm. These are listed below:-\n",
    "- At the beginning, the whole training set is considered as the root.\n",
    "- Feature values need to be categorical. If the values are continuous then they are discretized prior to building the model.\n",
    "- Records are distributed recursively on the basis of attribute values.\n",
    "- Order to placing attributes as root or internal node of the tree is done by using some statistical approach."
   ]
  },
  {
   "cell_type": "markdown",
   "id": "f3a0bacd",
   "metadata": {},
   "source": [
    "#### 2.1. What is Classification and Regression Trees (CART)?"
   ]
  },
  {
   "cell_type": "markdown",
   "id": "b44a37fe",
   "metadata": {},
   "source": [
    "Decision Tree algorithm is known by its modern name CART which stands for Classification and Regression Trees. Classification and Regression Trees or CART is a term introduced by Leo Breiman to refer to Decision Tree algorithms that can be used for classification and regression modeling problems.\n",
    "\n",
    "The CART algorithm provides a foundation for other important algorithms like bagged decision trees, random forest and boosted decision trees. In this kernel, I will solve a classification problem. So, I will refer the algorithm also as Decision Tree Classification problem."
   ]
  },
  {
   "cell_type": "markdown",
   "id": "07e061f1",
   "metadata": {},
   "source": [
    "#### 2.2.Terminologies used "
   ]
  },
  {
   "cell_type": "markdown",
   "id": "950f701a",
   "metadata": {},
   "source": [
    "In a Decision Tree algorithm, there is a tree like structure in which each internal node represents a test on an attribute, each branch represents the outcome of the test, and each leaf node represents a class label. The paths from the root node to leaf node represent classification rules.\n",
    "\n",
    "We can see that there is some terminology involved in Decision Tree algorithm. The terms involved in Decision Tree algorithm are as follows:-\n",
    "\n",
    "- Root Node:\n",
    "  It represents the entire population or sample. This further gets divided into two or more homogeneous sets.\n",
    "- Splitting:\n",
    "  It is a process of dividing a node into two or more sub-nodes.\n",
    "- Decision Node:\n",
    "  When a sub-node splits into further sub-nodes, then it is called a decision node.\n",
    "- Leaf/Terminal Node:\n",
    "  Nodes that do not split are called Leaf or Terminal nodes.\n",
    "- Pruning:\n",
    "  When we remove sub-nodes of a decision node, this process is called pruning. It is the opposite process of splitting.\n",
    "- Branch/Sub-Tree:\n",
    "  A sub-section of an entire tree is called a branch or sub-tree.\n",
    "- Parent and Child Node:\n",
    "  A node, which is divided into sub-nodes is called the parent node of sub-nodes where sub-nodes are the children of a parent    node.\n"
   ]
  },
  {
   "cell_type": "markdown",
   "id": "7a03f4a7",
   "metadata": {},
   "source": [
    "#### 2.3.How Decision Tree algorithm works?"
   ]
  },
  {
   "cell_type": "markdown",
   "id": "c65ed6fb",
   "metadata": {},
   "source": [
    "The Decision-Tree algorithm is one of the most frequently and widely used supervised machine learning algorithms that can be used for both classification and regression tasks. It works as below:\n",
    "\n",
    "\n",
    "- For each attribute in the dataset, the Decision-Tree algorithm forms a node. The most important attribute is placed at the root node.\n",
    "\n",
    "- For evaluating the task in hand, we start at the root node and we work our way down the tree by following the corresponding node that meets our condition or decision.\n",
    "\n",
    "- This process continues until a leaf node is reached. It contains the prediction or the outcome of the Decision Tree."
   ]
  },
  {
   "cell_type": "markdown",
   "id": "f532cc64",
   "metadata": {},
   "source": [
    "#### 2.4.How are attributes selected?"
   ]
  },
  {
   "cell_type": "markdown",
   "id": "875ad10b",
   "metadata": {},
   "source": [
    "The primary challenge in the Decision Tree implementation is to identify the attributes which we consider as the root node and each level. This process is known as the attributes selection. There are different attributes selection measure to identify the attribute which can be considered as the root node at each level.\n",
    "\n",
    "There are 2 popular attribute selection measures. They are as follows:-\n",
    "- Information gain\n",
    "- Gini index\n",
    "\n",
    "While using Information gain as a criterion, we assume attributes to be categorical and for Gini index attributes are assumed to be continuous. These attribute selection measures are described below."
   ]
  },
  {
   "cell_type": "markdown",
   "id": "c4300c2a",
   "metadata": {},
   "source": [
    "#### 2.4.a Information Gain - Entropy"
   ]
  },
  {
   "cell_type": "markdown",
   "id": "e5304af3",
   "metadata": {},
   "source": [
    "By using information gain as a criterion, we try to estimate the information contained by each attribute. To understand the concept of Information Gain, we need to know another concept called Entropy.\n",
    "\n",
    "Entropy\n",
    "Entropy measures the impurity in the given dataset. In Physics and Mathematics, entropy is referred to as the randomness or uncertainty of a random variable X. In information theory, it refers to the impurity in a group of examples. Information gain is the decrease in entropy. Information gain computes the difference between entropy before split and average entropy after split of the dataset based on given attribute values.\n",
    "\n",
    "The ID3 (Iterative Dichotomiser) Decision Tree algorithm uses entropy to calculate information gain. So, by calculating decrease in entropy measure of each attribute we can calculate their information gain. The attribute with the highest information gain is chosen as the splitting attribute at the node."
   ]
  },
  {
   "cell_type": "markdown",
   "id": "b7efb223",
   "metadata": {},
   "source": [
    "#### 2.4.b. Gini Index"
   ]
  },
  {
   "cell_type": "markdown",
   "id": "d3933b2b",
   "metadata": {},
   "source": [
    "Another attribute selection measure that CART (Categorical and Regression Trees) uses is the Gini index. It uses the Gini method to create split points. Gini index says, if we randomly select two items from a population, they must be of the same class and probability for this is 1 if the population is pure.  It works with the categorical target variable “Success” or “Failure”. It performs only binary splits. The higher the value of Gini, higher the homogeneity. CART (Classification and Regression Tree) uses the Gini method to create binary splits.\n",
    "\n",
    "Steps to Calculate Gini for a split:\n",
    "- Calculate Gini for sub-nodes, using formula sum of the square of probability for success and failure (p^2+q^2).\n",
    "- Calculate Gini for split using weighted Gini score of each node of that split.\n",
    "\n",
    "In case of a discrete-valued attribute, the subset that gives the minimum gini index for that chosen is selected as a splitting attribute. In the case of continuous-valued attributes, the strategy is to select each pair of adjacent values as a possible split-point and point with smaller gini index chosen as the splitting point. The attribute with minimum Gini index is chosen as the splitting attribute."
   ]
  },
  {
   "cell_type": "markdown",
   "id": "00f754e1",
   "metadata": {},
   "source": [
    "#### 2.5.Handle Overfitting "
   ]
  },
  {
   "cell_type": "markdown",
   "id": "7f42e48c",
   "metadata": {},
   "source": [
    "Overfitting is a practical problem while building a Decision-Tree model. The problem of overfitting is considered when the algorithm continues to go deeper and deeper to reduce the training-set error but results with an increased test-set error. So, accuracy of prediction for our model goes down. It generally happens when we build many branches due to outliers and irregularities in data.\n",
    "\n",
    "Two approaches which can be used to avoid overfitting are as follows:-\n",
    "\n",
    "- Pre-Pruning\n",
    "  In pre-pruning, we stop the tree construction a bit early. We prefer not to split a node if its goodness measure is below a     threshold value. But it is difficult to choose an appropriate stopping point.\n",
    "- Post-Pruning\n",
    "  In post-pruning, we go deeper and deeper in the tree to build a complete tree. If the tree shows the overfitting problem then   pruning is done as a post-pruning step. We use the cross-validation data to check the effect of our pruning. Using cross-       validation data, we test whether expanding a node will result in improve or not. If it shows an improvement, then we can         continue by expanding that node. But if it shows a reduction in accuracy then it should not be expanded. So, the node should     be converted to a leaf node."
   ]
  },
  {
   "cell_type": "markdown",
   "id": "a3edd0c2",
   "metadata": {},
   "source": [
    "### 3. Import Libraries"
   ]
  },
  {
   "cell_type": "code",
   "execution_count": 1,
   "id": "4c57788e",
   "metadata": {},
   "outputs": [],
   "source": [
    "import numpy as np\n",
    "import pandas as pd\n",
    "import time as tm\n",
    "from sklearn.metrics import classification_report,confusion_matrix, roc_curve, roc_auc_score, auc, accuracy_score\n",
    "from sklearn.model_selection import ShuffleSplit,train_test_split, cross_val_score, GridSearchCV\n",
    "from sklearn.preprocessing import OneHotEncoder, LabelEncoder, label_binarize, StandardScaler, MinMaxScaler\n",
    "import seaborn as sns\n",
    "from sklearn import tree\n",
    "import matplotlib.pyplot as plt"
   ]
  },
  {
   "cell_type": "code",
   "execution_count": 2,
   "id": "776ad652",
   "metadata": {},
   "outputs": [],
   "source": [
    "#adjusting the display to fit rows and columns effectively\n",
    "start_time = tm.time()\n",
    "pd.set_option('display.max_rows', 500)\n",
    "pd.set_option('display.max_columns', 500)\n",
    "pd.set_option('display.width', 1000)"
   ]
  },
  {
   "cell_type": "markdown",
   "id": "85decce5",
   "metadata": {},
   "source": [
    "### 4. Load the data"
   ]
  },
  {
   "cell_type": "code",
   "execution_count": 3,
   "id": "0f2b2850",
   "metadata": {},
   "outputs": [
    {
     "data": {
      "text/html": [
       "<div>\n",
       "<style scoped>\n",
       "    .dataframe tbody tr th:only-of-type {\n",
       "        vertical-align: middle;\n",
       "    }\n",
       "\n",
       "    .dataframe tbody tr th {\n",
       "        vertical-align: top;\n",
       "    }\n",
       "\n",
       "    .dataframe thead th {\n",
       "        text-align: right;\n",
       "    }\n",
       "</style>\n",
       "<table border=\"1\" class=\"dataframe\">\n",
       "  <thead>\n",
       "    <tr style=\"text-align: right;\">\n",
       "      <th></th>\n",
       "      <th>GoodCredit</th>\n",
       "      <th>checkingstatus</th>\n",
       "      <th>duration</th>\n",
       "      <th>history</th>\n",
       "      <th>purpose</th>\n",
       "      <th>amount</th>\n",
       "      <th>savings</th>\n",
       "      <th>employ</th>\n",
       "      <th>installment</th>\n",
       "      <th>status</th>\n",
       "      <th>others</th>\n",
       "      <th>residence</th>\n",
       "      <th>property</th>\n",
       "      <th>age</th>\n",
       "      <th>otherplans</th>\n",
       "      <th>housing</th>\n",
       "      <th>cards</th>\n",
       "      <th>job</th>\n",
       "      <th>liable</th>\n",
       "      <th>tele</th>\n",
       "      <th>foreign</th>\n",
       "    </tr>\n",
       "  </thead>\n",
       "  <tbody>\n",
       "    <tr>\n",
       "      <th>0</th>\n",
       "      <td>0</td>\n",
       "      <td>A11</td>\n",
       "      <td>6</td>\n",
       "      <td>A34</td>\n",
       "      <td>A43</td>\n",
       "      <td>1169</td>\n",
       "      <td>A65</td>\n",
       "      <td>A75</td>\n",
       "      <td>4</td>\n",
       "      <td>A93</td>\n",
       "      <td>A101</td>\n",
       "      <td>4</td>\n",
       "      <td>A121</td>\n",
       "      <td>67</td>\n",
       "      <td>A143</td>\n",
       "      <td>A152</td>\n",
       "      <td>2</td>\n",
       "      <td>A173</td>\n",
       "      <td>1</td>\n",
       "      <td>A192</td>\n",
       "      <td>A201</td>\n",
       "    </tr>\n",
       "    <tr>\n",
       "      <th>1</th>\n",
       "      <td>1</td>\n",
       "      <td>A12</td>\n",
       "      <td>48</td>\n",
       "      <td>A32</td>\n",
       "      <td>A43</td>\n",
       "      <td>5951</td>\n",
       "      <td>A61</td>\n",
       "      <td>A73</td>\n",
       "      <td>2</td>\n",
       "      <td>A92</td>\n",
       "      <td>A101</td>\n",
       "      <td>2</td>\n",
       "      <td>A121</td>\n",
       "      <td>22</td>\n",
       "      <td>A143</td>\n",
       "      <td>A152</td>\n",
       "      <td>1</td>\n",
       "      <td>A173</td>\n",
       "      <td>1</td>\n",
       "      <td>A191</td>\n",
       "      <td>A201</td>\n",
       "    </tr>\n",
       "    <tr>\n",
       "      <th>2</th>\n",
       "      <td>0</td>\n",
       "      <td>A14</td>\n",
       "      <td>12</td>\n",
       "      <td>A34</td>\n",
       "      <td>A46</td>\n",
       "      <td>2096</td>\n",
       "      <td>A61</td>\n",
       "      <td>A74</td>\n",
       "      <td>2</td>\n",
       "      <td>A93</td>\n",
       "      <td>A101</td>\n",
       "      <td>3</td>\n",
       "      <td>A121</td>\n",
       "      <td>49</td>\n",
       "      <td>A143</td>\n",
       "      <td>A152</td>\n",
       "      <td>1</td>\n",
       "      <td>A172</td>\n",
       "      <td>2</td>\n",
       "      <td>A191</td>\n",
       "      <td>A201</td>\n",
       "    </tr>\n",
       "  </tbody>\n",
       "</table>\n",
       "</div>"
      ],
      "text/plain": [
       "   GoodCredit checkingstatus  duration history purpose  amount savings employ  installment status others  residence property  age otherplans housing  cards   job  liable  tele foreign\n",
       "0           0            A11         6     A34     A43    1169     A65    A75            4    A93   A101          4     A121   67       A143    A152      2  A173       1  A192    A201\n",
       "1           1            A12        48     A32     A43    5951     A61    A73            2    A92   A101          2     A121   22       A143    A152      1  A173       1  A191    A201\n",
       "2           0            A14        12     A34     A46    2096     A61    A74            2    A93   A101          3     A121   49       A143    A152      1  A172       2  A191    A201"
      ]
     },
     "execution_count": 3,
     "metadata": {},
     "output_type": "execute_result"
    }
   ],
   "source": [
    "data = pd.read_csv(\"CreditRiskData.csv\")\n",
    "data.head(3)"
   ]
  },
  {
   "cell_type": "code",
   "execution_count": 4,
   "id": "1d49d5cf",
   "metadata": {},
   "outputs": [
    {
     "data": {
      "text/plain": [
       "(1000, 21)"
      ]
     },
     "execution_count": 4,
     "metadata": {},
     "output_type": "execute_result"
    }
   ],
   "source": [
    "#check the dimensions of the data'\n",
    "data.shape"
   ]
  },
  {
   "cell_type": "code",
   "execution_count": 5,
   "id": "9b1f7991",
   "metadata": {},
   "outputs": [
    {
     "data": {
      "text/plain": [
       "(1000, 21)"
      ]
     },
     "execution_count": 5,
     "metadata": {},
     "output_type": "execute_result"
    }
   ],
   "source": [
    "#checking for duplicates and deleteing the duplicate records. \n",
    "data.drop_duplicates()\n",
    "data.shape"
   ]
  },
  {
   "cell_type": "markdown",
   "id": "db064207",
   "metadata": {},
   "source": [
    "There are no duplicate rows in this data set."
   ]
  },
  {
   "cell_type": "markdown",
   "id": "48359c05",
   "metadata": {},
   "source": [
    "### 5. Exploratory Data Analysis"
   ]
  },
  {
   "cell_type": "code",
   "execution_count": 6,
   "id": "2001a8c4",
   "metadata": {},
   "outputs": [
    {
     "name": "stdout",
     "output_type": "stream",
     "text": [
      "<class 'pandas.core.frame.DataFrame'>\n",
      "RangeIndex: 1000 entries, 0 to 999\n",
      "Data columns (total 21 columns):\n",
      " #   Column          Non-Null Count  Dtype \n",
      "---  ------          --------------  ----- \n",
      " 0   GoodCredit      1000 non-null   int64 \n",
      " 1   checkingstatus  1000 non-null   object\n",
      " 2   duration        1000 non-null   int64 \n",
      " 3   history         1000 non-null   object\n",
      " 4   purpose         1000 non-null   object\n",
      " 5   amount          1000 non-null   int64 \n",
      " 6   savings         1000 non-null   object\n",
      " 7   employ          1000 non-null   object\n",
      " 8   installment     1000 non-null   int64 \n",
      " 9   status          1000 non-null   object\n",
      " 10  others          1000 non-null   object\n",
      " 11  residence       1000 non-null   int64 \n",
      " 12  property        1000 non-null   object\n",
      " 13  age             1000 non-null   int64 \n",
      " 14  otherplans      1000 non-null   object\n",
      " 15  housing         1000 non-null   object\n",
      " 16  cards           1000 non-null   int64 \n",
      " 17  job             1000 non-null   object\n",
      " 18  liable          1000 non-null   int64 \n",
      " 19  tele            1000 non-null   object\n",
      " 20  foreign         1000 non-null   object\n",
      "dtypes: int64(8), object(13)\n",
      "memory usage: 164.2+ KB\n"
     ]
    }
   ],
   "source": [
    "#checking the fields and their datatypes\n",
    "data.info(verbose=True)"
   ]
  },
  {
   "cell_type": "markdown",
   "id": "640d745e",
   "metadata": {},
   "source": [
    "All the 13 predictors, that are object type are categorical and rest all are numeric."
   ]
  },
  {
   "cell_type": "code",
   "execution_count": 7,
   "id": "d64d75c6",
   "metadata": {},
   "outputs": [
    {
     "data": {
      "text/html": [
       "<div>\n",
       "<style scoped>\n",
       "    .dataframe tbody tr th:only-of-type {\n",
       "        vertical-align: middle;\n",
       "    }\n",
       "\n",
       "    .dataframe tbody tr th {\n",
       "        vertical-align: top;\n",
       "    }\n",
       "\n",
       "    .dataframe thead th {\n",
       "        text-align: right;\n",
       "    }\n",
       "</style>\n",
       "<table border=\"1\" class=\"dataframe\">\n",
       "  <thead>\n",
       "    <tr style=\"text-align: right;\">\n",
       "      <th></th>\n",
       "      <th>GoodCredit</th>\n",
       "      <th>duration</th>\n",
       "      <th>amount</th>\n",
       "      <th>installment</th>\n",
       "      <th>residence</th>\n",
       "      <th>age</th>\n",
       "      <th>cards</th>\n",
       "      <th>liable</th>\n",
       "    </tr>\n",
       "  </thead>\n",
       "  <tbody>\n",
       "    <tr>\n",
       "      <th>count</th>\n",
       "      <td>1000.000000</td>\n",
       "      <td>1000.000000</td>\n",
       "      <td>1000.000000</td>\n",
       "      <td>1000.000000</td>\n",
       "      <td>1000.000000</td>\n",
       "      <td>1000.000000</td>\n",
       "      <td>1000.000000</td>\n",
       "      <td>1000.000000</td>\n",
       "    </tr>\n",
       "    <tr>\n",
       "      <th>mean</th>\n",
       "      <td>0.300000</td>\n",
       "      <td>20.903000</td>\n",
       "      <td>3271.258000</td>\n",
       "      <td>2.973000</td>\n",
       "      <td>2.845000</td>\n",
       "      <td>35.546000</td>\n",
       "      <td>1.407000</td>\n",
       "      <td>1.155000</td>\n",
       "    </tr>\n",
       "    <tr>\n",
       "      <th>std</th>\n",
       "      <td>0.458487</td>\n",
       "      <td>12.058814</td>\n",
       "      <td>2822.736876</td>\n",
       "      <td>1.118715</td>\n",
       "      <td>1.103718</td>\n",
       "      <td>11.375469</td>\n",
       "      <td>0.577654</td>\n",
       "      <td>0.362086</td>\n",
       "    </tr>\n",
       "    <tr>\n",
       "      <th>min</th>\n",
       "      <td>0.000000</td>\n",
       "      <td>4.000000</td>\n",
       "      <td>250.000000</td>\n",
       "      <td>1.000000</td>\n",
       "      <td>1.000000</td>\n",
       "      <td>19.000000</td>\n",
       "      <td>1.000000</td>\n",
       "      <td>1.000000</td>\n",
       "    </tr>\n",
       "    <tr>\n",
       "      <th>25%</th>\n",
       "      <td>0.000000</td>\n",
       "      <td>12.000000</td>\n",
       "      <td>1365.500000</td>\n",
       "      <td>2.000000</td>\n",
       "      <td>2.000000</td>\n",
       "      <td>27.000000</td>\n",
       "      <td>1.000000</td>\n",
       "      <td>1.000000</td>\n",
       "    </tr>\n",
       "    <tr>\n",
       "      <th>50%</th>\n",
       "      <td>0.000000</td>\n",
       "      <td>18.000000</td>\n",
       "      <td>2319.500000</td>\n",
       "      <td>3.000000</td>\n",
       "      <td>3.000000</td>\n",
       "      <td>33.000000</td>\n",
       "      <td>1.000000</td>\n",
       "      <td>1.000000</td>\n",
       "    </tr>\n",
       "    <tr>\n",
       "      <th>75%</th>\n",
       "      <td>1.000000</td>\n",
       "      <td>24.000000</td>\n",
       "      <td>3972.250000</td>\n",
       "      <td>4.000000</td>\n",
       "      <td>4.000000</td>\n",
       "      <td>42.000000</td>\n",
       "      <td>2.000000</td>\n",
       "      <td>1.000000</td>\n",
       "    </tr>\n",
       "    <tr>\n",
       "      <th>max</th>\n",
       "      <td>1.000000</td>\n",
       "      <td>72.000000</td>\n",
       "      <td>18424.000000</td>\n",
       "      <td>4.000000</td>\n",
       "      <td>4.000000</td>\n",
       "      <td>75.000000</td>\n",
       "      <td>4.000000</td>\n",
       "      <td>2.000000</td>\n",
       "    </tr>\n",
       "  </tbody>\n",
       "</table>\n",
       "</div>"
      ],
      "text/plain": [
       "        GoodCredit     duration        amount  installment    residence          age        cards       liable\n",
       "count  1000.000000  1000.000000   1000.000000  1000.000000  1000.000000  1000.000000  1000.000000  1000.000000\n",
       "mean      0.300000    20.903000   3271.258000     2.973000     2.845000    35.546000     1.407000     1.155000\n",
       "std       0.458487    12.058814   2822.736876     1.118715     1.103718    11.375469     0.577654     0.362086\n",
       "min       0.000000     4.000000    250.000000     1.000000     1.000000    19.000000     1.000000     1.000000\n",
       "25%       0.000000    12.000000   1365.500000     2.000000     2.000000    27.000000     1.000000     1.000000\n",
       "50%       0.000000    18.000000   2319.500000     3.000000     3.000000    33.000000     1.000000     1.000000\n",
       "75%       1.000000    24.000000   3972.250000     4.000000     4.000000    42.000000     2.000000     1.000000\n",
       "max       1.000000    72.000000  18424.000000     4.000000     4.000000    75.000000     4.000000     2.000000"
      ]
     },
     "execution_count": 7,
     "metadata": {},
     "output_type": "execute_result"
    }
   ],
   "source": [
    "#check statistical information abut numerical fields.\n",
    "data.describe()"
   ]
  },
  {
   "cell_type": "code",
   "execution_count": 8,
   "id": "f47e19fd",
   "metadata": {},
   "outputs": [
    {
     "name": "stdout",
     "output_type": "stream",
     "text": [
      "<class 'pandas.core.frame.DataFrame'>\n",
      "RangeIndex: 1000 entries, 0 to 999\n",
      "Data columns (total 21 columns):\n",
      " #   Column          Non-Null Count  Dtype \n",
      "---  ------          --------------  ----- \n",
      " 0   GoodCredit      1000 non-null   int64 \n",
      " 1   checkingstatus  1000 non-null   object\n",
      " 2   duration        1000 non-null   int64 \n",
      " 3   history         1000 non-null   object\n",
      " 4   purpose         1000 non-null   object\n",
      " 5   amount          1000 non-null   int64 \n",
      " 6   savings         1000 non-null   object\n",
      " 7   employ          1000 non-null   object\n",
      " 8   installment     1000 non-null   int64 \n",
      " 9   status          1000 non-null   object\n",
      " 10  others          1000 non-null   object\n",
      " 11  residence       1000 non-null   int64 \n",
      " 12  property        1000 non-null   object\n",
      " 13  age             1000 non-null   int64 \n",
      " 14  otherplans      1000 non-null   object\n",
      " 15  housing         1000 non-null   object\n",
      " 16  cards           1000 non-null   int64 \n",
      " 17  job             1000 non-null   object\n",
      " 18  liable          1000 non-null   int64 \n",
      " 19  tele            1000 non-null   object\n",
      " 20  foreign         1000 non-null   object\n",
      "dtypes: int64(8), object(13)\n",
      "memory usage: 164.2+ KB\n"
     ]
    }
   ],
   "source": [
    "#observing the summarized information of data\n",
    "#data types, Missing values based on number of non-null values Vs total rows etc.\n",
    "#remove those variables from data which have too many missing values (Missing Values > 30%)\n",
    "#remove Qualitative variables which cannot be used in Machine Learning\n",
    "data.info()"
   ]
  },
  {
   "cell_type": "code",
   "execution_count": 9,
   "id": "fe1a40cf",
   "metadata": {},
   "outputs": [
    {
     "data": {
      "text/plain": [
       "GoodCredit          2\n",
       "checkingstatus      4\n",
       "duration           33\n",
       "history             5\n",
       "purpose            10\n",
       "amount            921\n",
       "savings             5\n",
       "employ              5\n",
       "installment         4\n",
       "status              4\n",
       "others              3\n",
       "residence           4\n",
       "property            4\n",
       "age                53\n",
       "otherplans          3\n",
       "housing             3\n",
       "cards               4\n",
       "job                 4\n",
       "liable              2\n",
       "tele                2\n",
       "foreign             2\n",
       "dtype: int64"
      ]
     },
     "execution_count": 9,
     "metadata": {},
     "output_type": "execute_result"
    }
   ],
   "source": [
    "#finging unique values for each column\n",
    "#to understand which column is categorical and which one is Continuous\n",
    "#typically if the numer of unique values are < 20 then the variable is likely to be a category otherwise continuous\n",
    "data.nunique()"
   ]
  },
  {
   "cell_type": "markdown",
   "id": "38deab64",
   "metadata": {},
   "source": [
    "Since the variables-installment, residence,cards, liable have < 20 unique values, should be considered catgeorical, inspite of being numeric."
   ]
  },
  {
   "cell_type": "markdown",
   "id": "4c94154e",
   "metadata": {},
   "source": [
    "#### Check multicollinearity"
   ]
  },
  {
   "cell_type": "code",
   "execution_count": 10,
   "id": "c40cac97",
   "metadata": {},
   "outputs": [
    {
     "data": {
      "text/html": [
       "<div>\n",
       "<style scoped>\n",
       "    .dataframe tbody tr th:only-of-type {\n",
       "        vertical-align: middle;\n",
       "    }\n",
       "\n",
       "    .dataframe tbody tr th {\n",
       "        vertical-align: top;\n",
       "    }\n",
       "\n",
       "    .dataframe thead th {\n",
       "        text-align: right;\n",
       "    }\n",
       "</style>\n",
       "<table border=\"1\" class=\"dataframe\">\n",
       "  <thead>\n",
       "    <tr style=\"text-align: right;\">\n",
       "      <th></th>\n",
       "      <th>GoodCredit</th>\n",
       "      <th>duration</th>\n",
       "      <th>amount</th>\n",
       "      <th>installment</th>\n",
       "      <th>residence</th>\n",
       "      <th>age</th>\n",
       "      <th>cards</th>\n",
       "      <th>liable</th>\n",
       "    </tr>\n",
       "  </thead>\n",
       "  <tbody>\n",
       "    <tr>\n",
       "      <th>GoodCredit</th>\n",
       "      <td>1.000000</td>\n",
       "      <td>0.214927</td>\n",
       "      <td>0.154739</td>\n",
       "      <td>0.072404</td>\n",
       "      <td>0.002967</td>\n",
       "      <td>-0.091127</td>\n",
       "      <td>-0.045732</td>\n",
       "      <td>-0.003015</td>\n",
       "    </tr>\n",
       "    <tr>\n",
       "      <th>duration</th>\n",
       "      <td>0.214927</td>\n",
       "      <td>1.000000</td>\n",
       "      <td>0.624984</td>\n",
       "      <td>0.074749</td>\n",
       "      <td>0.034067</td>\n",
       "      <td>-0.036136</td>\n",
       "      <td>-0.011284</td>\n",
       "      <td>-0.023834</td>\n",
       "    </tr>\n",
       "    <tr>\n",
       "      <th>amount</th>\n",
       "      <td>0.154739</td>\n",
       "      <td>0.624984</td>\n",
       "      <td>1.000000</td>\n",
       "      <td>-0.271316</td>\n",
       "      <td>0.028926</td>\n",
       "      <td>0.032716</td>\n",
       "      <td>0.020795</td>\n",
       "      <td>0.017142</td>\n",
       "    </tr>\n",
       "    <tr>\n",
       "      <th>installment</th>\n",
       "      <td>0.072404</td>\n",
       "      <td>0.074749</td>\n",
       "      <td>-0.271316</td>\n",
       "      <td>1.000000</td>\n",
       "      <td>0.049302</td>\n",
       "      <td>0.058266</td>\n",
       "      <td>0.021669</td>\n",
       "      <td>-0.071207</td>\n",
       "    </tr>\n",
       "    <tr>\n",
       "      <th>residence</th>\n",
       "      <td>0.002967</td>\n",
       "      <td>0.034067</td>\n",
       "      <td>0.028926</td>\n",
       "      <td>0.049302</td>\n",
       "      <td>1.000000</td>\n",
       "      <td>0.266419</td>\n",
       "      <td>0.089625</td>\n",
       "      <td>0.042643</td>\n",
       "    </tr>\n",
       "    <tr>\n",
       "      <th>age</th>\n",
       "      <td>-0.091127</td>\n",
       "      <td>-0.036136</td>\n",
       "      <td>0.032716</td>\n",
       "      <td>0.058266</td>\n",
       "      <td>0.266419</td>\n",
       "      <td>1.000000</td>\n",
       "      <td>0.149254</td>\n",
       "      <td>0.118201</td>\n",
       "    </tr>\n",
       "    <tr>\n",
       "      <th>cards</th>\n",
       "      <td>-0.045732</td>\n",
       "      <td>-0.011284</td>\n",
       "      <td>0.020795</td>\n",
       "      <td>0.021669</td>\n",
       "      <td>0.089625</td>\n",
       "      <td>0.149254</td>\n",
       "      <td>1.000000</td>\n",
       "      <td>0.109667</td>\n",
       "    </tr>\n",
       "    <tr>\n",
       "      <th>liable</th>\n",
       "      <td>-0.003015</td>\n",
       "      <td>-0.023834</td>\n",
       "      <td>0.017142</td>\n",
       "      <td>-0.071207</td>\n",
       "      <td>0.042643</td>\n",
       "      <td>0.118201</td>\n",
       "      <td>0.109667</td>\n",
       "      <td>1.000000</td>\n",
       "    </tr>\n",
       "  </tbody>\n",
       "</table>\n",
       "</div>"
      ],
      "text/plain": [
       "             GoodCredit  duration    amount  installment  residence       age     cards    liable\n",
       "GoodCredit     1.000000  0.214927  0.154739     0.072404   0.002967 -0.091127 -0.045732 -0.003015\n",
       "duration       0.214927  1.000000  0.624984     0.074749   0.034067 -0.036136 -0.011284 -0.023834\n",
       "amount         0.154739  0.624984  1.000000    -0.271316   0.028926  0.032716  0.020795  0.017142\n",
       "installment    0.072404  0.074749 -0.271316     1.000000   0.049302  0.058266  0.021669 -0.071207\n",
       "residence      0.002967  0.034067  0.028926     0.049302   1.000000  0.266419  0.089625  0.042643\n",
       "age           -0.091127 -0.036136  0.032716     0.058266   0.266419  1.000000  0.149254  0.118201\n",
       "cards         -0.045732 -0.011284  0.020795     0.021669   0.089625  0.149254  1.000000  0.109667\n",
       "liable        -0.003015 -0.023834  0.017142    -0.071207   0.042643  0.118201  0.109667  1.000000"
      ]
     },
     "execution_count": 10,
     "metadata": {},
     "output_type": "execute_result"
    }
   ],
   "source": [
    "#check the correlation matrix\n",
    "data.corr()"
   ]
  },
  {
   "cell_type": "code",
   "execution_count": 11,
   "id": "909e2dd5",
   "metadata": {},
   "outputs": [
    {
     "data": {
      "text/plain": [
       "<AxesSubplot:>"
      ]
     },
     "execution_count": 11,
     "metadata": {},
     "output_type": "execute_result"
    },
    {
     "data": {
      "image/png": "[encoded data removed]",
      "text/plain": [
       "<Figure size 792x792 with 2 Axes>"
      ]
     },
     "metadata": {
      "needs_background": "light"
     },
     "output_type": "display_data"
    }
   ],
   "source": [
    "#plot the correlation matrix\n",
    "plt.figure(figsize=(11,11))\n",
    "sns.heatmap(data.corr())"
   ]
  },
  {
   "cell_type": "markdown",
   "id": "542f8e02",
   "metadata": {},
   "source": [
    "#### Separate numerical and categorial columns"
   ]
  },
  {
   "cell_type": "code",
   "execution_count": 12,
   "id": "045c2c8c",
   "metadata": {},
   "outputs": [
    {
     "data": {
      "text/plain": [
       "Index(['GoodCredit', 'amount', 'age'], dtype='object')"
      ]
     },
     "execution_count": 12,
     "metadata": {},
     "output_type": "execute_result"
    }
   ],
   "source": [
    "#fetch the numerical columns\n",
    "data_copya = data.copy()\n",
    "data_copya = data_copya.drop(['installment', 'residence','cards', 'liable', 'duration'],axis=1)\n",
    "numeric_cols = data_copya.select_dtypes(include=['float64','float32','int64','int32']).columns\n",
    "numeric_cols"
   ]
  },
  {
   "cell_type": "code",
   "execution_count": 13,
   "id": "fa777695",
   "metadata": {},
   "outputs": [
    {
     "data": {
      "image/png": "[encoded data removed]",
      "text/plain": [
       "<Figure size 432x288 with 1 Axes>"
      ]
     },
     "metadata": {
      "needs_background": "light"
     },
     "output_type": "display_data"
    },
    {
     "data": {
      "image/png": "[encoded data removed]",
      "text/plain": [
       "<Figure size 432x288 with 1 Axes>"
      ]
     },
     "metadata": {
      "needs_background": "light"
     },
     "output_type": "display_data"
    },
    {
     "data": {
      "image/png": "[encoded data removed]",
      "text/plain": [
       "<Figure size 432x288 with 1 Axes>"
      ]
     },
     "metadata": {
      "needs_background": "light"
     },
     "output_type": "display_data"
    }
   ],
   "source": [
    "#plot comparative boxplots for the numerica variables\n",
    "import matplotlib.pyplot as plt\n",
    "import pandas as pd\n",
    "import matplotlib.ticker as ticker\n",
    "\n",
    "lsn=list(numeric_cols)\n",
    "\n",
    "for c in lsn:\n",
    "    plt.figure()\n",
    "    data.boxplot([c])"
   ]
  },
  {
   "cell_type": "markdown",
   "id": "48cfa8a7",
   "metadata": {},
   "source": [
    "There are some outliers in the data - age, amount and duration that we will handle."
   ]
  },
  {
   "cell_type": "code",
   "execution_count": 14,
   "id": "029122f4",
   "metadata": {},
   "outputs": [
    {
     "data": {
      "text/plain": [
       "array([[<AxesSubplot:title={'center':'age'}>,\n",
       "        <AxesSubplot:title={'center':'amount'}>],\n",
       "       [<AxesSubplot:title={'center':'duration'}>, <AxesSubplot:>]],\n",
       "      dtype=object)"
      ]
     },
     "execution_count": 14,
     "metadata": {},
     "output_type": "execute_result"
    },
    {
     "data": {
      "image/png": "[encoded data removed]",
      "text/plain": [
       "<Figure size 432x288 with 4 Axes>"
      ]
     },
     "metadata": {
      "needs_background": "light"
     },
     "output_type": "display_data"
    }
   ],
   "source": [
    "#plotting histograms of multiple columns together\n",
    "#observe that ApplicantIncome and CoapplicantIncome has outliers\n",
    "data.hist(['age', 'amount','duration'],color='brown')"
   ]
  },
  {
   "cell_type": "markdown",
   "id": "21c9d2b3",
   "metadata": {},
   "source": [
    "All 3 continuous variables show slight skewness to the left, which is acceptable, hence no outlier treatment is required."
   ]
  },
  {
   "cell_type": "code",
   "execution_count": 15,
   "id": "372c9567",
   "metadata": {},
   "outputs": [
    {
     "data": {
      "text/plain": [
       "Index(['checkingstatus', 'history', 'purpose', 'savings', 'employ', 'status', 'others', 'property', 'otherplans', 'housing', 'job', 'tele', 'foreign'], dtype='object')"
      ]
     },
     "execution_count": 15,
     "metadata": {},
     "output_type": "execute_result"
    }
   ],
   "source": [
    "#fetch the categorical columns\n",
    "categorical_cols = data.select_dtypes(include=['object']).columns\n",
    "categorical_cols"
   ]
  },
  {
   "cell_type": "code",
   "execution_count": 16,
   "id": "c0480671",
   "metadata": {},
   "outputs": [
    {
     "data": {
      "text/plain": [
       "['checkingstatus',\n",
       " 'history',\n",
       " 'purpose',\n",
       " 'savings',\n",
       " 'employ',\n",
       " 'status',\n",
       " 'others',\n",
       " 'property',\n",
       " 'otherplans',\n",
       " 'housing',\n",
       " 'job',\n",
       " 'tele',\n",
       " 'foreign',\n",
       " 'installment',\n",
       " 'residence',\n",
       " 'cards',\n",
       " 'liable']"
      ]
     },
     "execution_count": 16,
     "metadata": {},
     "output_type": "execute_result"
    }
   ],
   "source": [
    "new_categorical_cols = list(categorical_cols) + ['installment', 'residence','cards', 'liable']\n",
    "new_categorical_cols"
   ]
  },
  {
   "cell_type": "code",
   "execution_count": 17,
   "id": "b7d0ef8a",
   "metadata": {},
   "outputs": [
    {
     "name": "stdout",
     "output_type": "stream",
     "text": [
      "A14    394\n",
      "A11    274\n",
      "A12    269\n",
      "A13     63\n",
      "Name: checkingstatus, dtype: int64\n",
      "A32    530\n",
      "A34    293\n",
      "A33     88\n",
      "A31     49\n",
      "A30     40\n",
      "Name: history, dtype: int64\n",
      "A43     280\n",
      "A40     234\n",
      "A42     181\n",
      "A41     103\n",
      "A49      97\n",
      "A46      50\n",
      "A45      22\n",
      "A410     12\n",
      "A44      12\n",
      "A48       9\n",
      "Name: purpose, dtype: int64\n",
      "A61    603\n",
      "A65    183\n",
      "A62    103\n",
      "A63     63\n",
      "A64     48\n",
      "Name: savings, dtype: int64\n",
      "A73    339\n",
      "A75    253\n",
      "A74    174\n",
      "A72    172\n",
      "A71     62\n",
      "Name: employ, dtype: int64\n",
      "A93    548\n",
      "A92    310\n",
      "A94     92\n",
      "A91     50\n",
      "Name: status, dtype: int64\n",
      "A101    907\n",
      "A103     52\n",
      "A102     41\n",
      "Name: others, dtype: int64\n",
      "A123    332\n",
      "A121    282\n",
      "A122    232\n",
      "A124    154\n",
      "Name: property, dtype: int64\n",
      "A143    814\n",
      "A141    139\n",
      "A142     47\n",
      "Name: otherplans, dtype: int64\n",
      "A152    713\n",
      "A151    179\n",
      "A153    108\n",
      "Name: housing, dtype: int64\n",
      "A173    630\n",
      "A172    200\n",
      "A174    148\n",
      "A171     22\n",
      "Name: job, dtype: int64\n",
      "A191    596\n",
      "A192    404\n",
      "Name: tele, dtype: int64\n",
      "A201    963\n",
      "A202     37\n",
      "Name: foreign, dtype: int64\n",
      "4    476\n",
      "2    231\n",
      "3    157\n",
      "1    136\n",
      "Name: installment, dtype: int64\n",
      "4    413\n",
      "2    308\n",
      "3    149\n",
      "1    130\n",
      "Name: residence, dtype: int64\n",
      "1    633\n",
      "2    333\n",
      "3     28\n",
      "4      6\n",
      "Name: cards, dtype: int64\n",
      "1    845\n",
      "2    155\n",
      "Name: liable, dtype: int64\n"
     ]
    }
   ],
   "source": [
    "#check unique values in categorical columns\n",
    "for col in new_categorical_cols:\n",
    "        print(data[col].value_counts()) "
   ]
  },
  {
   "cell_type": "code",
   "execution_count": 18,
   "id": "9a2c71f1",
   "metadata": {},
   "outputs": [
    {
     "data": {
      "image/png": "[encoded data removed]",
      "text/plain": [
       "<Figure size 720x216 with 1 Axes>"
      ]
     },
     "metadata": {
      "needs_background": "light"
     },
     "output_type": "display_data"
    },
    {
     "data": {
      "image/png": "[encoded data removed]",
      "text/plain": [
       "<Figure size 720x216 with 1 Axes>"
      ]
     },
     "metadata": {
      "needs_background": "light"
     },
     "output_type": "display_data"
    },
    {
     "data": {
      "image/png": "[encoded data removed]",
      "text/plain": [
       "<Figure size 720x216 with 1 Axes>"
      ]
     },
     "metadata": {
      "needs_background": "light"
     },
     "output_type": "display_data"
    },
    {
     "data": {
      "image/png": "[encoded data removed]",
      "text/plain": [
       "<Figure size 720x216 with 1 Axes>"
      ]
     },
     "metadata": {
      "needs_background": "light"
     },
     "output_type": "display_data"
    },
    {
     "data": {
      "image/png": "[encoded data removed]",
      "text/plain": [
       "<Figure size 720x216 with 1 Axes>"
      ]
     },
     "metadata": {
      "needs_background": "light"
     },
     "output_type": "display_data"
    },
    {
     "data": {
      "image/png": "[encoded data removed]",
      "text/plain": [
       "<Figure size 720x216 with 1 Axes>"
      ]
     },
     "metadata": {
      "needs_background": "light"
     },
     "output_type": "display_data"
    },
    {
     "data": {
      "image/png": "[encoded data removed]",
      "text/plain": [
       "<Figure size 720x216 with 1 Axes>"
      ]
     },
     "metadata": {
      "needs_background": "light"
     },
     "output_type": "display_data"
    },
    {
     "data": {
      "image/png": "[encoded data removed]",
      "text/plain": [
       "<Figure size 720x216 with 1 Axes>"
      ]
     },
     "metadata": {
      "needs_background": "light"
     },
     "output_type": "display_data"
    },
    {
     "data": {
      "image/png": "[encoded data removed]",
      "text/plain": [
       "<Figure size 720x216 with 1 Axes>"
      ]
     },
     "metadata": {
      "needs_background": "light"
     },
     "output_type": "display_data"
    },
    {
     "data": {
      "image/png": "[encoded data removed]",
      "text/plain": [
       "<Figure size 720x216 with 1 Axes>"
      ]
     },
     "metadata": {
      "needs_background": "light"
     },
     "output_type": "display_data"
    },
    {
     "data": {
      "image/png": "[encoded data removed]",
      "text/plain": [
       "<Figure size 720x216 with 1 Axes>"
      ]
     },
     "metadata": {
      "needs_background": "light"
     },
     "output_type": "display_data"
    },
    {
     "data": {
      "image/png": "[encoded data removed]",
      "text/plain": [
       "<Figure size 720x216 with 1 Axes>"
      ]
     },
     "metadata": {
      "needs_background": "light"
     },
     "output_type": "display_data"
    },
    {
     "data": {
      "image/png": "[encoded data removed]",
      "text/plain": [
       "<Figure size 720x216 with 1 Axes>"
      ]
     },
     "metadata": {
      "needs_background": "light"
     },
     "output_type": "display_data"
    },
    {
     "data": {
      "image/png": "[encoded data removed]",
      "text/plain": [
       "<Figure size 720x216 with 1 Axes>"
      ]
     },
     "metadata": {
      "needs_background": "light"
     },
     "output_type": "display_data"
    },
    {
     "data": {
      "image/png": "[encoded data removed]",
      "text/plain": [
       "<Figure size 720x216 with 1 Axes>"
      ]
     },
     "metadata": {
      "needs_background": "light"
     },
     "output_type": "display_data"
    },
    {
     "data": {
      "image/png": "[encoded data removed]",
      "text/plain": [
       "<Figure size 720x216 with 1 Axes>"
      ]
     },
     "metadata": {
      "needs_background": "light"
     },
     "output_type": "display_data"
    },
    {
     "data": {
      "image/png": "[encoded data removed]",
      "text/plain": [
       "<Figure size 720x216 with 1 Axes>"
      ]
     },
     "metadata": {
      "needs_background": "light"
     },
     "output_type": "display_data"
    }
   ],
   "source": [
    "#plot comparative countplots for the categorical variables\n",
    "import matplotlib.pyplot as plt\n",
    "import pandas as pd\n",
    "import matplotlib.ticker as ticker\n",
    "\n",
    "for i in new_categorical_cols:\n",
    "  fig, ax = plt.subplots(1,1, figsize=(10, 3))\n",
    "  sns.countplot(y = data[i],data=data, order=data[i].value_counts().index, palette='Blues_r')\n",
    "  plt.xlabel('GoodCredit ', fontsize=15)\n",
    "  plt.ylabel(i,fontsize=15)\n",
    "  plt.yticks(fontsize=13)\n"
   ]
  },
  {
   "cell_type": "markdown",
   "id": "bcd661da",
   "metadata": {},
   "source": [
    "Each category has comparable frequency. Hence, there are enough rows for each category in the data for the ML algorithm to learn."
   ]
  },
  {
   "cell_type": "markdown",
   "id": "85277d0f",
   "metadata": {},
   "source": [
    "#### Check data balanced or not"
   ]
  },
  {
   "cell_type": "code",
   "execution_count": 19,
   "id": "a86c8738",
   "metadata": {},
   "outputs": [
    {
     "data": {
      "image/png": "[encoded data removed]",
      "text/plain": [
       "<Figure size 432x288 with 1 Axes>"
      ]
     },
     "metadata": {
      "needs_background": "light"
     },
     "output_type": "display_data"
    }
   ],
   "source": [
    "sns.countplot(x='GoodCredit', data=data)\n",
    "plt.title('Classes of Credit Risk')\n",
    "plt.show()"
   ]
  },
  {
   "cell_type": "markdown",
   "id": "a97a08cb",
   "metadata": {},
   "source": [
    "The data is imbalanced, we need to handle this."
   ]
  },
  {
   "cell_type": "markdown",
   "id": "0aad40a9",
   "metadata": {},
   "source": [
    "#### Check missing values"
   ]
  },
  {
   "cell_type": "code",
   "execution_count": 20,
   "id": "fd337b74",
   "metadata": {},
   "outputs": [
    {
     "data": {
      "text/plain": [
       "GoodCredit        0\n",
       "checkingstatus    0\n",
       "duration          0\n",
       "history           0\n",
       "purpose           0\n",
       "amount            0\n",
       "savings           0\n",
       "employ            0\n",
       "installment       0\n",
       "status            0\n",
       "others            0\n",
       "residence         0\n",
       "property          0\n",
       "age               0\n",
       "otherplans        0\n",
       "housing           0\n",
       "cards             0\n",
       "job               0\n",
       "liable            0\n",
       "tele              0\n",
       "foreign           0\n",
       "dtype: int64"
      ]
     },
     "execution_count": 20,
     "metadata": {},
     "output_type": "execute_result"
    }
   ],
   "source": [
    "data.isnull().sum()"
   ]
  },
  {
   "cell_type": "code",
   "execution_count": 21,
   "id": "de55d4f0",
   "metadata": {},
   "outputs": [
    {
     "data": {
      "text/html": [
       "<div>\n",
       "<style scoped>\n",
       "    .dataframe tbody tr th:only-of-type {\n",
       "        vertical-align: middle;\n",
       "    }\n",
       "\n",
       "    .dataframe tbody tr th {\n",
       "        vertical-align: top;\n",
       "    }\n",
       "\n",
       "    .dataframe thead th {\n",
       "        text-align: right;\n",
       "    }\n",
       "</style>\n",
       "<table border=\"1\" class=\"dataframe\">\n",
       "  <thead>\n",
       "    <tr style=\"text-align: right;\">\n",
       "      <th></th>\n",
       "      <th>col</th>\n",
       "      <th>pct_missing</th>\n",
       "    </tr>\n",
       "  </thead>\n",
       "  <tbody>\n",
       "    <tr>\n",
       "      <th>0</th>\n",
       "      <td>GoodCredit</td>\n",
       "      <td>0.0</td>\n",
       "    </tr>\n",
       "    <tr>\n",
       "      <th>1</th>\n",
       "      <td>checkingstatus</td>\n",
       "      <td>0.0</td>\n",
       "    </tr>\n",
       "    <tr>\n",
       "      <th>2</th>\n",
       "      <td>duration</td>\n",
       "      <td>0.0</td>\n",
       "    </tr>\n",
       "    <tr>\n",
       "      <th>3</th>\n",
       "      <td>history</td>\n",
       "      <td>0.0</td>\n",
       "    </tr>\n",
       "    <tr>\n",
       "      <th>4</th>\n",
       "      <td>purpose</td>\n",
       "      <td>0.0</td>\n",
       "    </tr>\n",
       "    <tr>\n",
       "      <th>5</th>\n",
       "      <td>amount</td>\n",
       "      <td>0.0</td>\n",
       "    </tr>\n",
       "    <tr>\n",
       "      <th>6</th>\n",
       "      <td>savings</td>\n",
       "      <td>0.0</td>\n",
       "    </tr>\n",
       "    <tr>\n",
       "      <th>7</th>\n",
       "      <td>employ</td>\n",
       "      <td>0.0</td>\n",
       "    </tr>\n",
       "    <tr>\n",
       "      <th>8</th>\n",
       "      <td>installment</td>\n",
       "      <td>0.0</td>\n",
       "    </tr>\n",
       "    <tr>\n",
       "      <th>9</th>\n",
       "      <td>status</td>\n",
       "      <td>0.0</td>\n",
       "    </tr>\n",
       "    <tr>\n",
       "      <th>10</th>\n",
       "      <td>others</td>\n",
       "      <td>0.0</td>\n",
       "    </tr>\n",
       "    <tr>\n",
       "      <th>11</th>\n",
       "      <td>residence</td>\n",
       "      <td>0.0</td>\n",
       "    </tr>\n",
       "    <tr>\n",
       "      <th>12</th>\n",
       "      <td>property</td>\n",
       "      <td>0.0</td>\n",
       "    </tr>\n",
       "    <tr>\n",
       "      <th>13</th>\n",
       "      <td>age</td>\n",
       "      <td>0.0</td>\n",
       "    </tr>\n",
       "    <tr>\n",
       "      <th>14</th>\n",
       "      <td>otherplans</td>\n",
       "      <td>0.0</td>\n",
       "    </tr>\n",
       "    <tr>\n",
       "      <th>15</th>\n",
       "      <td>housing</td>\n",
       "      <td>0.0</td>\n",
       "    </tr>\n",
       "    <tr>\n",
       "      <th>16</th>\n",
       "      <td>cards</td>\n",
       "      <td>0.0</td>\n",
       "    </tr>\n",
       "    <tr>\n",
       "      <th>17</th>\n",
       "      <td>job</td>\n",
       "      <td>0.0</td>\n",
       "    </tr>\n",
       "    <tr>\n",
       "      <th>18</th>\n",
       "      <td>liable</td>\n",
       "      <td>0.0</td>\n",
       "    </tr>\n",
       "    <tr>\n",
       "      <th>19</th>\n",
       "      <td>tele</td>\n",
       "      <td>0.0</td>\n",
       "    </tr>\n",
       "    <tr>\n",
       "      <th>20</th>\n",
       "      <td>foreign</td>\n",
       "      <td>0.0</td>\n",
       "    </tr>\n",
       "  </tbody>\n",
       "</table>\n",
       "</div>"
      ],
      "text/plain": [
       "               col  pct_missing\n",
       "0       GoodCredit          0.0\n",
       "1   checkingstatus          0.0\n",
       "2         duration          0.0\n",
       "3          history          0.0\n",
       "4          purpose          0.0\n",
       "5           amount          0.0\n",
       "6          savings          0.0\n",
       "7           employ          0.0\n",
       "8      installment          0.0\n",
       "9           status          0.0\n",
       "10          others          0.0\n",
       "11       residence          0.0\n",
       "12        property          0.0\n",
       "13             age          0.0\n",
       "14      otherplans          0.0\n",
       "15         housing          0.0\n",
       "16           cards          0.0\n",
       "17             job          0.0\n",
       "18          liable          0.0\n",
       "19            tele          0.0\n",
       "20         foreign          0.0"
      ]
     },
     "execution_count": 21,
     "metadata": {},
     "output_type": "execute_result"
    }
   ],
   "source": [
    "#% of values missing in each column\n",
    "values_list = list()\n",
    "cols_list = list()\n",
    "for col in data.columns:\n",
    "    pct_missing = np.mean(data[col].isnull())*100\n",
    "    cols_list.append(col)\n",
    "    values_list.append(pct_missing)\n",
    "pct_missing_df = pd.DataFrame()\n",
    "pct_missing_df['col'] = cols_list\n",
    "pct_missing_df['pct_missing'] = values_list\n",
    "\n",
    "pct_missing_df"
   ]
  },
  {
   "cell_type": "markdown",
   "id": "1c2a2577",
   "metadata": {},
   "source": [
    "There are no missing values. We have checked the frequency distribution of values previously. It also confirms that there are no missing values in the dataset."
   ]
  },
  {
   "cell_type": "markdown",
   "id": "9d3c4cc1",
   "metadata": {},
   "source": [
    "#### Feature Engineering"
   ]
  },
  {
   "cell_type": "markdown",
   "id": "8796adc7",
   "metadata": {},
   "source": [
    "It is the process of transforming raw data into useful features that help us to understand our model better and increase its predictive power."
   ]
  },
  {
   "cell_type": "code",
   "execution_count": 22,
   "id": "edf8bc31",
   "metadata": {},
   "outputs": [
    {
     "data": {
      "text/html": [
       "<div>\n",
       "<style scoped>\n",
       "    .dataframe tbody tr th:only-of-type {\n",
       "        vertical-align: middle;\n",
       "    }\n",
       "\n",
       "    .dataframe tbody tr th {\n",
       "        vertical-align: top;\n",
       "    }\n",
       "\n",
       "    .dataframe thead th {\n",
       "        text-align: right;\n",
       "    }\n",
       "</style>\n",
       "<table border=\"1\" class=\"dataframe\">\n",
       "  <thead>\n",
       "    <tr style=\"text-align: right;\">\n",
       "      <th></th>\n",
       "      <th>checkingstatus</th>\n",
       "      <th>history</th>\n",
       "      <th>purpose</th>\n",
       "      <th>savings</th>\n",
       "      <th>employ</th>\n",
       "      <th>status</th>\n",
       "      <th>others</th>\n",
       "      <th>property</th>\n",
       "      <th>otherplans</th>\n",
       "      <th>housing</th>\n",
       "      <th>job</th>\n",
       "      <th>tele</th>\n",
       "      <th>foreign</th>\n",
       "      <th>installment</th>\n",
       "      <th>residence</th>\n",
       "      <th>cards</th>\n",
       "      <th>liable</th>\n",
       "    </tr>\n",
       "  </thead>\n",
       "  <tbody>\n",
       "    <tr>\n",
       "      <th>0</th>\n",
       "      <td>A11</td>\n",
       "      <td>A34</td>\n",
       "      <td>A43</td>\n",
       "      <td>A65</td>\n",
       "      <td>A75</td>\n",
       "      <td>A93</td>\n",
       "      <td>A101</td>\n",
       "      <td>A121</td>\n",
       "      <td>A143</td>\n",
       "      <td>A152</td>\n",
       "      <td>A173</td>\n",
       "      <td>A192</td>\n",
       "      <td>A201</td>\n",
       "      <td>4</td>\n",
       "      <td>4</td>\n",
       "      <td>2</td>\n",
       "      <td>1</td>\n",
       "    </tr>\n",
       "    <tr>\n",
       "      <th>1</th>\n",
       "      <td>A12</td>\n",
       "      <td>A32</td>\n",
       "      <td>A43</td>\n",
       "      <td>A61</td>\n",
       "      <td>A73</td>\n",
       "      <td>A92</td>\n",
       "      <td>A101</td>\n",
       "      <td>A121</td>\n",
       "      <td>A143</td>\n",
       "      <td>A152</td>\n",
       "      <td>A173</td>\n",
       "      <td>A191</td>\n",
       "      <td>A201</td>\n",
       "      <td>2</td>\n",
       "      <td>2</td>\n",
       "      <td>1</td>\n",
       "      <td>1</td>\n",
       "    </tr>\n",
       "    <tr>\n",
       "      <th>2</th>\n",
       "      <td>A14</td>\n",
       "      <td>A34</td>\n",
       "      <td>A46</td>\n",
       "      <td>A61</td>\n",
       "      <td>A74</td>\n",
       "      <td>A93</td>\n",
       "      <td>A101</td>\n",
       "      <td>A121</td>\n",
       "      <td>A143</td>\n",
       "      <td>A152</td>\n",
       "      <td>A172</td>\n",
       "      <td>A191</td>\n",
       "      <td>A201</td>\n",
       "      <td>2</td>\n",
       "      <td>3</td>\n",
       "      <td>1</td>\n",
       "      <td>2</td>\n",
       "    </tr>\n",
       "    <tr>\n",
       "      <th>3</th>\n",
       "      <td>A11</td>\n",
       "      <td>A32</td>\n",
       "      <td>A42</td>\n",
       "      <td>A61</td>\n",
       "      <td>A74</td>\n",
       "      <td>A93</td>\n",
       "      <td>A103</td>\n",
       "      <td>A122</td>\n",
       "      <td>A143</td>\n",
       "      <td>A153</td>\n",
       "      <td>A173</td>\n",
       "      <td>A191</td>\n",
       "      <td>A201</td>\n",
       "      <td>2</td>\n",
       "      <td>4</td>\n",
       "      <td>1</td>\n",
       "      <td>2</td>\n",
       "    </tr>\n",
       "    <tr>\n",
       "      <th>4</th>\n",
       "      <td>A11</td>\n",
       "      <td>A33</td>\n",
       "      <td>A40</td>\n",
       "      <td>A61</td>\n",
       "      <td>A73</td>\n",
       "      <td>A93</td>\n",
       "      <td>A101</td>\n",
       "      <td>A124</td>\n",
       "      <td>A143</td>\n",
       "      <td>A153</td>\n",
       "      <td>A173</td>\n",
       "      <td>A191</td>\n",
       "      <td>A201</td>\n",
       "      <td>3</td>\n",
       "      <td>4</td>\n",
       "      <td>2</td>\n",
       "      <td>2</td>\n",
       "    </tr>\n",
       "    <tr>\n",
       "      <th>...</th>\n",
       "      <td>...</td>\n",
       "      <td>...</td>\n",
       "      <td>...</td>\n",
       "      <td>...</td>\n",
       "      <td>...</td>\n",
       "      <td>...</td>\n",
       "      <td>...</td>\n",
       "      <td>...</td>\n",
       "      <td>...</td>\n",
       "      <td>...</td>\n",
       "      <td>...</td>\n",
       "      <td>...</td>\n",
       "      <td>...</td>\n",
       "      <td>...</td>\n",
       "      <td>...</td>\n",
       "      <td>...</td>\n",
       "      <td>...</td>\n",
       "    </tr>\n",
       "    <tr>\n",
       "      <th>995</th>\n",
       "      <td>A14</td>\n",
       "      <td>A32</td>\n",
       "      <td>A42</td>\n",
       "      <td>A61</td>\n",
       "      <td>A74</td>\n",
       "      <td>A92</td>\n",
       "      <td>A101</td>\n",
       "      <td>A121</td>\n",
       "      <td>A143</td>\n",
       "      <td>A152</td>\n",
       "      <td>A172</td>\n",
       "      <td>A191</td>\n",
       "      <td>A201</td>\n",
       "      <td>3</td>\n",
       "      <td>4</td>\n",
       "      <td>1</td>\n",
       "      <td>1</td>\n",
       "    </tr>\n",
       "    <tr>\n",
       "      <th>996</th>\n",
       "      <td>A11</td>\n",
       "      <td>A32</td>\n",
       "      <td>A41</td>\n",
       "      <td>A61</td>\n",
       "      <td>A73</td>\n",
       "      <td>A91</td>\n",
       "      <td>A101</td>\n",
       "      <td>A122</td>\n",
       "      <td>A143</td>\n",
       "      <td>A152</td>\n",
       "      <td>A174</td>\n",
       "      <td>A192</td>\n",
       "      <td>A201</td>\n",
       "      <td>4</td>\n",
       "      <td>4</td>\n",
       "      <td>1</td>\n",
       "      <td>1</td>\n",
       "    </tr>\n",
       "    <tr>\n",
       "      <th>997</th>\n",
       "      <td>A14</td>\n",
       "      <td>A32</td>\n",
       "      <td>A43</td>\n",
       "      <td>A61</td>\n",
       "      <td>A75</td>\n",
       "      <td>A93</td>\n",
       "      <td>A101</td>\n",
       "      <td>A123</td>\n",
       "      <td>A143</td>\n",
       "      <td>A152</td>\n",
       "      <td>A173</td>\n",
       "      <td>A191</td>\n",
       "      <td>A201</td>\n",
       "      <td>4</td>\n",
       "      <td>4</td>\n",
       "      <td>1</td>\n",
       "      <td>1</td>\n",
       "    </tr>\n",
       "    <tr>\n",
       "      <th>998</th>\n",
       "      <td>A11</td>\n",
       "      <td>A32</td>\n",
       "      <td>A43</td>\n",
       "      <td>A61</td>\n",
       "      <td>A73</td>\n",
       "      <td>A93</td>\n",
       "      <td>A101</td>\n",
       "      <td>A124</td>\n",
       "      <td>A143</td>\n",
       "      <td>A153</td>\n",
       "      <td>A173</td>\n",
       "      <td>A192</td>\n",
       "      <td>A201</td>\n",
       "      <td>4</td>\n",
       "      <td>4</td>\n",
       "      <td>1</td>\n",
       "      <td>1</td>\n",
       "    </tr>\n",
       "    <tr>\n",
       "      <th>999</th>\n",
       "      <td>A12</td>\n",
       "      <td>A34</td>\n",
       "      <td>A41</td>\n",
       "      <td>A62</td>\n",
       "      <td>A71</td>\n",
       "      <td>A93</td>\n",
       "      <td>A101</td>\n",
       "      <td>A123</td>\n",
       "      <td>A143</td>\n",
       "      <td>A152</td>\n",
       "      <td>A173</td>\n",
       "      <td>A191</td>\n",
       "      <td>A201</td>\n",
       "      <td>3</td>\n",
       "      <td>4</td>\n",
       "      <td>1</td>\n",
       "      <td>1</td>\n",
       "    </tr>\n",
       "  </tbody>\n",
       "</table>\n",
       "<p>1000 rows × 17 columns</p>\n",
       "</div>"
      ],
      "text/plain": [
       "    checkingstatus history purpose savings employ status others property otherplans housing   job  tele foreign  installment  residence  cards  liable\n",
       "0              A11     A34     A43     A65    A75    A93   A101     A121       A143    A152  A173  A192    A201            4          4      2       1\n",
       "1              A12     A32     A43     A61    A73    A92   A101     A121       A143    A152  A173  A191    A201            2          2      1       1\n",
       "2              A14     A34     A46     A61    A74    A93   A101     A121       A143    A152  A172  A191    A201            2          3      1       2\n",
       "3              A11     A32     A42     A61    A74    A93   A103     A122       A143    A153  A173  A191    A201            2          4      1       2\n",
       "4              A11     A33     A40     A61    A73    A93   A101     A124       A143    A153  A173  A191    A201            3          4      2       2\n",
       "..             ...     ...     ...     ...    ...    ...    ...      ...        ...     ...   ...   ...     ...          ...        ...    ...     ...\n",
       "995            A14     A32     A42     A61    A74    A92   A101     A121       A143    A152  A172  A191    A201            3          4      1       1\n",
       "996            A11     A32     A41     A61    A73    A91   A101     A122       A143    A152  A174  A192    A201            4          4      1       1\n",
       "997            A14     A32     A43     A61    A75    A93   A101     A123       A143    A152  A173  A191    A201            4          4      1       1\n",
       "998            A11     A32     A43     A61    A73    A93   A101     A124       A143    A153  A173  A192    A201            4          4      1       1\n",
       "999            A12     A34     A41     A62    A71    A93   A101     A123       A143    A152  A173  A191    A201            3          4      1       1\n",
       "\n",
       "[1000 rows x 17 columns]"
      ]
     },
     "execution_count": 22,
     "metadata": {},
     "output_type": "execute_result"
    }
   ],
   "source": [
    "data[new_categorical_cols]"
   ]
  },
  {
   "cell_type": "markdown",
   "id": "10e27773",
   "metadata": {},
   "source": [
    "Since all the columns are nominal type- ie no specific order or type, we use OneHotEncoding. For binary categorical variables, we use LabelEncoding."
   ]
  },
  {
   "cell_type": "code",
   "execution_count": 23,
   "id": "39e874c1",
   "metadata": {},
   "outputs": [],
   "source": [
    "dummy_df = pd.get_dummies(data[new_categorical_cols], dummy_na=False, drop_first=True)"
   ]
  },
  {
   "cell_type": "code",
   "execution_count": 24,
   "id": "8fbe7efe",
   "metadata": {},
   "outputs": [
    {
     "data": {
      "text/plain": [
       "['GoodCredit',\n",
       " 'checkingstatus',\n",
       " 'duration',\n",
       " 'history',\n",
       " 'purpose',\n",
       " 'amount',\n",
       " 'savings',\n",
       " 'employ',\n",
       " 'installment',\n",
       " 'status',\n",
       " 'others',\n",
       " 'residence',\n",
       " 'property',\n",
       " 'age',\n",
       " 'otherplans',\n",
       " 'housing',\n",
       " 'cards',\n",
       " 'job',\n",
       " 'liable',\n",
       " 'tele',\n",
       " 'foreign']"
      ]
     },
     "execution_count": 24,
     "metadata": {},
     "output_type": "execute_result"
    }
   ],
   "source": [
    "\n",
    "all_cols=list(data.columns)\n",
    "all_cols"
   ]
  },
  {
   "cell_type": "code",
   "execution_count": 25,
   "id": "86225be6",
   "metadata": {},
   "outputs": [],
   "source": [
    "data_copy=data\n",
    "data_copy.drop(categorical_cols, axis=1,inplace=True)"
   ]
  },
  {
   "cell_type": "code",
   "execution_count": 26,
   "id": "f98ab8d7",
   "metadata": {},
   "outputs": [
    {
     "data": {
      "text/plain": [
       "['GoodCredit',\n",
       " 'duration',\n",
       " 'amount',\n",
       " 'installment',\n",
       " 'residence',\n",
       " 'age',\n",
       " 'cards',\n",
       " 'liable']"
      ]
     },
     "execution_count": 26,
     "metadata": {},
     "output_type": "execute_result"
    }
   ],
   "source": [
    "for c in categorical_cols:\n",
    "    all_cols.remove(c)\n",
    "    \n",
    "all_cols"
   ]
  },
  {
   "cell_type": "code",
   "execution_count": 27,
   "id": "c2adce77",
   "metadata": {},
   "outputs": [
    {
     "data": {
      "text/html": [
       "<div>\n",
       "<style scoped>\n",
       "    .dataframe tbody tr th:only-of-type {\n",
       "        vertical-align: middle;\n",
       "    }\n",
       "\n",
       "    .dataframe tbody tr th {\n",
       "        vertical-align: top;\n",
       "    }\n",
       "\n",
       "    .dataframe thead th {\n",
       "        text-align: right;\n",
       "    }\n",
       "</style>\n",
       "<table border=\"1\" class=\"dataframe\">\n",
       "  <thead>\n",
       "    <tr style=\"text-align: right;\">\n",
       "      <th></th>\n",
       "      <th>GoodCredit</th>\n",
       "      <th>duration</th>\n",
       "      <th>amount</th>\n",
       "      <th>installment</th>\n",
       "      <th>residence</th>\n",
       "      <th>age</th>\n",
       "      <th>cards</th>\n",
       "      <th>liable</th>\n",
       "      <th>installment</th>\n",
       "      <th>residence</th>\n",
       "      <th>cards</th>\n",
       "      <th>liable</th>\n",
       "      <th>checkingstatus_A12</th>\n",
       "      <th>checkingstatus_A13</th>\n",
       "      <th>checkingstatus_A14</th>\n",
       "      <th>history_A31</th>\n",
       "      <th>history_A32</th>\n",
       "      <th>history_A33</th>\n",
       "      <th>history_A34</th>\n",
       "      <th>purpose_A41</th>\n",
       "      <th>purpose_A410</th>\n",
       "      <th>purpose_A42</th>\n",
       "      <th>purpose_A43</th>\n",
       "      <th>purpose_A44</th>\n",
       "      <th>purpose_A45</th>\n",
       "      <th>purpose_A46</th>\n",
       "      <th>purpose_A48</th>\n",
       "      <th>purpose_A49</th>\n",
       "      <th>savings_A62</th>\n",
       "      <th>savings_A63</th>\n",
       "      <th>savings_A64</th>\n",
       "      <th>savings_A65</th>\n",
       "      <th>employ_A72</th>\n",
       "      <th>employ_A73</th>\n",
       "      <th>employ_A74</th>\n",
       "      <th>employ_A75</th>\n",
       "      <th>status_A92</th>\n",
       "      <th>status_A93</th>\n",
       "      <th>status_A94</th>\n",
       "      <th>others_A102</th>\n",
       "      <th>others_A103</th>\n",
       "      <th>property_A122</th>\n",
       "      <th>property_A123</th>\n",
       "      <th>property_A124</th>\n",
       "      <th>otherplans_A142</th>\n",
       "      <th>otherplans_A143</th>\n",
       "      <th>housing_A152</th>\n",
       "      <th>housing_A153</th>\n",
       "      <th>job_A172</th>\n",
       "      <th>job_A173</th>\n",
       "      <th>job_A174</th>\n",
       "      <th>tele_A192</th>\n",
       "      <th>foreign_A202</th>\n",
       "    </tr>\n",
       "  </thead>\n",
       "  <tbody>\n",
       "    <tr>\n",
       "      <th>0</th>\n",
       "      <td>0</td>\n",
       "      <td>6</td>\n",
       "      <td>1169</td>\n",
       "      <td>4</td>\n",
       "      <td>4</td>\n",
       "      <td>67</td>\n",
       "      <td>2</td>\n",
       "      <td>1</td>\n",
       "      <td>4</td>\n",
       "      <td>4</td>\n",
       "      <td>2</td>\n",
       "      <td>1</td>\n",
       "      <td>0</td>\n",
       "      <td>0</td>\n",
       "      <td>0</td>\n",
       "      <td>0</td>\n",
       "      <td>0</td>\n",
       "      <td>0</td>\n",
       "      <td>1</td>\n",
       "      <td>0</td>\n",
       "      <td>0</td>\n",
       "      <td>0</td>\n",
       "      <td>1</td>\n",
       "      <td>0</td>\n",
       "      <td>0</td>\n",
       "      <td>0</td>\n",
       "      <td>0</td>\n",
       "      <td>0</td>\n",
       "      <td>0</td>\n",
       "      <td>0</td>\n",
       "      <td>0</td>\n",
       "      <td>1</td>\n",
       "      <td>0</td>\n",
       "      <td>0</td>\n",
       "      <td>0</td>\n",
       "      <td>1</td>\n",
       "      <td>0</td>\n",
       "      <td>1</td>\n",
       "      <td>0</td>\n",
       "      <td>0</td>\n",
       "      <td>0</td>\n",
       "      <td>0</td>\n",
       "      <td>0</td>\n",
       "      <td>0</td>\n",
       "      <td>0</td>\n",
       "      <td>1</td>\n",
       "      <td>1</td>\n",
       "      <td>0</td>\n",
       "      <td>0</td>\n",
       "      <td>1</td>\n",
       "      <td>0</td>\n",
       "      <td>1</td>\n",
       "      <td>0</td>\n",
       "    </tr>\n",
       "    <tr>\n",
       "      <th>1</th>\n",
       "      <td>1</td>\n",
       "      <td>48</td>\n",
       "      <td>5951</td>\n",
       "      <td>2</td>\n",
       "      <td>2</td>\n",
       "      <td>22</td>\n",
       "      <td>1</td>\n",
       "      <td>1</td>\n",
       "      <td>2</td>\n",
       "      <td>2</td>\n",
       "      <td>1</td>\n",
       "      <td>1</td>\n",
       "      <td>1</td>\n",
       "      <td>0</td>\n",
       "      <td>0</td>\n",
       "      <td>0</td>\n",
       "      <td>1</td>\n",
       "      <td>0</td>\n",
       "      <td>0</td>\n",
       "      <td>0</td>\n",
       "      <td>0</td>\n",
       "      <td>0</td>\n",
       "      <td>1</td>\n",
       "      <td>0</td>\n",
       "      <td>0</td>\n",
       "      <td>0</td>\n",
       "      <td>0</td>\n",
       "      <td>0</td>\n",
       "      <td>0</td>\n",
       "      <td>0</td>\n",
       "      <td>0</td>\n",
       "      <td>0</td>\n",
       "      <td>0</td>\n",
       "      <td>1</td>\n",
       "      <td>0</td>\n",
       "      <td>0</td>\n",
       "      <td>1</td>\n",
       "      <td>0</td>\n",
       "      <td>0</td>\n",
       "      <td>0</td>\n",
       "      <td>0</td>\n",
       "      <td>0</td>\n",
       "      <td>0</td>\n",
       "      <td>0</td>\n",
       "      <td>0</td>\n",
       "      <td>1</td>\n",
       "      <td>1</td>\n",
       "      <td>0</td>\n",
       "      <td>0</td>\n",
       "      <td>1</td>\n",
       "      <td>0</td>\n",
       "      <td>0</td>\n",
       "      <td>0</td>\n",
       "    </tr>\n",
       "    <tr>\n",
       "      <th>2</th>\n",
       "      <td>0</td>\n",
       "      <td>12</td>\n",
       "      <td>2096</td>\n",
       "      <td>2</td>\n",
       "      <td>3</td>\n",
       "      <td>49</td>\n",
       "      <td>1</td>\n",
       "      <td>2</td>\n",
       "      <td>2</td>\n",
       "      <td>3</td>\n",
       "      <td>1</td>\n",
       "      <td>2</td>\n",
       "      <td>0</td>\n",
       "      <td>0</td>\n",
       "      <td>1</td>\n",
       "      <td>0</td>\n",
       "      <td>0</td>\n",
       "      <td>0</td>\n",
       "      <td>1</td>\n",
       "      <td>0</td>\n",
       "      <td>0</td>\n",
       "      <td>0</td>\n",
       "      <td>0</td>\n",
       "      <td>0</td>\n",
       "      <td>0</td>\n",
       "      <td>1</td>\n",
       "      <td>0</td>\n",
       "      <td>0</td>\n",
       "      <td>0</td>\n",
       "      <td>0</td>\n",
       "      <td>0</td>\n",
       "      <td>0</td>\n",
       "      <td>0</td>\n",
       "      <td>0</td>\n",
       "      <td>1</td>\n",
       "      <td>0</td>\n",
       "      <td>0</td>\n",
       "      <td>1</td>\n",
       "      <td>0</td>\n",
       "      <td>0</td>\n",
       "      <td>0</td>\n",
       "      <td>0</td>\n",
       "      <td>0</td>\n",
       "      <td>0</td>\n",
       "      <td>0</td>\n",
       "      <td>1</td>\n",
       "      <td>1</td>\n",
       "      <td>0</td>\n",
       "      <td>1</td>\n",
       "      <td>0</td>\n",
       "      <td>0</td>\n",
       "      <td>0</td>\n",
       "      <td>0</td>\n",
       "    </tr>\n",
       "    <tr>\n",
       "      <th>3</th>\n",
       "      <td>0</td>\n",
       "      <td>42</td>\n",
       "      <td>7882</td>\n",
       "      <td>2</td>\n",
       "      <td>4</td>\n",
       "      <td>45</td>\n",
       "      <td>1</td>\n",
       "      <td>2</td>\n",
       "      <td>2</td>\n",
       "      <td>4</td>\n",
       "      <td>1</td>\n",
       "      <td>2</td>\n",
       "      <td>0</td>\n",
       "      <td>0</td>\n",
       "      <td>0</td>\n",
       "      <td>0</td>\n",
       "      <td>1</td>\n",
       "      <td>0</td>\n",
       "      <td>0</td>\n",
       "      <td>0</td>\n",
       "      <td>0</td>\n",
       "      <td>1</td>\n",
       "      <td>0</td>\n",
       "      <td>0</td>\n",
       "      <td>0</td>\n",
       "      <td>0</td>\n",
       "      <td>0</td>\n",
       "      <td>0</td>\n",
       "      <td>0</td>\n",
       "      <td>0</td>\n",
       "      <td>0</td>\n",
       "      <td>0</td>\n",
       "      <td>0</td>\n",
       "      <td>0</td>\n",
       "      <td>1</td>\n",
       "      <td>0</td>\n",
       "      <td>0</td>\n",
       "      <td>1</td>\n",
       "      <td>0</td>\n",
       "      <td>0</td>\n",
       "      <td>1</td>\n",
       "      <td>1</td>\n",
       "      <td>0</td>\n",
       "      <td>0</td>\n",
       "      <td>0</td>\n",
       "      <td>1</td>\n",
       "      <td>0</td>\n",
       "      <td>1</td>\n",
       "      <td>0</td>\n",
       "      <td>1</td>\n",
       "      <td>0</td>\n",
       "      <td>0</td>\n",
       "      <td>0</td>\n",
       "    </tr>\n",
       "    <tr>\n",
       "      <th>4</th>\n",
       "      <td>1</td>\n",
       "      <td>24</td>\n",
       "      <td>4870</td>\n",
       "      <td>3</td>\n",
       "      <td>4</td>\n",
       "      <td>53</td>\n",
       "      <td>2</td>\n",
       "      <td>2</td>\n",
       "      <td>3</td>\n",
       "      <td>4</td>\n",
       "      <td>2</td>\n",
       "      <td>2</td>\n",
       "      <td>0</td>\n",
       "      <td>0</td>\n",
       "      <td>0</td>\n",
       "      <td>0</td>\n",
       "      <td>0</td>\n",
       "      <td>1</td>\n",
       "      <td>0</td>\n",
       "      <td>0</td>\n",
       "      <td>0</td>\n",
       "      <td>0</td>\n",
       "      <td>0</td>\n",
       "      <td>0</td>\n",
       "      <td>0</td>\n",
       "      <td>0</td>\n",
       "      <td>0</td>\n",
       "      <td>0</td>\n",
       "      <td>0</td>\n",
       "      <td>0</td>\n",
       "      <td>0</td>\n",
       "      <td>0</td>\n",
       "      <td>0</td>\n",
       "      <td>1</td>\n",
       "      <td>0</td>\n",
       "      <td>0</td>\n",
       "      <td>0</td>\n",
       "      <td>1</td>\n",
       "      <td>0</td>\n",
       "      <td>0</td>\n",
       "      <td>0</td>\n",
       "      <td>0</td>\n",
       "      <td>0</td>\n",
       "      <td>1</td>\n",
       "      <td>0</td>\n",
       "      <td>1</td>\n",
       "      <td>0</td>\n",
       "      <td>1</td>\n",
       "      <td>0</td>\n",
       "      <td>1</td>\n",
       "      <td>0</td>\n",
       "      <td>0</td>\n",
       "      <td>0</td>\n",
       "    </tr>\n",
       "    <tr>\n",
       "      <th>...</th>\n",
       "      <td>...</td>\n",
       "      <td>...</td>\n",
       "      <td>...</td>\n",
       "      <td>...</td>\n",
       "      <td>...</td>\n",
       "      <td>...</td>\n",
       "      <td>...</td>\n",
       "      <td>...</td>\n",
       "      <td>...</td>\n",
       "      <td>...</td>\n",
       "      <td>...</td>\n",
       "      <td>...</td>\n",
       "      <td>...</td>\n",
       "      <td>...</td>\n",
       "      <td>...</td>\n",
       "      <td>...</td>\n",
       "      <td>...</td>\n",
       "      <td>...</td>\n",
       "      <td>...</td>\n",
       "      <td>...</td>\n",
       "      <td>...</td>\n",
       "      <td>...</td>\n",
       "      <td>...</td>\n",
       "      <td>...</td>\n",
       "      <td>...</td>\n",
       "      <td>...</td>\n",
       "      <td>...</td>\n",
       "      <td>...</td>\n",
       "      <td>...</td>\n",
       "      <td>...</td>\n",
       "      <td>...</td>\n",
       "      <td>...</td>\n",
       "      <td>...</td>\n",
       "      <td>...</td>\n",
       "      <td>...</td>\n",
       "      <td>...</td>\n",
       "      <td>...</td>\n",
       "      <td>...</td>\n",
       "      <td>...</td>\n",
       "      <td>...</td>\n",
       "      <td>...</td>\n",
       "      <td>...</td>\n",
       "      <td>...</td>\n",
       "      <td>...</td>\n",
       "      <td>...</td>\n",
       "      <td>...</td>\n",
       "      <td>...</td>\n",
       "      <td>...</td>\n",
       "      <td>...</td>\n",
       "      <td>...</td>\n",
       "      <td>...</td>\n",
       "      <td>...</td>\n",
       "      <td>...</td>\n",
       "    </tr>\n",
       "    <tr>\n",
       "      <th>995</th>\n",
       "      <td>0</td>\n",
       "      <td>12</td>\n",
       "      <td>1736</td>\n",
       "      <td>3</td>\n",
       "      <td>4</td>\n",
       "      <td>31</td>\n",
       "      <td>1</td>\n",
       "      <td>1</td>\n",
       "      <td>3</td>\n",
       "      <td>4</td>\n",
       "      <td>1</td>\n",
       "      <td>1</td>\n",
       "      <td>0</td>\n",
       "      <td>0</td>\n",
       "      <td>1</td>\n",
       "      <td>0</td>\n",
       "      <td>1</td>\n",
       "      <td>0</td>\n",
       "      <td>0</td>\n",
       "      <td>0</td>\n",
       "      <td>0</td>\n",
       "      <td>1</td>\n",
       "      <td>0</td>\n",
       "      <td>0</td>\n",
       "      <td>0</td>\n",
       "      <td>0</td>\n",
       "      <td>0</td>\n",
       "      <td>0</td>\n",
       "      <td>0</td>\n",
       "      <td>0</td>\n",
       "      <td>0</td>\n",
       "      <td>0</td>\n",
       "      <td>0</td>\n",
       "      <td>0</td>\n",
       "      <td>1</td>\n",
       "      <td>0</td>\n",
       "      <td>1</td>\n",
       "      <td>0</td>\n",
       "      <td>0</td>\n",
       "      <td>0</td>\n",
       "      <td>0</td>\n",
       "      <td>0</td>\n",
       "      <td>0</td>\n",
       "      <td>0</td>\n",
       "      <td>0</td>\n",
       "      <td>1</td>\n",
       "      <td>1</td>\n",
       "      <td>0</td>\n",
       "      <td>1</td>\n",
       "      <td>0</td>\n",
       "      <td>0</td>\n",
       "      <td>0</td>\n",
       "      <td>0</td>\n",
       "    </tr>\n",
       "    <tr>\n",
       "      <th>996</th>\n",
       "      <td>0</td>\n",
       "      <td>30</td>\n",
       "      <td>3857</td>\n",
       "      <td>4</td>\n",
       "      <td>4</td>\n",
       "      <td>40</td>\n",
       "      <td>1</td>\n",
       "      <td>1</td>\n",
       "      <td>4</td>\n",
       "      <td>4</td>\n",
       "      <td>1</td>\n",
       "      <td>1</td>\n",
       "      <td>0</td>\n",
       "      <td>0</td>\n",
       "      <td>0</td>\n",
       "      <td>0</td>\n",
       "      <td>1</td>\n",
       "      <td>0</td>\n",
       "      <td>0</td>\n",
       "      <td>1</td>\n",
       "      <td>0</td>\n",
       "      <td>0</td>\n",
       "      <td>0</td>\n",
       "      <td>0</td>\n",
       "      <td>0</td>\n",
       "      <td>0</td>\n",
       "      <td>0</td>\n",
       "      <td>0</td>\n",
       "      <td>0</td>\n",
       "      <td>0</td>\n",
       "      <td>0</td>\n",
       "      <td>0</td>\n",
       "      <td>0</td>\n",
       "      <td>1</td>\n",
       "      <td>0</td>\n",
       "      <td>0</td>\n",
       "      <td>0</td>\n",
       "      <td>0</td>\n",
       "      <td>0</td>\n",
       "      <td>0</td>\n",
       "      <td>0</td>\n",
       "      <td>1</td>\n",
       "      <td>0</td>\n",
       "      <td>0</td>\n",
       "      <td>0</td>\n",
       "      <td>1</td>\n",
       "      <td>1</td>\n",
       "      <td>0</td>\n",
       "      <td>0</td>\n",
       "      <td>0</td>\n",
       "      <td>1</td>\n",
       "      <td>1</td>\n",
       "      <td>0</td>\n",
       "    </tr>\n",
       "    <tr>\n",
       "      <th>997</th>\n",
       "      <td>0</td>\n",
       "      <td>12</td>\n",
       "      <td>804</td>\n",
       "      <td>4</td>\n",
       "      <td>4</td>\n",
       "      <td>38</td>\n",
       "      <td>1</td>\n",
       "      <td>1</td>\n",
       "      <td>4</td>\n",
       "      <td>4</td>\n",
       "      <td>1</td>\n",
       "      <td>1</td>\n",
       "      <td>0</td>\n",
       "      <td>0</td>\n",
       "      <td>1</td>\n",
       "      <td>0</td>\n",
       "      <td>1</td>\n",
       "      <td>0</td>\n",
       "      <td>0</td>\n",
       "      <td>0</td>\n",
       "      <td>0</td>\n",
       "      <td>0</td>\n",
       "      <td>1</td>\n",
       "      <td>0</td>\n",
       "      <td>0</td>\n",
       "      <td>0</td>\n",
       "      <td>0</td>\n",
       "      <td>0</td>\n",
       "      <td>0</td>\n",
       "      <td>0</td>\n",
       "      <td>0</td>\n",
       "      <td>0</td>\n",
       "      <td>0</td>\n",
       "      <td>0</td>\n",
       "      <td>0</td>\n",
       "      <td>1</td>\n",
       "      <td>0</td>\n",
       "      <td>1</td>\n",
       "      <td>0</td>\n",
       "      <td>0</td>\n",
       "      <td>0</td>\n",
       "      <td>0</td>\n",
       "      <td>1</td>\n",
       "      <td>0</td>\n",
       "      <td>0</td>\n",
       "      <td>1</td>\n",
       "      <td>1</td>\n",
       "      <td>0</td>\n",
       "      <td>0</td>\n",
       "      <td>1</td>\n",
       "      <td>0</td>\n",
       "      <td>0</td>\n",
       "      <td>0</td>\n",
       "    </tr>\n",
       "    <tr>\n",
       "      <th>998</th>\n",
       "      <td>1</td>\n",
       "      <td>45</td>\n",
       "      <td>1845</td>\n",
       "      <td>4</td>\n",
       "      <td>4</td>\n",
       "      <td>23</td>\n",
       "      <td>1</td>\n",
       "      <td>1</td>\n",
       "      <td>4</td>\n",
       "      <td>4</td>\n",
       "      <td>1</td>\n",
       "      <td>1</td>\n",
       "      <td>0</td>\n",
       "      <td>0</td>\n",
       "      <td>0</td>\n",
       "      <td>0</td>\n",
       "      <td>1</td>\n",
       "      <td>0</td>\n",
       "      <td>0</td>\n",
       "      <td>0</td>\n",
       "      <td>0</td>\n",
       "      <td>0</td>\n",
       "      <td>1</td>\n",
       "      <td>0</td>\n",
       "      <td>0</td>\n",
       "      <td>0</td>\n",
       "      <td>0</td>\n",
       "      <td>0</td>\n",
       "      <td>0</td>\n",
       "      <td>0</td>\n",
       "      <td>0</td>\n",
       "      <td>0</td>\n",
       "      <td>0</td>\n",
       "      <td>1</td>\n",
       "      <td>0</td>\n",
       "      <td>0</td>\n",
       "      <td>0</td>\n",
       "      <td>1</td>\n",
       "      <td>0</td>\n",
       "      <td>0</td>\n",
       "      <td>0</td>\n",
       "      <td>0</td>\n",
       "      <td>0</td>\n",
       "      <td>1</td>\n",
       "      <td>0</td>\n",
       "      <td>1</td>\n",
       "      <td>0</td>\n",
       "      <td>1</td>\n",
       "      <td>0</td>\n",
       "      <td>1</td>\n",
       "      <td>0</td>\n",
       "      <td>1</td>\n",
       "      <td>0</td>\n",
       "    </tr>\n",
       "    <tr>\n",
       "      <th>999</th>\n",
       "      <td>0</td>\n",
       "      <td>45</td>\n",
       "      <td>4576</td>\n",
       "      <td>3</td>\n",
       "      <td>4</td>\n",
       "      <td>27</td>\n",
       "      <td>1</td>\n",
       "      <td>1</td>\n",
       "      <td>3</td>\n",
       "      <td>4</td>\n",
       "      <td>1</td>\n",
       "      <td>1</td>\n",
       "      <td>1</td>\n",
       "      <td>0</td>\n",
       "      <td>0</td>\n",
       "      <td>0</td>\n",
       "      <td>0</td>\n",
       "      <td>0</td>\n",
       "      <td>1</td>\n",
       "      <td>1</td>\n",
       "      <td>0</td>\n",
       "      <td>0</td>\n",
       "      <td>0</td>\n",
       "      <td>0</td>\n",
       "      <td>0</td>\n",
       "      <td>0</td>\n",
       "      <td>0</td>\n",
       "      <td>0</td>\n",
       "      <td>1</td>\n",
       "      <td>0</td>\n",
       "      <td>0</td>\n",
       "      <td>0</td>\n",
       "      <td>0</td>\n",
       "      <td>0</td>\n",
       "      <td>0</td>\n",
       "      <td>0</td>\n",
       "      <td>0</td>\n",
       "      <td>1</td>\n",
       "      <td>0</td>\n",
       "      <td>0</td>\n",
       "      <td>0</td>\n",
       "      <td>0</td>\n",
       "      <td>1</td>\n",
       "      <td>0</td>\n",
       "      <td>0</td>\n",
       "      <td>1</td>\n",
       "      <td>1</td>\n",
       "      <td>0</td>\n",
       "      <td>0</td>\n",
       "      <td>1</td>\n",
       "      <td>0</td>\n",
       "      <td>0</td>\n",
       "      <td>0</td>\n",
       "    </tr>\n",
       "  </tbody>\n",
       "</table>\n",
       "<p>1000 rows × 53 columns</p>\n",
       "</div>"
      ],
      "text/plain": [
       "     GoodCredit  duration  amount  installment  residence  age  cards  liable  installment  residence  cards  liable  checkingstatus_A12  checkingstatus_A13  checkingstatus_A14  history_A31  history_A32  history_A33  history_A34  purpose_A41  purpose_A410  purpose_A42  purpose_A43  purpose_A44  purpose_A45  purpose_A46  purpose_A48  purpose_A49  savings_A62  savings_A63  savings_A64  savings_A65  employ_A72  employ_A73  employ_A74  employ_A75  status_A92  status_A93  status_A94  others_A102  others_A103  property_A122  property_A123  property_A124  otherplans_A142  otherplans_A143  housing_A152  housing_A153  job_A172  job_A173  job_A174  tele_A192  foreign_A202\n",
       "0             0         6    1169            4          4   67      2       1            4          4      2       1                   0                   0                   0            0            0            0            1            0             0            0            1            0            0            0            0            0            0            0            0            1           0           0           0           1           0           1           0            0            0              0              0              0                0                1             1             0         0         1         0          1             0\n",
       "1             1        48    5951            2          2   22      1       1            2          2      1       1                   1                   0                   0            0            1            0            0            0             0            0            1            0            0            0            0            0            0            0            0            0           0           1           0           0           1           0           0            0            0              0              0              0                0                1             1             0         0         1         0          0             0\n",
       "2             0        12    2096            2          3   49      1       2            2          3      1       2                   0                   0                   1            0            0            0            1            0             0            0            0            0            0            1            0            0            0            0            0            0           0           0           1           0           0           1           0            0            0              0              0              0                0                1             1             0         1         0         0          0             0\n",
       "3             0        42    7882            2          4   45      1       2            2          4      1       2                   0                   0                   0            0            1            0            0            0             0            1            0            0            0            0            0            0            0            0            0            0           0           0           1           0           0           1           0            0            1              1              0              0                0                1             0             1         0         1         0          0             0\n",
       "4             1        24    4870            3          4   53      2       2            3          4      2       2                   0                   0                   0            0            0            1            0            0             0            0            0            0            0            0            0            0            0            0            0            0           0           1           0           0           0           1           0            0            0              0              0              1                0                1             0             1         0         1         0          0             0\n",
       "..          ...       ...     ...          ...        ...  ...    ...     ...          ...        ...    ...     ...                 ...                 ...                 ...          ...          ...          ...          ...          ...           ...          ...          ...          ...          ...          ...          ...          ...          ...          ...          ...          ...         ...         ...         ...         ...         ...         ...         ...          ...          ...            ...            ...            ...              ...              ...           ...           ...       ...       ...       ...        ...           ...\n",
       "995           0        12    1736            3          4   31      1       1            3          4      1       1                   0                   0                   1            0            1            0            0            0             0            1            0            0            0            0            0            0            0            0            0            0           0           0           1           0           1           0           0            0            0              0              0              0                0                1             1             0         1         0         0          0             0\n",
       "996           0        30    3857            4          4   40      1       1            4          4      1       1                   0                   0                   0            0            1            0            0            1             0            0            0            0            0            0            0            0            0            0            0            0           0           1           0           0           0           0           0            0            0              1              0              0                0                1             1             0         0         0         1          1             0\n",
       "997           0        12     804            4          4   38      1       1            4          4      1       1                   0                   0                   1            0            1            0            0            0             0            0            1            0            0            0            0            0            0            0            0            0           0           0           0           1           0           1           0            0            0              0              1              0                0                1             1             0         0         1         0          0             0\n",
       "998           1        45    1845            4          4   23      1       1            4          4      1       1                   0                   0                   0            0            1            0            0            0             0            0            1            0            0            0            0            0            0            0            0            0           0           1           0           0           0           1           0            0            0              0              0              1                0                1             0             1         0         1         0          1             0\n",
       "999           0        45    4576            3          4   27      1       1            3          4      1       1                   1                   0                   0            0            0            0            1            1             0            0            0            0            0            0            0            0            1            0            0            0           0           0           0           0           0           1           0            0            0              0              1              0                0                1             1             0         0         1         0          0             0\n",
       "\n",
       "[1000 rows x 53 columns]"
      ]
     },
     "execution_count": 27,
     "metadata": {},
     "output_type": "execute_result"
    }
   ],
   "source": [
    "data = pd.concat([data_copy[all_cols], dummy_df], axis=1)\n",
    "data"
   ]
  },
  {
   "cell_type": "code",
   "execution_count": 28,
   "id": "19b5c5a6",
   "metadata": {},
   "outputs": [
    {
     "data": {
      "text/plain": [
       "44875"
      ]
     },
     "execution_count": 28,
     "metadata": {},
     "output_type": "execute_result"
    }
   ],
   "source": [
    "import gc\n",
    "del dummy_df\n",
    "gc.collect()"
   ]
  },
  {
   "cell_type": "markdown",
   "id": "30043fce",
   "metadata": {},
   "source": [
    "####  Outlier Handling"
   ]
  },
  {
   "cell_type": "markdown",
   "id": "f3674f9f",
   "metadata": {},
   "source": [
    "Outliers will have a negligible effect because the nodes are determined based on the sample proportions in each split region (and not on their absolute values). In other words, decision trees are are robust to outliers."
   ]
  },
  {
   "cell_type": "markdown",
   "id": "bf3e6556",
   "metadata": {},
   "source": [
    "#### Feature Scaling"
   ]
  },
  {
   "cell_type": "markdown",
   "id": "0646ea9e",
   "metadata": {},
   "source": [
    "Decision trees do not require feature scaling to be performed as they are not sensitive to the the variance in the data."
   ]
  },
  {
   "cell_type": "markdown",
   "id": "263fa87f",
   "metadata": {},
   "source": [
    "### 6.Declare feature vector and target variable"
   ]
  },
  {
   "cell_type": "code",
   "execution_count": 29,
   "id": "7a49534b",
   "metadata": {},
   "outputs": [],
   "source": [
    "X = data.drop(['GoodCredit'], axis=1)\n",
    "y = data['GoodCredit']"
   ]
  },
  {
   "cell_type": "markdown",
   "id": "f1d06526",
   "metadata": {},
   "source": [
    "### 7.Split data into separate training and test set "
   ]
  },
  {
   "cell_type": "code",
   "execution_count": 30,
   "id": "83c6afad",
   "metadata": {},
   "outputs": [],
   "source": [
    "# split X and y into training and testing sets\n",
    "\n",
    "from sklearn.model_selection import train_test_split\n",
    "\n",
    "X_train, X_test, y_train, y_test = train_test_split(X, y, test_size = 0.30, random_state = 42)"
   ]
  },
  {
   "cell_type": "code",
   "execution_count": 31,
   "id": "d2943a62",
   "metadata": {},
   "outputs": [
    {
     "name": "stdout",
     "output_type": "stream",
     "text": [
      "(700, 52) (300, 52)\n"
     ]
    }
   ],
   "source": [
    "# check the shape of X_train and X_test\n",
    "\n",
    "print(X_train.shape, X_test.shape)"
   ]
  },
  {
   "cell_type": "markdown",
   "id": "a5567b18",
   "metadata": {},
   "source": [
    "### 8.Model Building"
   ]
  },
  {
   "cell_type": "markdown",
   "id": "2925aa83",
   "metadata": {},
   "source": [
    "#### 8.a. Decision Tree Classifier with criterion gini index "
   ]
  },
  {
   "cell_type": "code",
   "execution_count": 32,
   "id": "c3fa2f79",
   "metadata": {},
   "outputs": [
    {
     "data": {
      "text/plain": [
       "DecisionTreeClassifier(max_depth=3, random_state=0)"
      ]
     },
     "execution_count": 32,
     "metadata": {},
     "output_type": "execute_result"
    }
   ],
   "source": [
    "#import DecisionTreeClassifier\n",
    "from sklearn.tree import DecisionTreeClassifier\n",
    "\n",
    "#instantiate the DecisionTreeClassifier model with criterion gini index\n",
    "model = DecisionTreeClassifier(criterion='gini', max_depth=3, random_state=0)\n",
    "\n",
    "#\\fit the model\n",
    "model.fit(X_train, y_train)"
   ]
  },
  {
   "cell_type": "code",
   "execution_count": 33,
   "id": "eea44cd9",
   "metadata": {},
   "outputs": [],
   "source": [
    "#predict the Test set results with criterion gini index\n",
    "y_pred_test = model.predict(X_test)"
   ]
  },
  {
   "cell_type": "markdown",
   "id": "c8c8adcc",
   "metadata": {},
   "source": [
    "Here, y_test are the true class labels and y_pred_test are the predicted class labels in the test-set, using gini index as the criterion."
   ]
  },
  {
   "cell_type": "code",
   "execution_count": 34,
   "id": "492ea2fd",
   "metadata": {},
   "outputs": [
    {
     "data": {
      "text/plain": [
       "0.7266666666666667"
      ]
     },
     "execution_count": 34,
     "metadata": {},
     "output_type": "execute_result"
    }
   ],
   "source": [
    "#check test accuracy score\n",
    "accuracy_score(y_test, y_pred_test)"
   ]
  },
  {
   "cell_type": "code",
   "execution_count": 35,
   "id": "7b23fb1d",
   "metadata": {},
   "outputs": [
    {
     "data": {
      "text/plain": [
       "0.7471428571428571"
      ]
     },
     "execution_count": 35,
     "metadata": {},
     "output_type": "execute_result"
    }
   ],
   "source": [
    "#check train accuracy score\n",
    "y_pred_train = model.predict(X_train)\n",
    "accuracy_score(y_train, y_pred_train)"
   ]
  },
  {
   "cell_type": "markdown",
   "id": "1f384fc7",
   "metadata": {},
   "source": [
    "Here, the training-set accuracy score is 74.71 while .the test-set accuracy to be 72.67. These two values are quite comparable. So, there is no sign of overfitting."
   ]
  },
  {
   "cell_type": "markdown",
   "id": "d93836db",
   "metadata": {},
   "source": [
    "#### Visualize decision-tree"
   ]
  },
  {
   "cell_type": "code",
   "execution_count": 36,
   "id": "0f7ace7e",
   "metadata": {},
   "outputs": [
    {
     "data": {
      "text/plain": [
       "[Text(334.8, 380.52, 'X[13] <= 0.5\\ngini = 0.419\\nsamples = 700\\nvalue = [491, 209]'),\n",
       " Text(167.4, 271.8, 'X[0] <= 33.0\\ngini = 0.484\\nsamples = 425\\nvalue = [251, 174]'),\n",
       " Text(83.7, 163.07999999999998, 'X[1] <= 10975.5\\ngini = 0.458\\nsamples = 343\\nvalue = [221, 122]'),\n",
       " Text(41.85, 54.360000000000014, 'gini = 0.451\\nsamples = 337\\nvalue = [221, 116]'),\n",
       " Text(125.55000000000001, 54.360000000000014, 'gini = 0.0\\nsamples = 6\\nvalue = [0, 6]'),\n",
       " Text(251.10000000000002, 163.07999999999998, 'X[30] <= 0.5\\ngini = 0.464\\nsamples = 82\\nvalue = [30, 52]'),\n",
       " Text(209.25, 54.360000000000014, 'gini = 0.431\\nsamples = 70\\nvalue = [22, 48]'),\n",
       " Text(292.95, 54.360000000000014, 'gini = 0.444\\nsamples = 12\\nvalue = [8, 4]'),\n",
       " Text(502.20000000000005, 271.8, 'X[44] <= 0.5\\ngini = 0.222\\nsamples = 275\\nvalue = [240, 35]'),\n",
       " Text(418.5, 163.07999999999998, 'X[21] <= 0.5\\ngini = 0.423\\nsamples = 46\\nvalue = [32, 14]'),\n",
       " Text(376.65000000000003, 54.360000000000014, 'gini = 0.482\\nsamples = 32\\nvalue = [19, 13]'),\n",
       " Text(460.35, 54.360000000000014, 'gini = 0.133\\nsamples = 14\\nvalue = [13, 1]'),\n",
       " Text(585.9, 163.07999999999998, 'X[4] <= 23.5\\ngini = 0.167\\nsamples = 229\\nvalue = [208, 21]'),\n",
       " Text(544.0500000000001, 54.360000000000014, 'gini = 0.48\\nsamples = 15\\nvalue = [9, 6]'),\n",
       " Text(627.75, 54.360000000000014, 'gini = 0.13\\nsamples = 214\\nvalue = [199, 15]')]"
      ]
     },
     "execution_count": 36,
     "metadata": {},
     "output_type": "execute_result"
    },
    {
     "data": {
      "image/png": "[encoded data removed]",
      "text/plain": [
       "<Figure size 864x576 with 1 Axes>"
      ]
     },
     "metadata": {
      "needs_background": "light"
     },
     "output_type": "display_data"
    }
   ],
   "source": [
    "plt.figure(figsize=(12,8))\n",
    "\n",
    "tree.plot_tree(model.fit(X_train, y_train)) "
   ]
  },
  {
   "cell_type": "code",
   "execution_count": 37,
   "id": "d6d1321c",
   "metadata": {},
   "outputs": [
    {
     "data": {
      "text/plain": [
       "array([[198,  11],\n",
       "       [ 71,  20]], dtype=int64)"
      ]
     },
     "execution_count": 37,
     "metadata": {},
     "output_type": "execute_result"
    }
   ],
   "source": [
    "#print the Confusion Matrix and slice it into four pieces\n",
    "from sklearn.metrics import confusion_matrix\n",
    "cm_model = confusion_matrix(y_test, y_pred_test)\n",
    "cm_model"
   ]
  },
  {
   "cell_type": "code",
   "execution_count": 38,
   "id": "f8ad1cf6",
   "metadata": {},
   "outputs": [
    {
     "name": "stdout",
     "output_type": "stream",
     "text": [
      "              precision    recall  f1-score   support\n",
      "\n",
      "           0       0.74      0.95      0.83       209\n",
      "           1       0.65      0.22      0.33        91\n",
      "\n",
      "    accuracy                           0.73       300\n",
      "   macro avg       0.69      0.58      0.58       300\n",
      "weighted avg       0.71      0.73      0.68       300\n",
      "\n"
     ]
    }
   ],
   "source": [
    "#print a classification report \n",
    "from sklearn.metrics import classification_report\n",
    "\n",
    "print(classification_report(y_test, y_pred_test))"
   ]
  },
  {
   "cell_type": "markdown",
   "id": "e3406a03",
   "metadata": {},
   "source": [
    "#### 8.b. Decision Tree Classifier with criterion entropy"
   ]
  },
  {
   "cell_type": "code",
   "execution_count": 39,
   "id": "3504ee9a",
   "metadata": {},
   "outputs": [
    {
     "data": {
      "text/plain": [
       "DecisionTreeClassifier(criterion='entropy', max_depth=3, random_state=0)"
      ]
     },
     "execution_count": 39,
     "metadata": {},
     "output_type": "execute_result"
    }
   ],
   "source": [
    "#instantiate the DecisionTreeClassifier model with criterion entropy\n",
    "model2 = DecisionTreeClassifier(criterion='entropy', max_depth=3, random_state=0)\n",
    "\n",
    "#fit the model\n",
    "model2.fit(X_train, y_train)"
   ]
  },
  {
   "cell_type": "code",
   "execution_count": 40,
   "id": "28185847",
   "metadata": {},
   "outputs": [],
   "source": [
    "#predict the Test set results with criterion entropy\n",
    "y_pred_model2_test = model2.predict(X_test)"
   ]
  },
  {
   "cell_type": "code",
   "execution_count": 41,
   "id": "ca3eb3b8",
   "metadata": {},
   "outputs": [
    {
     "data": {
      "text/plain": [
       "0.7166666666666667"
      ]
     },
     "execution_count": 41,
     "metadata": {},
     "output_type": "execute_result"
    }
   ],
   "source": [
    "#check test accuracy score \n",
    "accuracy_score(y_test, y_pred_model2_test)"
   ]
  },
  {
   "cell_type": "code",
   "execution_count": 42,
   "id": "163e2b9c",
   "metadata": {},
   "outputs": [
    {
     "data": {
      "text/plain": [
       "0.7414285714285714"
      ]
     },
     "execution_count": 42,
     "metadata": {},
     "output_type": "execute_result"
    }
   ],
   "source": [
    "#check train accuracy score\n",
    "y_pred_model2_train = model2.predict(X_train)\n",
    "accuracy_score(y_train, y_pred_model2_train)"
   ]
  },
  {
   "cell_type": "markdown",
   "id": "f2772605",
   "metadata": {},
   "source": [
    "We can see that the training-set score and test-set score is same as above. The training-set accuracy score is 74.14% while the test-set accuracy to be 71.67. These two values are quite comparable. So, there is no sign of overfitting."
   ]
  },
  {
   "cell_type": "code",
   "execution_count": 43,
   "id": "e996fff0",
   "metadata": {},
   "outputs": [
    {
     "data": {
      "text/plain": [
       "[Text(334.8, 380.52, 'X[13] <= 0.5\\nentropy = 0.88\\nsamples = 700\\nvalue = [491, 209]'),\n",
       " Text(167.4, 271.8, 'X[0] <= 33.0\\nentropy = 0.976\\nsamples = 425\\nvalue = [251, 174]'),\n",
       " Text(83.7, 163.07999999999998, 'X[1] <= 10975.5\\nentropy = 0.939\\nsamples = 343\\nvalue = [221, 122]'),\n",
       " Text(41.85, 54.360000000000014, 'entropy = 0.929\\nsamples = 337\\nvalue = [221, 116]'),\n",
       " Text(125.55000000000001, 54.360000000000014, 'entropy = 0.0\\nsamples = 6\\nvalue = [0, 6]'),\n",
       " Text(251.10000000000002, 163.07999999999998, 'X[34] <= 0.5\\nentropy = 0.947\\nsamples = 82\\nvalue = [30, 52]'),\n",
       " Text(209.25, 54.360000000000014, 'entropy = 0.983\\nsamples = 66\\nvalue = [28, 38]'),\n",
       " Text(292.95, 54.360000000000014, 'entropy = 0.544\\nsamples = 16\\nvalue = [2, 14]'),\n",
       " Text(502.20000000000005, 271.8, 'X[44] <= 0.5\\nentropy = 0.55\\nsamples = 275\\nvalue = [240, 35]'),\n",
       " Text(418.5, 163.07999999999998, 'X[21] <= 0.5\\nentropy = 0.887\\nsamples = 46\\nvalue = [32, 14]'),\n",
       " Text(376.65000000000003, 54.360000000000014, 'entropy = 0.974\\nsamples = 32\\nvalue = [19, 13]'),\n",
       " Text(460.35, 54.360000000000014, 'entropy = 0.371\\nsamples = 14\\nvalue = [13, 1]'),\n",
       " Text(585.9, 163.07999999999998, 'X[17] <= 0.5\\nentropy = 0.442\\nsamples = 229\\nvalue = [208, 21]'),\n",
       " Text(544.0500000000001, 54.360000000000014, 'entropy = 0.592\\nsamples = 133\\nvalue = [114, 19]'),\n",
       " Text(627.75, 54.360000000000014, 'entropy = 0.146\\nsamples = 96\\nvalue = [94, 2]')]"
      ]
     },
     "execution_count": 43,
     "metadata": {},
     "output_type": "execute_result"
    },
    {
     "data": {
      "image/png": "[encoded data removed]",
      "text/plain": [
       "<Figure size 864x576 with 1 Axes>"
      ]
     },
     "metadata": {
      "needs_background": "light"
     },
     "output_type": "display_data"
    }
   ],
   "source": [
    "#visualize decision-tree\n",
    "plt.figure(figsize=(12,8))\n",
    "tree.plot_tree(model2.fit(X_train, y_train))"
   ]
  },
  {
   "cell_type": "markdown",
   "id": "2ef1b337",
   "metadata": {},
   "source": [
    "Now, based on the above analysis we can conclude that our classification model accuracy is very good. Our model is doing a very good job in terms of predicting the class labels.\n",
    "\n",
    "But, it does not give the underlying distribution of values. Also, it does not tell anything about the type of errors our classifer is making.\n",
    "\n",
    "We have another tool called Confusion matrix that comes to our rescue."
   ]
  },
  {
   "cell_type": "markdown",
   "id": "c14b07ff",
   "metadata": {},
   "source": [
    "#### Confusion matrix"
   ]
  },
  {
   "cell_type": "code",
   "execution_count": 44,
   "id": "b6c26533",
   "metadata": {},
   "outputs": [
    {
     "data": {
      "text/plain": [
       "array([[195,  14],\n",
       "       [ 71,  20]], dtype=int64)"
      ]
     },
     "execution_count": 44,
     "metadata": {},
     "output_type": "execute_result"
    }
   ],
   "source": [
    "#print the Confusion Matrix and slice it into four pieces\n",
    "from sklearn.metrics import confusion_matrix\n",
    "cm_model2 = confusion_matrix(y_test, y_pred_model2_test)\n",
    "cm_model2"
   ]
  },
  {
   "cell_type": "code",
   "execution_count": 45,
   "id": "c320c3a4",
   "metadata": {},
   "outputs": [
    {
     "name": "stdout",
     "output_type": "stream",
     "text": [
      "              precision    recall  f1-score   support\n",
      "\n",
      "           0       0.73      0.93      0.82       209\n",
      "           1       0.59      0.22      0.32        91\n",
      "\n",
      "    accuracy                           0.72       300\n",
      "   macro avg       0.66      0.58      0.57       300\n",
      "weighted avg       0.69      0.72      0.67       300\n",
      "\n"
     ]
    }
   ],
   "source": [
    "#print a classification report \n",
    "from sklearn.metrics import classification_report\n",
    "\n",
    "print(classification_report(y_test, y_pred_model2_test))"
   ]
  },
  {
   "cell_type": "markdown",
   "id": "5a2948e2",
   "metadata": {},
   "source": [
    "### Hyper-parameter tuning"
   ]
  },
  {
   "cell_type": "code",
   "execution_count": 46,
   "id": "c843718a",
   "metadata": {},
   "outputs": [],
   "source": [
    "dt = DecisionTreeClassifier(random_state=42)"
   ]
  },
  {
   "cell_type": "markdown",
   "id": "c27d95a2",
   "metadata": {},
   "source": [
    "#### from sklearn.model_selection import GridSearchCV"
   ]
  },
  {
   "cell_type": "code",
   "execution_count": 47,
   "id": "e949fa06",
   "metadata": {},
   "outputs": [],
   "source": [
    "# Create the parameter grid based on the results of random search \n",
    "params = {\n",
    "    'max_depth': [2, 3, 5, 10, 20],\n",
    "    'min_samples_leaf': [5, 10, 20, 50, 100],\n",
    "    'criterion': [\"gini\", \"entropy\"]\n",
    "}"
   ]
  },
  {
   "cell_type": "code",
   "execution_count": 48,
   "id": "f8fa1378",
   "metadata": {},
   "outputs": [],
   "source": [
    "# Instantiate the grid search model\n",
    "grid_search = GridSearchCV(estimator=dt, \n",
    "                           param_grid=params, \n",
    "                           cv=4, n_jobs=-1, verbose=1, scoring = \"accuracy\")"
   ]
  },
  {
   "cell_type": "code",
   "execution_count": 49,
   "id": "81060b36",
   "metadata": {},
   "outputs": [
    {
     "name": "stdout",
     "output_type": "stream",
     "text": [
      "Fitting 4 folds for each of 50 candidates, totalling 200 fits\n"
     ]
    },
    {
     "data": {
      "text/plain": [
       "GridSearchCV(cv=4, estimator=DecisionTreeClassifier(random_state=42), n_jobs=-1,\n",
       "             param_grid={'criterion': ['gini', 'entropy'],\n",
       "                         'max_depth': [2, 3, 5, 10, 20],\n",
       "                         'min_samples_leaf': [5, 10, 20, 50, 100]},\n",
       "             scoring='accuracy', verbose=1)"
      ]
     },
     "execution_count": 49,
     "metadata": {},
     "output_type": "execute_result"
    }
   ],
   "source": [
    "grid_search.fit(X_train, y_train)"
   ]
  },
  {
   "cell_type": "code",
   "execution_count": 50,
   "id": "3d358746",
   "metadata": {},
   "outputs": [
    {
     "data": {
      "text/html": [
       "<div>\n",
       "<style scoped>\n",
       "    .dataframe tbody tr th:only-of-type {\n",
       "        vertical-align: middle;\n",
       "    }\n",
       "\n",
       "    .dataframe tbody tr th {\n",
       "        vertical-align: top;\n",
       "    }\n",
       "\n",
       "    .dataframe thead th {\n",
       "        text-align: right;\n",
       "    }\n",
       "</style>\n",
       "<table border=\"1\" class=\"dataframe\">\n",
       "  <thead>\n",
       "    <tr style=\"text-align: right;\">\n",
       "      <th></th>\n",
       "      <th>mean_fit_time</th>\n",
       "      <th>std_fit_time</th>\n",
       "      <th>mean_score_time</th>\n",
       "      <th>std_score_time</th>\n",
       "      <th>param_criterion</th>\n",
       "      <th>param_max_depth</th>\n",
       "      <th>param_min_samples_leaf</th>\n",
       "      <th>params</th>\n",
       "      <th>split0_test_score</th>\n",
       "      <th>split1_test_score</th>\n",
       "      <th>split2_test_score</th>\n",
       "      <th>split3_test_score</th>\n",
       "      <th>mean_test_score</th>\n",
       "      <th>std_test_score</th>\n",
       "      <th>rank_test_score</th>\n",
       "    </tr>\n",
       "  </thead>\n",
       "  <tbody>\n",
       "    <tr>\n",
       "      <th>0</th>\n",
       "      <td>0.006732</td>\n",
       "      <td>0.000432</td>\n",
       "      <td>0.003990</td>\n",
       "      <td>2.598106e-07</td>\n",
       "      <td>gini</td>\n",
       "      <td>2</td>\n",
       "      <td>5</td>\n",
       "      <td>{'criterion': 'gini', 'max_depth': 2, 'min_sam...</td>\n",
       "      <td>0.725714</td>\n",
       "      <td>0.634286</td>\n",
       "      <td>0.725714</td>\n",
       "      <td>0.737143</td>\n",
       "      <td>0.705714</td>\n",
       "      <td>0.041502</td>\n",
       "      <td>22</td>\n",
       "    </tr>\n",
       "    <tr>\n",
       "      <th>1</th>\n",
       "      <td>0.008228</td>\n",
       "      <td>0.001635</td>\n",
       "      <td>0.003989</td>\n",
       "      <td>7.053698e-04</td>\n",
       "      <td>gini</td>\n",
       "      <td>2</td>\n",
       "      <td>10</td>\n",
       "      <td>{'criterion': 'gini', 'max_depth': 2, 'min_sam...</td>\n",
       "      <td>0.725714</td>\n",
       "      <td>0.634286</td>\n",
       "      <td>0.742857</td>\n",
       "      <td>0.737143</td>\n",
       "      <td>0.710000</td>\n",
       "      <td>0.044147</td>\n",
       "      <td>14</td>\n",
       "    </tr>\n",
       "    <tr>\n",
       "      <th>2</th>\n",
       "      <td>0.007479</td>\n",
       "      <td>0.000497</td>\n",
       "      <td>0.003491</td>\n",
       "      <td>4.985333e-04</td>\n",
       "      <td>gini</td>\n",
       "      <td>2</td>\n",
       "      <td>20</td>\n",
       "      <td>{'criterion': 'gini', 'max_depth': 2, 'min_sam...</td>\n",
       "      <td>0.725714</td>\n",
       "      <td>0.634286</td>\n",
       "      <td>0.742857</td>\n",
       "      <td>0.737143</td>\n",
       "      <td>0.710000</td>\n",
       "      <td>0.044147</td>\n",
       "      <td>14</td>\n",
       "    </tr>\n",
       "    <tr>\n",
       "      <th>3</th>\n",
       "      <td>0.006234</td>\n",
       "      <td>0.000827</td>\n",
       "      <td>0.003494</td>\n",
       "      <td>5.026118e-04</td>\n",
       "      <td>gini</td>\n",
       "      <td>2</td>\n",
       "      <td>50</td>\n",
       "      <td>{'criterion': 'gini', 'max_depth': 2, 'min_sam...</td>\n",
       "      <td>0.725714</td>\n",
       "      <td>0.634286</td>\n",
       "      <td>0.742857</td>\n",
       "      <td>0.737143</td>\n",
       "      <td>0.710000</td>\n",
       "      <td>0.044147</td>\n",
       "      <td>14</td>\n",
       "    </tr>\n",
       "    <tr>\n",
       "      <th>4</th>\n",
       "      <td>0.006728</td>\n",
       "      <td>0.001298</td>\n",
       "      <td>0.003741</td>\n",
       "      <td>4.328169e-04</td>\n",
       "      <td>gini</td>\n",
       "      <td>2</td>\n",
       "      <td>100</td>\n",
       "      <td>{'criterion': 'gini', 'max_depth': 2, 'min_sam...</td>\n",
       "      <td>0.737143</td>\n",
       "      <td>0.634286</td>\n",
       "      <td>0.748571</td>\n",
       "      <td>0.754286</td>\n",
       "      <td>0.718571</td>\n",
       "      <td>0.049052</td>\n",
       "      <td>1</td>\n",
       "    </tr>\n",
       "  </tbody>\n",
       "</table>\n",
       "</div>"
      ],
      "text/plain": [
       "   mean_fit_time  std_fit_time  mean_score_time  std_score_time param_criterion param_max_depth param_min_samples_leaf                                             params  split0_test_score  split1_test_score  split2_test_score  split3_test_score  mean_test_score  std_test_score  rank_test_score\n",
       "0       0.006732      0.000432         0.003990    2.598106e-07            gini               2                      5  {'criterion': 'gini', 'max_depth': 2, 'min_sam...           0.725714           0.634286           0.725714           0.737143         0.705714        0.041502               22\n",
       "1       0.008228      0.001635         0.003989    7.053698e-04            gini               2                     10  {'criterion': 'gini', 'max_depth': 2, 'min_sam...           0.725714           0.634286           0.742857           0.737143         0.710000        0.044147               14\n",
       "2       0.007479      0.000497         0.003491    4.985333e-04            gini               2                     20  {'criterion': 'gini', 'max_depth': 2, 'min_sam...           0.725714           0.634286           0.742857           0.737143         0.710000        0.044147               14\n",
       "3       0.006234      0.000827         0.003494    5.026118e-04            gini               2                     50  {'criterion': 'gini', 'max_depth': 2, 'min_sam...           0.725714           0.634286           0.742857           0.737143         0.710000        0.044147               14\n",
       "4       0.006728      0.001298         0.003741    4.328169e-04            gini               2                    100  {'criterion': 'gini', 'max_depth': 2, 'min_sam...           0.737143           0.634286           0.748571           0.754286         0.718571        0.049052                1"
      ]
     },
     "execution_count": 50,
     "metadata": {},
     "output_type": "execute_result"
    }
   ],
   "source": [
    "score_df = pd.DataFrame(grid_search.cv_results_)\n",
    "score_df.head()"
   ]
  },
  {
   "cell_type": "code",
   "execution_count": 51,
   "id": "8a22d389",
   "metadata": {},
   "outputs": [
    {
     "data": {
      "text/html": [
       "<div>\n",
       "<style scoped>\n",
       "    .dataframe tbody tr th:only-of-type {\n",
       "        vertical-align: middle;\n",
       "    }\n",
       "\n",
       "    .dataframe tbody tr th {\n",
       "        vertical-align: top;\n",
       "    }\n",
       "\n",
       "    .dataframe thead th {\n",
       "        text-align: right;\n",
       "    }\n",
       "</style>\n",
       "<table border=\"1\" class=\"dataframe\">\n",
       "  <thead>\n",
       "    <tr style=\"text-align: right;\">\n",
       "      <th></th>\n",
       "      <th>mean_fit_time</th>\n",
       "      <th>std_fit_time</th>\n",
       "      <th>mean_score_time</th>\n",
       "      <th>std_score_time</th>\n",
       "      <th>param_criterion</th>\n",
       "      <th>param_max_depth</th>\n",
       "      <th>param_min_samples_leaf</th>\n",
       "      <th>params</th>\n",
       "      <th>split0_test_score</th>\n",
       "      <th>split1_test_score</th>\n",
       "      <th>split2_test_score</th>\n",
       "      <th>split3_test_score</th>\n",
       "      <th>mean_test_score</th>\n",
       "      <th>std_test_score</th>\n",
       "      <th>rank_test_score</th>\n",
       "    </tr>\n",
       "  </thead>\n",
       "  <tbody>\n",
       "    <tr>\n",
       "      <th>4</th>\n",
       "      <td>0.006728</td>\n",
       "      <td>0.001298</td>\n",
       "      <td>0.003741</td>\n",
       "      <td>0.000433</td>\n",
       "      <td>gini</td>\n",
       "      <td>2</td>\n",
       "      <td>100</td>\n",
       "      <td>{'criterion': 'gini', 'max_depth': 2, 'min_sam...</td>\n",
       "      <td>0.737143</td>\n",
       "      <td>0.634286</td>\n",
       "      <td>0.748571</td>\n",
       "      <td>0.754286</td>\n",
       "      <td>0.718571</td>\n",
       "      <td>0.049052</td>\n",
       "      <td>1</td>\n",
       "    </tr>\n",
       "    <tr>\n",
       "      <th>9</th>\n",
       "      <td>0.004737</td>\n",
       "      <td>0.002159</td>\n",
       "      <td>0.003515</td>\n",
       "      <td>0.003385</td>\n",
       "      <td>gini</td>\n",
       "      <td>3</td>\n",
       "      <td>100</td>\n",
       "      <td>{'criterion': 'gini', 'max_depth': 3, 'min_sam...</td>\n",
       "      <td>0.737143</td>\n",
       "      <td>0.634286</td>\n",
       "      <td>0.748571</td>\n",
       "      <td>0.754286</td>\n",
       "      <td>0.718571</td>\n",
       "      <td>0.049052</td>\n",
       "      <td>1</td>\n",
       "    </tr>\n",
       "    <tr>\n",
       "      <th>14</th>\n",
       "      <td>0.001011</td>\n",
       "      <td>0.001011</td>\n",
       "      <td>0.008550</td>\n",
       "      <td>0.000874</td>\n",
       "      <td>gini</td>\n",
       "      <td>5</td>\n",
       "      <td>100</td>\n",
       "      <td>{'criterion': 'gini', 'max_depth': 5, 'min_sam...</td>\n",
       "      <td>0.737143</td>\n",
       "      <td>0.634286</td>\n",
       "      <td>0.748571</td>\n",
       "      <td>0.754286</td>\n",
       "      <td>0.718571</td>\n",
       "      <td>0.049052</td>\n",
       "      <td>1</td>\n",
       "    </tr>\n",
       "    <tr>\n",
       "      <th>19</th>\n",
       "      <td>0.006030</td>\n",
       "      <td>0.004014</td>\n",
       "      <td>0.000000</td>\n",
       "      <td>0.000000</td>\n",
       "      <td>gini</td>\n",
       "      <td>10</td>\n",
       "      <td>100</td>\n",
       "      <td>{'criterion': 'gini', 'max_depth': 10, 'min_sa...</td>\n",
       "      <td>0.737143</td>\n",
       "      <td>0.634286</td>\n",
       "      <td>0.748571</td>\n",
       "      <td>0.754286</td>\n",
       "      <td>0.718571</td>\n",
       "      <td>0.049052</td>\n",
       "      <td>1</td>\n",
       "    </tr>\n",
       "    <tr>\n",
       "      <th>24</th>\n",
       "      <td>0.004525</td>\n",
       "      <td>0.003586</td>\n",
       "      <td>0.003016</td>\n",
       "      <td>0.003006</td>\n",
       "      <td>gini</td>\n",
       "      <td>20</td>\n",
       "      <td>100</td>\n",
       "      <td>{'criterion': 'gini', 'max_depth': 20, 'min_sa...</td>\n",
       "      <td>0.737143</td>\n",
       "      <td>0.634286</td>\n",
       "      <td>0.748571</td>\n",
       "      <td>0.754286</td>\n",
       "      <td>0.718571</td>\n",
       "      <td>0.049052</td>\n",
       "      <td>1</td>\n",
       "    </tr>\n",
       "  </tbody>\n",
       "</table>\n",
       "</div>"
      ],
      "text/plain": [
       "    mean_fit_time  std_fit_time  mean_score_time  std_score_time param_criterion param_max_depth param_min_samples_leaf                                             params  split0_test_score  split1_test_score  split2_test_score  split3_test_score  mean_test_score  std_test_score  rank_test_score\n",
       "4        0.006728      0.001298         0.003741        0.000433            gini               2                    100  {'criterion': 'gini', 'max_depth': 2, 'min_sam...           0.737143           0.634286           0.748571           0.754286         0.718571        0.049052                1\n",
       "9        0.004737      0.002159         0.003515        0.003385            gini               3                    100  {'criterion': 'gini', 'max_depth': 3, 'min_sam...           0.737143           0.634286           0.748571           0.754286         0.718571        0.049052                1\n",
       "14       0.001011      0.001011         0.008550        0.000874            gini               5                    100  {'criterion': 'gini', 'max_depth': 5, 'min_sam...           0.737143           0.634286           0.748571           0.754286         0.718571        0.049052                1\n",
       "19       0.006030      0.004014         0.000000        0.000000            gini              10                    100  {'criterion': 'gini', 'max_depth': 10, 'min_sa...           0.737143           0.634286           0.748571           0.754286         0.718571        0.049052                1\n",
       "24       0.004525      0.003586         0.003016        0.003006            gini              20                    100  {'criterion': 'gini', 'max_depth': 20, 'min_sa...           0.737143           0.634286           0.748571           0.754286         0.718571        0.049052                1"
      ]
     },
     "execution_count": 51,
     "metadata": {},
     "output_type": "execute_result"
    }
   ],
   "source": [
    "score_df.nlargest(5,\"mean_test_score\")"
   ]
  },
  {
   "cell_type": "code",
   "execution_count": 59,
   "id": "e102ed27",
   "metadata": {},
   "outputs": [
    {
     "data": {
      "text/plain": [
       "DecisionTreeClassifier(max_depth=2, min_samples_leaf=100, random_state=42)"
      ]
     },
     "execution_count": 59,
     "metadata": {},
     "output_type": "execute_result"
    }
   ],
   "source": [
    "dt_best =grid_search.best_estimator_\n",
    "dt_best"
   ]
  },
  {
   "cell_type": "code",
   "execution_count": 60,
   "id": "9426a90f",
   "metadata": {},
   "outputs": [
    {
     "data": {
      "text/plain": [
       "{'criterion': 'gini', 'max_depth': 2, 'min_samples_leaf': 100}"
      ]
     },
     "execution_count": 60,
     "metadata": {},
     "output_type": "execute_result"
    }
   ],
   "source": [
    "grid_search.best_params_"
   ]
  },
  {
   "cell_type": "code",
   "execution_count": 58,
   "id": "f3ce7f06",
   "metadata": {},
   "outputs": [
    {
     "data": {
      "text/plain": [
       "0.7185714285714285"
      ]
     },
     "execution_count": 58,
     "metadata": {},
     "output_type": "execute_result"
    }
   ],
   "source": [
    "y_pred_best_train = dt_best.predict(X_train)\n",
    "accuracy_score(y_train, y_pred_best_train)"
   ]
  },
  {
   "cell_type": "code",
   "execution_count": 53,
   "id": "d1314724",
   "metadata": {},
   "outputs": [
    {
     "data": {
      "text/plain": [
       "0.72"
      ]
     },
     "execution_count": 53,
     "metadata": {},
     "output_type": "execute_result"
    }
   ],
   "source": [
    "y_pred_best_test = dt_best.predict(X_test)\n",
    "accuracy_score(y_test, y_pred_best_test)"
   ]
  },
  {
   "cell_type": "code",
   "execution_count": 55,
   "id": "ead7c014",
   "metadata": {},
   "outputs": [
    {
     "name": "stdout",
     "output_type": "stream",
     "text": [
      "              precision    recall  f1-score   support\n",
      "\n",
      "           0       0.77      0.85      0.81       209\n",
      "           1       0.55      0.43      0.48        91\n",
      "\n",
      "    accuracy                           0.72       300\n",
      "   macro avg       0.66      0.64      0.64       300\n",
      "weighted avg       0.71      0.72      0.71       300\n",
      "\n"
     ]
    }
   ],
   "source": [
    "print(classification_report(y_test,y_pred_best_test))"
   ]
  },
  {
   "cell_type": "code",
   "execution_count": 56,
   "id": "8fa53299",
   "metadata": {},
   "outputs": [
    {
     "name": "stdout",
     "output_type": "stream",
     "text": [
      "[[177  32]\n",
      " [ 52  39]]\n"
     ]
    }
   ],
   "source": [
    "cm_best = confusion_matrix(y_test, y_pred_best_test)\n",
    "print(cm_best)"
   ]
  },
  {
   "cell_type": "code",
   "execution_count": 57,
   "id": "b17aa5ed",
   "metadata": {},
   "outputs": [
    {
     "data": {
      "text/plain": [
       "[Text(334.8, 362.4, 'X[13] <= 0.5\\ngini = 0.419\\nsamples = 700\\nvalue = [491, 209]'),\n",
       " Text(167.4, 217.44, 'X[0] <= 22.5\\ngini = 0.484\\nsamples = 425\\nvalue = [251, 174]'),\n",
       " Text(83.7, 72.47999999999996, 'gini = 0.431\\nsamples = 239\\nvalue = [164, 75]'),\n",
       " Text(251.10000000000002, 72.47999999999996, 'gini = 0.498\\nsamples = 186\\nvalue = [87, 99]'),\n",
       " Text(502.20000000000005, 217.44, 'X[17] <= 0.5\\ngini = 0.222\\nsamples = 275\\nvalue = [240, 35]'),\n",
       " Text(418.5, 72.47999999999996, 'gini = 0.282\\nsamples = 165\\nvalue = [137, 28]'),\n",
       " Text(585.9, 72.47999999999996, 'gini = 0.119\\nsamples = 110\\nvalue = [103, 7]')]"
      ]
     },
     "execution_count": 57,
     "metadata": {},
     "output_type": "execute_result"
    },
    {
     "data": {
      "image/png": "[encoded data removed]",
      "text/plain": [
       "<Figure size 864x576 with 1 Axes>"
      ]
     },
     "metadata": {
      "needs_background": "light"
     },
     "output_type": "display_data"
    }
   ],
   "source": [
    "#visualize decision-trees\n",
    "plt.figure(figsize=(12,8))\n",
    "tree.plot_tree(dt_best.fit(X_train, y_train))\n"
   ]
  },
  {
   "cell_type": "markdown",
   "id": "dac9c42e",
   "metadata": {},
   "source": [
    "### Conclusion"
   ]
  },
  {
   "cell_type": "markdown",
   "id": "fcffa1f3",
   "metadata": {},
   "source": [
    "We have built a base decision tree with training accuracy of 71.6% and test accuracy of 74.7%.\n",
    "\n",
    "After hyper-tuning, we have found the best parameters to be {'criterion': 'gini', 'max_depth': 2, 'min_samples_leaf': 100}.\n",
    "\n",
    "And the resulting tuned model gave us a training accuracy of 71.85% and testing accuracy of 72%. "
   ]
  }
 ],
 "metadata": {
  "kernelspec": {
   "display_name": "Python 3",
   "language": "python",
   "name": "python3"
  },
  "language_info": {
   "codemirror_mode": {
    "name": "ipython",
    "version": 3
   },
   "file_extension": ".py",
   "mimetype": "text/x-python",
   "name": "python",
   "nbconvert_exporter": "python",
   "pygments_lexer": "ipython3",
   "version": "3.8.3"
  }
 },
 "nbformat": 4,
 "nbformat_minor": 5
}
